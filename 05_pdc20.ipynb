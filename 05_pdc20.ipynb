{
 "cells": [
  {
   "cell_type": "code",
   "execution_count": null,
   "id": "d86e0eca",
   "metadata": {},
   "outputs": [],
   "source": [
    "#defaults pdc20"
   ]
  },
  {
   "cell_type": "markdown",
   "id": "e50aff05",
   "metadata": {},
   "source": [
    "# PDC 2020 Analysis\n",
    ">  Includes the analysis for the PDC 2020 event logs."
   ]
  },
  {
   "cell_type": "code",
   "execution_count": null,
   "id": "e9cda92a",
   "metadata": {},
   "outputs": [],
   "source": [
    "%load_ext autoreload\n",
    "%autoreload 2\n",
    "%matplotlib inline"
   ]
  }
 ],
 "metadata": {
  "kernelspec": {
   "display_name": "Python 3",
   "language": "python",
   "name": "python3"
  }
 },
 "nbformat": 4,
 "nbformat_minor": 5
}
