{
 "cells": [
  {
   "cell_type": "code",
   "execution_count": null,
   "id": "79215c33",
   "metadata": {},
   "outputs": [],
   "source": [
    "#defaults anomaly"
   ]
  },
  {
   "cell_type": "markdown",
   "id": "dbac30d7",
   "metadata": {},
   "source": [
    "# Anomaly Detection Model\n",
    "\n",
    ">  Includes the anomaly detection algorithm, i.e. the prediction model, the loss functions and the anomaly score calculation and classification, as well as the metric computation."
   ]
  },
  {
   "cell_type": "code",
   "execution_count": null,
   "id": "dc358b60",
   "metadata": {},
   "outputs": [],
   "source": [
    "%load_ext autoreload\n",
    "%autoreload 2\n",
    "%matplotlib inline"
   ]
  }
 ],
 "metadata": {
  "kernelspec": {
   "display_name": "mppn",
   "language": "python",
   "name": "mppn"
  }
 },
 "nbformat": 4,
 "nbformat_minor": 5
}
