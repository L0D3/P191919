{
 "cells": [
  {
   "cell_type": "markdown",
   "id": "dbac30d7",
   "metadata": {},
   "source": [
    "# Anomaly Detection Model\n",
    ">  Includes the anomaly detection algorithm, i.e. the prediction model, the loss functions and the anomaly score calculation and classification, as well as the metric computation."
   ]
  },
  {
   "cell_type": "markdown",
   "id": "9e2b119a",
   "metadata": {},
   "source": [
    "<h1>Table of Contents<span class=\"tocSkip\"></span></h1>\n",
    "<div class=\"toc\"><ul class=\"toc-item\"><li><span><a href=\"#Only-Control-flow\" data-toc-modified-id=\"Only-Control-flow-1\"><span class=\"toc-item-num\">1&nbsp;&nbsp;</span>Only Control-flow</a></span><ul class=\"toc-item\"><li><span><a href=\"#Load-Log\" data-toc-modified-id=\"Load-Log-1.1\"><span class=\"toc-item-num\">1.1&nbsp;&nbsp;</span>Load Log</a></span></li><li><span><a href=\"#Create-PPObj-with-vocab-and-dataloaders\" data-toc-modified-id=\"Create-PPObj-with-vocab-and-dataloaders-1.2\"><span class=\"toc-item-num\">1.2&nbsp;&nbsp;</span>Create PPObj with vocab and dataloaders</a></span></li><li><span><a href=\"#Define-Deep-Learning-Model\" data-toc-modified-id=\"Define-Deep-Learning-Model-1.3\"><span class=\"toc-item-num\">1.3&nbsp;&nbsp;</span>Define Deep Learning Model</a></span></li><li><span><a href=\"#Define-Training-Loop-and-Helper-Functions\" data-toc-modified-id=\"Define-Training-Loop-and-Helper-Functions-1.4\"><span class=\"toc-item-num\">1.4&nbsp;&nbsp;</span>Define Training Loop and Helper Functions</a></span></li><li><span><a href=\"#Train-prediction-model\" data-toc-modified-id=\"Train-prediction-model-1.5\"><span class=\"toc-item-num\">1.5&nbsp;&nbsp;</span>Train prediction model</a></span></li><li><span><a href=\"#Load-Test-Data\" data-toc-modified-id=\"Load-Test-Data-1.6\"><span class=\"toc-item-num\">1.6&nbsp;&nbsp;</span>Load Test Data</a></span></li><li><span><a href=\"#Create-PPOBJ-of-test-data-with-same-vocab\" data-toc-modified-id=\"Create-PPOBJ-of-test-data-with-same-vocab-1.7\"><span class=\"toc-item-num\">1.7&nbsp;&nbsp;</span>Create PPOBJ of test data with same vocab</a></span></li><li><span><a href=\"#Apply-Prediction-Model\" data-toc-modified-id=\"Apply-Prediction-Model-1.8\"><span class=\"toc-item-num\">1.8&nbsp;&nbsp;</span>Apply Prediction Model</a></span></li><li><span><a href=\"#Calculate-Anomaly-Score\" data-toc-modified-id=\"Calculate-Anomaly-Score-1.9\"><span class=\"toc-item-num\">1.9&nbsp;&nbsp;</span>Calculate Anomaly Score</a></span></li><li><span><a href=\"#Classify-Anomalies-based-of-Threshhold,-get-predictions-and-ground-truth,-compute-a-few-metrics\" data-toc-modified-id=\"Classify-Anomalies-based-of-Threshhold,-get-predictions-and-ground-truth,-compute-a-few-metrics-1.10\"><span class=\"toc-item-num\">1.10&nbsp;&nbsp;</span>Classify Anomalies based of Threshhold, get predictions and ground truth, compute a few metrics</a></span></li><li><span><a href=\"#Get-NSP-Accuracy-on-Inrference\" data-toc-modified-id=\"Get-NSP-Accuracy-on-Inrference-1.11\"><span class=\"toc-item-num\">1.11&nbsp;&nbsp;</span>Get NSP Accuracy on Inrference</a></span></li></ul></li><li><span><a href=\"#Multivariate-Anomaly-Detection\" data-toc-modified-id=\"Multivariate-Anomaly-Detection-2\"><span class=\"toc-item-num\">2&nbsp;&nbsp;</span>Multivariate Anomaly Detection</a></span><ul class=\"toc-item\"><li><span><a href=\"#Load-Event-Log:\" data-toc-modified-id=\"Load-Event-Log:-2.1\"><span class=\"toc-item-num\">2.1&nbsp;&nbsp;</span>Load Event Log:</a></span></li><li><span><a href=\"#Create-Training-Data-Loaders-and-Vocab:\" data-toc-modified-id=\"Create-Training-Data-Loaders-and-Vocab:-2.2\"><span class=\"toc-item-num\">2.2&nbsp;&nbsp;</span>Create Training Data Loaders and Vocab:</a></span></li><li><span><a href=\"#Create-Multivariate-Prediction-Model\" data-toc-modified-id=\"Create-Multivariate-Prediction-Model-2.3\"><span class=\"toc-item-num\">2.3&nbsp;&nbsp;</span>Create Multivariate Prediction Model</a></span></li><li><span><a href=\"#Define-Multi-Loss-and--Metrics\" data-toc-modified-id=\"Define-Multi-Loss-and--Metrics-2.4\"><span class=\"toc-item-num\">2.4&nbsp;&nbsp;</span>Define Multi-Loss and -Metrics</a></span></li><li><span><a href=\"#Training-of-the-prediction-network\" data-toc-modified-id=\"Training-of-the-prediction-network-2.5\"><span class=\"toc-item-num\">2.5&nbsp;&nbsp;</span>Training of the prediction network</a></span></li><li><span><a href=\"#Load-Test-Log-for-Inference\" data-toc-modified-id=\"Load-Test-Log-for-Inference-2.6\"><span class=\"toc-item-num\">2.6&nbsp;&nbsp;</span>Load Test Log for Inference</a></span></li><li><span><a href=\"#Compute-Anomaly-Score\" data-toc-modified-id=\"Compute-Anomaly-Score-2.7\"><span class=\"toc-item-num\">2.7&nbsp;&nbsp;</span>Compute Anomaly Score</a></span></li><li><span><a href=\"#Anomaly-Classification\" data-toc-modified-id=\"Anomaly-Classification-2.8\"><span class=\"toc-item-num\">2.8&nbsp;&nbsp;</span>Anomaly Classification</a></span></li></ul></li><li><span><a href=\"#Plot-Anomaly-Scores-for-a-Trace\" data-toc-modified-id=\"Plot-Anomaly-Scores-for-a-Trace-3\"><span class=\"toc-item-num\">3&nbsp;&nbsp;</span>Plot Anomaly Scores for a Trace</a></span></li></ul></div>"
   ]
  },
  {
   "cell_type": "code",
   "execution_count": null,
   "id": "79215c33",
   "metadata": {},
   "outputs": [],
   "source": [
    "#default_exp anomaly"
   ]
  },
  {
   "cell_type": "code",
   "execution_count": null,
   "id": "dc358b60",
   "metadata": {},
   "outputs": [],
   "source": [
    "%load_ext autoreload\n",
    "%autoreload 2\n",
    "%matplotlib inline"
   ]
  },
  {
   "cell_type": "code",
   "execution_count": null,
   "id": "b0603fe6",
   "metadata": {},
   "outputs": [],
   "source": [
    "#export\n",
    "\n",
    "from dapnn.imports import *\n",
    "from dapnn.data_processing import *"
   ]
  },
  {
   "cell_type": "code",
   "execution_count": null,
   "id": "3769b901",
   "metadata": {},
   "outputs": [],
   "source": [
    "#export\n",
    "import warnings\n",
    "warnings.filterwarnings(action='once')"
   ]
  },
  {
   "cell_type": "code",
   "execution_count": null,
   "id": "d7c08ed1",
   "metadata": {},
   "outputs": [
    {
     "name": "stdout",
     "output_type": "stream",
     "text": [
      "Converted 03_anomaly.ipynb.\n"
     ]
    }
   ],
   "source": [
    "notebook2script(fname='03_anomaly.ipynb')"
   ]
  },
  {
   "cell_type": "markdown",
   "id": "a1b60692",
   "metadata": {},
   "source": [
    "## Only Control-flow "
   ]
  },
  {
   "cell_type": "markdown",
   "id": "2a9964cd",
   "metadata": {},
   "source": [
    "### Load Log"
   ]
  },
  {
   "cell_type": "code",
   "execution_count": null,
   "id": "6de18bea",
   "metadata": {},
   "outputs": [],
   "source": [
    "log_name='pdc_2020_0101100'"
   ]
  },
  {
   "cell_type": "code",
   "execution_count": null,
   "id": "c4594ac8",
   "metadata": {},
   "outputs": [
    {
     "data": {
      "text/html": [
       "<div>\n",
       "<style scoped>\n",
       "    .dataframe tbody tr th:only-of-type {\n",
       "        vertical-align: middle;\n",
       "    }\n",
       "\n",
       "    .dataframe tbody tr th {\n",
       "        vertical-align: top;\n",
       "    }\n",
       "\n",
       "    .dataframe thead th {\n",
       "        text-align: right;\n",
       "    }\n",
       "</style>\n",
       "<table border=\"1\" class=\"dataframe\">\n",
       "  <thead>\n",
       "    <tr style=\"text-align: right;\">\n",
       "      <th></th>\n",
       "      <th>activity</th>\n",
       "      <th>trace_id</th>\n",
       "      <th>event_id</th>\n",
       "    </tr>\n",
       "    <tr>\n",
       "      <th>trace_id</th>\n",
       "      <th></th>\n",
       "      <th></th>\n",
       "      <th></th>\n",
       "    </tr>\n",
       "  </thead>\n",
       "  <tbody>\n",
       "    <tr>\n",
       "      <th>trace 1</th>\n",
       "      <td>###start###</td>\n",
       "      <td>trace 1</td>\n",
       "      <td>0</td>\n",
       "    </tr>\n",
       "    <tr>\n",
       "      <th>trace 1</th>\n",
       "      <td>t31</td>\n",
       "      <td>trace 1</td>\n",
       "      <td>1</td>\n",
       "    </tr>\n",
       "    <tr>\n",
       "      <th>trace 1</th>\n",
       "      <td>t41</td>\n",
       "      <td>trace 1</td>\n",
       "      <td>2</td>\n",
       "    </tr>\n",
       "    <tr>\n",
       "      <th>trace 1</th>\n",
       "      <td>t26</td>\n",
       "      <td>trace 1</td>\n",
       "      <td>3</td>\n",
       "    </tr>\n",
       "    <tr>\n",
       "      <th>trace 1</th>\n",
       "      <td>t36</td>\n",
       "      <td>trace 1</td>\n",
       "      <td>4</td>\n",
       "    </tr>\n",
       "    <tr>\n",
       "      <th>trace 1</th>\n",
       "      <td>t44</td>\n",
       "      <td>trace 1</td>\n",
       "      <td>5</td>\n",
       "    </tr>\n",
       "    <tr>\n",
       "      <th>trace 1</th>\n",
       "      <td>t54</td>\n",
       "      <td>trace 1</td>\n",
       "      <td>6</td>\n",
       "    </tr>\n",
       "    <tr>\n",
       "      <th>trace 1</th>\n",
       "      <td>t33</td>\n",
       "      <td>trace 1</td>\n",
       "      <td>7</td>\n",
       "    </tr>\n",
       "    <tr>\n",
       "      <th>trace 1</th>\n",
       "      <td>t23</td>\n",
       "      <td>trace 1</td>\n",
       "      <td>8</td>\n",
       "    </tr>\n",
       "    <tr>\n",
       "      <th>trace 1</th>\n",
       "      <td>t65</td>\n",
       "      <td>trace 1</td>\n",
       "      <td>9</td>\n",
       "    </tr>\n",
       "    <tr>\n",
       "      <th>trace 1</th>\n",
       "      <td>t76</td>\n",
       "      <td>trace 1</td>\n",
       "      <td>10</td>\n",
       "    </tr>\n",
       "    <tr>\n",
       "      <th>trace 1</th>\n",
       "      <td>t21</td>\n",
       "      <td>trace 1</td>\n",
       "      <td>11</td>\n",
       "    </tr>\n",
       "    <tr>\n",
       "      <th>trace 1</th>\n",
       "      <td>t74</td>\n",
       "      <td>trace 1</td>\n",
       "      <td>12</td>\n",
       "    </tr>\n",
       "    <tr>\n",
       "      <th>trace 1</th>\n",
       "      <td>t32</td>\n",
       "      <td>trace 1</td>\n",
       "      <td>13</td>\n",
       "    </tr>\n",
       "    <tr>\n",
       "      <th>trace 1</th>\n",
       "      <td>t64</td>\n",
       "      <td>trace 1</td>\n",
       "      <td>14</td>\n",
       "    </tr>\n",
       "    <tr>\n",
       "      <th>trace 1</th>\n",
       "      <td>t41</td>\n",
       "      <td>trace 1</td>\n",
       "      <td>15</td>\n",
       "    </tr>\n",
       "    <tr>\n",
       "      <th>trace 1</th>\n",
       "      <td>t33</td>\n",
       "      <td>trace 1</td>\n",
       "      <td>16</td>\n",
       "    </tr>\n",
       "    <tr>\n",
       "      <th>trace 1</th>\n",
       "      <td>t23</td>\n",
       "      <td>trace 1</td>\n",
       "      <td>17</td>\n",
       "    </tr>\n",
       "    <tr>\n",
       "      <th>trace 1</th>\n",
       "      <td>t21</td>\n",
       "      <td>trace 1</td>\n",
       "      <td>18</td>\n",
       "    </tr>\n",
       "    <tr>\n",
       "      <th>trace 1</th>\n",
       "      <td>t32</td>\n",
       "      <td>trace 1</td>\n",
       "      <td>19</td>\n",
       "    </tr>\n",
       "  </tbody>\n",
       "</table>\n",
       "</div>"
      ],
      "text/plain": [
       "             activity trace_id event_id\n",
       "trace_id                               \n",
       "trace 1   ###start###  trace 1        0\n",
       "trace 1           t31  trace 1        1\n",
       "trace 1           t41  trace 1        2\n",
       "trace 1           t26  trace 1        3\n",
       "trace 1           t36  trace 1        4\n",
       "trace 1           t44  trace 1        5\n",
       "trace 1           t54  trace 1        6\n",
       "trace 1           t33  trace 1        7\n",
       "trace 1           t23  trace 1        8\n",
       "trace 1           t65  trace 1        9\n",
       "trace 1           t76  trace 1       10\n",
       "trace 1           t21  trace 1       11\n",
       "trace 1           t74  trace 1       12\n",
       "trace 1           t32  trace 1       13\n",
       "trace 1           t64  trace 1       14\n",
       "trace 1           t41  trace 1       15\n",
       "trace 1           t33  trace 1       16\n",
       "trace 1           t23  trace 1       17\n",
       "trace 1           t21  trace 1       18\n",
       "trace 1           t32  trace 1       19"
      ]
     },
     "execution_count": null,
     "metadata": {},
     "output_type": "execute_result"
    }
   ],
   "source": [
    "log = import_log(f'data/csv/PDC2020_training/{log_name}.csv.gz')\n",
    "log.head(20)"
   ]
  },
  {
   "cell_type": "markdown",
   "id": "37485d1b",
   "metadata": {},
   "source": [
    "### Create PPObj with vocab and dataloaders"
   ]
  },
  {
   "cell_type": "code",
   "execution_count": null,
   "id": "0bafdeec",
   "metadata": {},
   "outputs": [],
   "source": [
    "#export\n",
    "def training_dl(log,cat_names='activity',seed=45,ws=5,bs=32):\n",
    "    categorify=Categorify()\n",
    "\n",
    "    o=PPObj(log,procs=categorify,cat_names=cat_names,y_names=cat_names,splits=split_traces(log,test_seed=seed,validation_seed=seed))\n",
    "    dls=o.get_dls(windows=partial(windows_fast,ws=ws),bs=bs)\n",
    "    return o,dls,categorify\n",
    "\n"
   ]
  },
  {
   "cell_type": "code",
   "execution_count": null,
   "id": "1a160b35",
   "metadata": {},
   "outputs": [],
   "source": [
    "o,dls,categorify = training_dl(log)"
   ]
  },
  {
   "cell_type": "markdown",
   "id": "750664ba",
   "metadata": {},
   "source": [
    "### Define Deep Learning Model"
   ]
  },
  {
   "cell_type": "code",
   "execution_count": null,
   "id": "ff3450a3",
   "metadata": {},
   "outputs": [],
   "source": [
    "x,y= dls.one_batch()"
   ]
  },
  {
   "cell_type": "code",
   "execution_count": null,
   "id": "0888e219",
   "metadata": {},
   "outputs": [],
   "source": [
    "class ControlFlowModel(torch.nn.Module) :\n",
    "    def __init__(self, o) :\n",
    "        super().__init__()\n",
    "        hidden=25\n",
    "        vocab_act=len(o.procs.categorify['activity'])\n",
    "        emb_dim_act = int(np.sqrt(vocab_act))+1\n",
    "\n",
    "        self.emb_act = nn.Embedding(vocab_act,emb_dim_act)\n",
    "        \n",
    "        self.lstm_act = nn.LSTM(emb_dim_act, hidden, batch_first=True, num_layers=2)\n",
    "\n",
    "        self.linear_act = nn.Linear(hidden, vocab_act)\n",
    "\n",
    "    def forward(self, xcat):\n",
    "        xcat=xcat[:,0]\n",
    "        x_act=xcat\n",
    "        x_act = self.emb_act(x_act)\n",
    "        x_act,_ = self.lstm_act(x_act)\n",
    "        x_act = x_act[:,-1]\n",
    "        x_act = self.linear_act(x_act)\n",
    "        return x_act"
   ]
  },
  {
   "cell_type": "code",
   "execution_count": null,
   "id": "06460852",
   "metadata": {},
   "outputs": [],
   "source": [
    "m=ControlFlowModel(o)\n"
   ]
  },
  {
   "cell_type": "code",
   "execution_count": null,
   "id": "d8c918da",
   "metadata": {},
   "outputs": [],
   "source": [
    "pred=m(x.cpu())"
   ]
  },
  {
   "cell_type": "code",
   "execution_count": null,
   "id": "57c0785b",
   "metadata": {},
   "outputs": [
    {
     "data": {
      "text/plain": [
       "tensor([17, 21, 13,  8, 21, 11, 13, 23,  1, 16, 24,  1, 15,  9, 26, 14, 10, 24,\n",
       "        23, 11, 21, 24, 23,  3,  6, 21, 12, 24,  8,  6,  6, 13])"
      ]
     },
     "execution_count": null,
     "metadata": {},
     "output_type": "execute_result"
    }
   ],
   "source": [
    "y[0].cpu()"
   ]
  },
  {
   "cell_type": "code",
   "execution_count": null,
   "id": "22ca93e3",
   "metadata": {},
   "outputs": [],
   "source": [
    "squeeze_cross_entropy = lambda x,y:F.cross_entropy(x,y[0])\n",
    "squeeze_accuracy =lambda x,y:accuracy(x,y[0])\n"
   ]
  },
  {
   "cell_type": "code",
   "execution_count": null,
   "id": "f03a2b46",
   "metadata": {},
   "outputs": [
    {
     "data": {
      "text/plain": [
       "(tensor(3.2662, device='cuda:0', grad_fn=<NllLossBackward>),\n",
       " TensorBase(0.0312, device='cuda:0'))"
      ]
     },
     "execution_count": null,
     "metadata": {},
     "output_type": "execute_result"
    }
   ],
   "source": [
    "squeeze_cross_entropy(pred.cuda(),y),squeeze_accuracy(pred.cuda(),y)"
   ]
  },
  {
   "cell_type": "markdown",
   "id": "3e1731a2",
   "metadata": {},
   "source": [
    "### Define Training Loop and Helper Functions"
   ]
  },
  {
   "cell_type": "code",
   "execution_count": null,
   "id": "4f24ac6b",
   "metadata": {},
   "outputs": [],
   "source": [
    "#export\n",
    "class HideOutput:\n",
    "    'A utility function that hides all outputs in a context'\n",
    "    def __enter__(self):\n",
    "        self._original_stdout = sys.stdout\n",
    "        sys.stdout = open(os.devnull, 'w')\n",
    "\n",
    "    def __exit__(self, exc_type, exc_val, exc_tb):\n",
    "        sys.stdout.close()\n",
    "        sys.stdout = self._original_stdout"
   ]
  },
  {
   "cell_type": "code",
   "execution_count": null,
   "id": "04206c76",
   "metadata": {},
   "outputs": [],
   "source": [
    "#export\n",
    "def training_loop(learn,epoch,print_output,lr_find,fixed_learning_rate=0.01):\n",
    "    '''\n",
    "    Basic training loop that uses learning rate finder and one cycle training. \n",
    "    See fastai docs for more information\n",
    "    '''\n",
    "    if lr_find:\n",
    "        lr=np.median([learn.lr_find(show_plot=print_output)[0] for i in range(5)])\n",
    "        learn.fit_one_cycle(epoch,float(lr))\n",
    "    else: learn.fit(epoch,fixed_learning_rate)"
   ]
  },
  {
   "cell_type": "code",
   "execution_count": null,
   "id": "1784333a",
   "metadata": {},
   "outputs": [],
   "source": [
    "#export\n",
    "def train_validate(dls,m,metrics=accuracy,loss=F.cross_entropy,epoch=20,print_output=True,model_dir=\".\",lr_find=True,\n",
    "                   patience=5,min_delta=0.005,show_plot=True,store_path='tmp',model_name='.model'):\n",
    "    '''\n",
    "    Trains a model on the training set with early stopping based on the validation loss.\n",
    "    Afterwards, applies it to the test set.\n",
    "    '''\n",
    "    cbs = [\n",
    "      EarlyStoppingCallback(monitor='valid_loss',min_delta=min_delta, patience=patience),\n",
    "      SaveModelCallback(fname=model_name),\n",
    "      ]\n",
    "    learn=Learner(dls, m, path=store_path, model_dir=model_dir, loss_func=loss ,metrics=metrics,cbs=cbs)\n",
    "\n",
    "    if print_output:\n",
    "        training_loop(learn,epoch,show_plot,lr_find=lr_find)\n",
    "        return learn.validate(dl=dls[2])\n",
    "    else:\n",
    "        with HideOutput(),learn.no_bar(),learn.no_logging():\n",
    "            training_loop(learn,epoch,show_plot,lr_find=lr_find)\n",
    "            return learn.validate(dl=dls[2])"
   ]
  },
  {
   "cell_type": "markdown",
   "id": "d5c46c30",
   "metadata": {},
   "source": [
    "### Train prediction model"
   ]
  },
  {
   "cell_type": "code",
   "execution_count": null,
   "id": "d82488a2",
   "metadata": {},
   "outputs": [
    {
     "data": {
      "text/html": [],
      "text/plain": [
       "<IPython.core.display.HTML object>"
      ]
     },
     "metadata": {},
     "output_type": "display_data"
    },
    {
     "data": {
      "text/html": [],
      "text/plain": [
       "<IPython.core.display.HTML object>"
      ]
     },
     "metadata": {},
     "output_type": "display_data"
    },
    {
     "data": {
      "text/html": [],
      "text/plain": [
       "<IPython.core.display.HTML object>"
      ]
     },
     "metadata": {},
     "output_type": "display_data"
    },
    {
     "data": {
      "text/html": [],
      "text/plain": [
       "<IPython.core.display.HTML object>"
      ]
     },
     "metadata": {},
     "output_type": "display_data"
    },
    {
     "data": {
      "text/html": [],
      "text/plain": [
       "<IPython.core.display.HTML object>"
      ]
     },
     "metadata": {},
     "output_type": "display_data"
    },
    {
     "data": {
      "text/html": [
       "<table border=\"1\" class=\"dataframe\">\n",
       "  <thead>\n",
       "    <tr style=\"text-align: left;\">\n",
       "      <th>epoch</th>\n",
       "      <th>train_loss</th>\n",
       "      <th>valid_loss</th>\n",
       "      <th><lambda></th>\n",
       "      <th>time</th>\n",
       "    </tr>\n",
       "  </thead>\n",
       "  <tbody>\n",
       "    <tr>\n",
       "      <td>0</td>\n",
       "      <td>2.198070</td>\n",
       "      <td>2.040039</td>\n",
       "      <td>0.382626</td>\n",
       "      <td>00:06</td>\n",
       "    </tr>\n",
       "    <tr>\n",
       "      <td>1</td>\n",
       "      <td>1.438702</td>\n",
       "      <td>1.347889</td>\n",
       "      <td>0.498292</td>\n",
       "      <td>00:05</td>\n",
       "    </tr>\n",
       "    <tr>\n",
       "      <td>2</td>\n",
       "      <td>1.207558</td>\n",
       "      <td>1.151093</td>\n",
       "      <td>0.516349</td>\n",
       "      <td>00:05</td>\n",
       "    </tr>\n",
       "    <tr>\n",
       "      <td>3</td>\n",
       "      <td>1.163940</td>\n",
       "      <td>1.138804</td>\n",
       "      <td>0.495852</td>\n",
       "      <td>00:05</td>\n",
       "    </tr>\n",
       "    <tr>\n",
       "      <td>4</td>\n",
       "      <td>1.113219</td>\n",
       "      <td>1.103945</td>\n",
       "      <td>0.509029</td>\n",
       "      <td>00:05</td>\n",
       "    </tr>\n",
       "    <tr>\n",
       "      <td>5</td>\n",
       "      <td>1.114303</td>\n",
       "      <td>1.102395</td>\n",
       "      <td>0.510981</td>\n",
       "      <td>00:05</td>\n",
       "    </tr>\n",
       "    <tr>\n",
       "      <td>6</td>\n",
       "      <td>1.093438</td>\n",
       "      <td>1.097265</td>\n",
       "      <td>0.488043</td>\n",
       "      <td>00:05</td>\n",
       "    </tr>\n",
       "    <tr>\n",
       "      <td>7</td>\n",
       "      <td>1.056479</td>\n",
       "      <td>1.053188</td>\n",
       "      <td>0.504148</td>\n",
       "      <td>00:06</td>\n",
       "    </tr>\n",
       "    <tr>\n",
       "      <td>8</td>\n",
       "      <td>1.083565</td>\n",
       "      <td>1.046009</td>\n",
       "      <td>0.522694</td>\n",
       "      <td>00:05</td>\n",
       "    </tr>\n",
       "    <tr>\n",
       "      <td>9</td>\n",
       "      <td>1.035178</td>\n",
       "      <td>1.065885</td>\n",
       "      <td>0.510005</td>\n",
       "      <td>00:06</td>\n",
       "    </tr>\n",
       "    <tr>\n",
       "      <td>10</td>\n",
       "      <td>1.066811</td>\n",
       "      <td>1.022748</td>\n",
       "      <td>0.512445</td>\n",
       "      <td>00:05</td>\n",
       "    </tr>\n",
       "    <tr>\n",
       "      <td>11</td>\n",
       "      <td>1.014703</td>\n",
       "      <td>1.043475</td>\n",
       "      <td>0.501708</td>\n",
       "      <td>00:05</td>\n",
       "    </tr>\n",
       "    <tr>\n",
       "      <td>12</td>\n",
       "      <td>1.019611</td>\n",
       "      <td>1.042159</td>\n",
       "      <td>0.510981</td>\n",
       "      <td>00:05</td>\n",
       "    </tr>\n",
       "    <tr>\n",
       "      <td>13</td>\n",
       "      <td>1.006809</td>\n",
       "      <td>1.033655</td>\n",
       "      <td>0.520254</td>\n",
       "      <td>00:05</td>\n",
       "    </tr>\n",
       "    <tr>\n",
       "      <td>14</td>\n",
       "      <td>1.016628</td>\n",
       "      <td>1.025129</td>\n",
       "      <td>0.516349</td>\n",
       "      <td>00:05</td>\n",
       "    </tr>\n",
       "    <tr>\n",
       "      <td>15</td>\n",
       "      <td>1.012755</td>\n",
       "      <td>1.021596</td>\n",
       "      <td>0.523670</td>\n",
       "      <td>00:05</td>\n",
       "    </tr>\n",
       "  </tbody>\n",
       "</table>"
      ],
      "text/plain": [
       "<IPython.core.display.HTML object>"
      ]
     },
     "metadata": {},
     "output_type": "display_data"
    },
    {
     "name": "stderr",
     "output_type": "stream",
     "text": [
      "/home/lahann/miniconda3/envs/dapnn/lib/python3.8/site-packages/fastai/callback/schedule.py:72: UserWarning: This overload of nonzero is deprecated:\n",
      "\tnonzero()\n",
      "Consider using one of the following signatures instead:\n",
      "\tnonzero(*, bool as_tuple) (Triggered internally at  /opt/conda/conda-bld/pytorch_1607370172916/work/torch/csrc/utils/python_arg_parser.cpp:882.)\n",
      "  idx = min((pos >= pcts).nonzero().max(), pct_lim)\n"
     ]
    },
    {
     "name": "stdout",
     "output_type": "stream",
     "text": [
      "Better model found at epoch 0 with valid_loss value: 2.040038824081421.\n",
      "Better model found at epoch 1 with valid_loss value: 1.3478893041610718.\n",
      "Better model found at epoch 2 with valid_loss value: 1.1510932445526123.\n",
      "Better model found at epoch 3 with valid_loss value: 1.1388036012649536.\n",
      "Better model found at epoch 4 with valid_loss value: 1.103945255279541.\n",
      "Better model found at epoch 5 with valid_loss value: 1.1023954153060913.\n",
      "Better model found at epoch 6 with valid_loss value: 1.0972651243209839.\n",
      "Better model found at epoch 7 with valid_loss value: 1.0531877279281616.\n",
      "Better model found at epoch 8 with valid_loss value: 1.046008825302124.\n",
      "Better model found at epoch 10 with valid_loss value: 1.0227481126785278.\n",
      "Better model found at epoch 15 with valid_loss value: 1.0215957164764404.\n",
      "No improvement since epoch 10: early stopping\n"
     ]
    },
    {
     "data": {
      "text/html": [],
      "text/plain": [
       "<IPython.core.display.HTML object>"
      ]
     },
     "metadata": {},
     "output_type": "display_data"
    },
    {
     "name": "stdout",
     "output_type": "stream",
     "text": [
      "Better model found at epoch 0 with valid_loss value: 0.5259528756141663.\n"
     ]
    },
    {
     "data": {
      "image/png": "[encoded data removed]",
      "text/plain": [
       "<Figure size 432x288 with 1 Axes>"
      ]
     },
     "metadata": {
      "needs_background": "light"
     },
     "output_type": "display_data"
    },
    {
     "data": {
      "image/png": "[encoded data removed]",
      "text/plain": [
       "<Figure size 432x288 with 1 Axes>"
      ]
     },
     "metadata": {
      "needs_background": "light"
     },
     "output_type": "display_data"
    },
    {
     "data": {
      "image/png": "[encoded data removed]",
      "text/plain": [
       "<Figure size 432x288 with 1 Axes>"
      ]
     },
     "metadata": {
      "needs_background": "light"
     },
     "output_type": "display_data"
    },
    {
     "data": {
      "image/png": "[encoded data removed]",
      "text/plain": [
       "<Figure size 432x288 with 1 Axes>"
      ]
     },
     "metadata": {
      "needs_background": "light"
     },
     "output_type": "display_data"
    },
    {
     "data": {
      "image/png": "[encoded data removed]",
      "text/plain": [
       "<Figure size 432x288 with 1 Axes>"
      ]
     },
     "metadata": {
      "needs_background": "light"
     },
     "output_type": "display_data"
    }
   ],
   "source": [
    "train_val = train_validate(dls,m,epoch=25,metrics=squeeze_accuracy,loss=squeeze_cross_entropy)"
   ]
  },
  {
   "cell_type": "markdown",
   "id": "3758fa6e",
   "metadata": {},
   "source": [
    "### Load Test Data"
   ]
  },
  {
   "cell_type": "code",
   "execution_count": null,
   "id": "91422082",
   "metadata": {},
   "outputs": [
    {
     "data": {
      "text/html": [
       "<div>\n",
       "<style scoped>\n",
       "    .dataframe tbody tr th:only-of-type {\n",
       "        vertical-align: middle;\n",
       "    }\n",
       "\n",
       "    .dataframe tbody tr th {\n",
       "        vertical-align: top;\n",
       "    }\n",
       "\n",
       "    .dataframe thead th {\n",
       "        text-align: right;\n",
       "    }\n",
       "</style>\n",
       "<table border=\"1\" class=\"dataframe\">\n",
       "  <thead>\n",
       "    <tr style=\"text-align: right;\">\n",
       "      <th></th>\n",
       "      <th>activity</th>\n",
       "      <th>trace_id</th>\n",
       "      <th>case:pdc:costs</th>\n",
       "      <th>normal</th>\n",
       "      <th>event_id</th>\n",
       "    </tr>\n",
       "    <tr>\n",
       "      <th>trace_id</th>\n",
       "      <th></th>\n",
       "      <th></th>\n",
       "      <th></th>\n",
       "      <th></th>\n",
       "      <th></th>\n",
       "    </tr>\n",
       "  </thead>\n",
       "  <tbody>\n",
       "    <tr>\n",
       "      <th>trace 1</th>\n",
       "      <td>###start###</td>\n",
       "      <td>trace 1</td>\n",
       "      <td>0.0</td>\n",
       "      <td>True</td>\n",
       "      <td>0</td>\n",
       "    </tr>\n",
       "    <tr>\n",
       "      <th>trace 1</th>\n",
       "      <td>t21</td>\n",
       "      <td>trace 1</td>\n",
       "      <td>0.0</td>\n",
       "      <td>True</td>\n",
       "      <td>1</td>\n",
       "    </tr>\n",
       "    <tr>\n",
       "      <th>trace 1</th>\n",
       "      <td>t32</td>\n",
       "      <td>trace 1</td>\n",
       "      <td>0.0</td>\n",
       "      <td>True</td>\n",
       "      <td>2</td>\n",
       "    </tr>\n",
       "    <tr>\n",
       "      <th>trace 1</th>\n",
       "      <td>t26</td>\n",
       "      <td>trace 1</td>\n",
       "      <td>0.0</td>\n",
       "      <td>True</td>\n",
       "      <td>3</td>\n",
       "    </tr>\n",
       "    <tr>\n",
       "      <th>trace 1</th>\n",
       "      <td>t41</td>\n",
       "      <td>trace 1</td>\n",
       "      <td>0.0</td>\n",
       "      <td>True</td>\n",
       "      <td>4</td>\n",
       "    </tr>\n",
       "    <tr>\n",
       "      <th>trace 1</th>\n",
       "      <td>t35</td>\n",
       "      <td>trace 1</td>\n",
       "      <td>0.0</td>\n",
       "      <td>True</td>\n",
       "      <td>5</td>\n",
       "    </tr>\n",
       "    <tr>\n",
       "      <th>trace 1</th>\n",
       "      <td>t44</td>\n",
       "      <td>trace 1</td>\n",
       "      <td>0.0</td>\n",
       "      <td>True</td>\n",
       "      <td>6</td>\n",
       "    </tr>\n",
       "    <tr>\n",
       "      <th>trace 1</th>\n",
       "      <td>t34</td>\n",
       "      <td>trace 1</td>\n",
       "      <td>0.0</td>\n",
       "      <td>True</td>\n",
       "      <td>7</td>\n",
       "    </tr>\n",
       "    <tr>\n",
       "      <th>trace 1</th>\n",
       "      <td>t24</td>\n",
       "      <td>trace 1</td>\n",
       "      <td>0.0</td>\n",
       "      <td>True</td>\n",
       "      <td>8</td>\n",
       "    </tr>\n",
       "    <tr>\n",
       "      <th>trace 1</th>\n",
       "      <td>t33</td>\n",
       "      <td>trace 1</td>\n",
       "      <td>0.0</td>\n",
       "      <td>True</td>\n",
       "      <td>9</td>\n",
       "    </tr>\n",
       "    <tr>\n",
       "      <th>trace 1</th>\n",
       "      <td>t26</td>\n",
       "      <td>trace 1</td>\n",
       "      <td>0.0</td>\n",
       "      <td>True</td>\n",
       "      <td>10</td>\n",
       "    </tr>\n",
       "    <tr>\n",
       "      <th>trace 1</th>\n",
       "      <td>t36</td>\n",
       "      <td>trace 1</td>\n",
       "      <td>0.0</td>\n",
       "      <td>True</td>\n",
       "      <td>11</td>\n",
       "    </tr>\n",
       "    <tr>\n",
       "      <th>trace 1</th>\n",
       "      <td>t44</td>\n",
       "      <td>trace 1</td>\n",
       "      <td>0.0</td>\n",
       "      <td>True</td>\n",
       "      <td>12</td>\n",
       "    </tr>\n",
       "    <tr>\n",
       "      <th>trace 1</th>\n",
       "      <td>t23</td>\n",
       "      <td>trace 1</td>\n",
       "      <td>0.0</td>\n",
       "      <td>True</td>\n",
       "      <td>13</td>\n",
       "    </tr>\n",
       "    <tr>\n",
       "      <th>trace 1</th>\n",
       "      <td>t54</td>\n",
       "      <td>trace 1</td>\n",
       "      <td>0.0</td>\n",
       "      <td>True</td>\n",
       "      <td>14</td>\n",
       "    </tr>\n",
       "    <tr>\n",
       "      <th>trace 1</th>\n",
       "      <td>t21</td>\n",
       "      <td>trace 1</td>\n",
       "      <td>0.0</td>\n",
       "      <td>True</td>\n",
       "      <td>15</td>\n",
       "    </tr>\n",
       "    <tr>\n",
       "      <th>trace 1</th>\n",
       "      <td>t32</td>\n",
       "      <td>trace 1</td>\n",
       "      <td>0.0</td>\n",
       "      <td>True</td>\n",
       "      <td>16</td>\n",
       "    </tr>\n",
       "    <tr>\n",
       "      <th>trace 1</th>\n",
       "      <td>t66</td>\n",
       "      <td>trace 1</td>\n",
       "      <td>0.0</td>\n",
       "      <td>True</td>\n",
       "      <td>17</td>\n",
       "    </tr>\n",
       "    <tr>\n",
       "      <th>trace 1</th>\n",
       "      <td>t41</td>\n",
       "      <td>trace 1</td>\n",
       "      <td>0.0</td>\n",
       "      <td>True</td>\n",
       "      <td>18</td>\n",
       "    </tr>\n",
       "    <tr>\n",
       "      <th>trace 1</th>\n",
       "      <td>t51</td>\n",
       "      <td>trace 1</td>\n",
       "      <td>0.0</td>\n",
       "      <td>True</td>\n",
       "      <td>19</td>\n",
       "    </tr>\n",
       "    <tr>\n",
       "      <th>trace 1</th>\n",
       "      <td>t62</td>\n",
       "      <td>trace 1</td>\n",
       "      <td>0.0</td>\n",
       "      <td>True</td>\n",
       "      <td>20</td>\n",
       "    </tr>\n",
       "    <tr>\n",
       "      <th>trace 1</th>\n",
       "      <td>t71</td>\n",
       "      <td>trace 1</td>\n",
       "      <td>0.0</td>\n",
       "      <td>True</td>\n",
       "      <td>21</td>\n",
       "    </tr>\n",
       "    <tr>\n",
       "      <th>trace 1</th>\n",
       "      <td>t76</td>\n",
       "      <td>trace 1</td>\n",
       "      <td>0.0</td>\n",
       "      <td>True</td>\n",
       "      <td>22</td>\n",
       "    </tr>\n",
       "    <tr>\n",
       "      <th>trace 1</th>\n",
       "      <td>###end###</td>\n",
       "      <td>trace 1</td>\n",
       "      <td>0.0</td>\n",
       "      <td>True</td>\n",
       "      <td>23</td>\n",
       "    </tr>\n",
       "    <tr>\n",
       "      <th>trace 2</th>\n",
       "      <td>###start###</td>\n",
       "      <td>trace 2</td>\n",
       "      <td>0.0</td>\n",
       "      <td>True</td>\n",
       "      <td>0</td>\n",
       "    </tr>\n",
       "  </tbody>\n",
       "</table>\n",
       "</div>"
      ],
      "text/plain": [
       "             activity trace_id case:pdc:costs normal event_id\n",
       "trace_id                                                     \n",
       "trace 1   ###start###  trace 1            0.0   True        0\n",
       "trace 1           t21  trace 1            0.0   True        1\n",
       "trace 1           t32  trace 1            0.0   True        2\n",
       "trace 1           t26  trace 1            0.0   True        3\n",
       "trace 1           t41  trace 1            0.0   True        4\n",
       "trace 1           t35  trace 1            0.0   True        5\n",
       "trace 1           t44  trace 1            0.0   True        6\n",
       "trace 1           t34  trace 1            0.0   True        7\n",
       "trace 1           t24  trace 1            0.0   True        8\n",
       "trace 1           t33  trace 1            0.0   True        9\n",
       "trace 1           t26  trace 1            0.0   True       10\n",
       "trace 1           t36  trace 1            0.0   True       11\n",
       "trace 1           t44  trace 1            0.0   True       12\n",
       "trace 1           t23  trace 1            0.0   True       13\n",
       "trace 1           t54  trace 1            0.0   True       14\n",
       "trace 1           t21  trace 1            0.0   True       15\n",
       "trace 1           t32  trace 1            0.0   True       16\n",
       "trace 1           t66  trace 1            0.0   True       17\n",
       "trace 1           t41  trace 1            0.0   True       18\n",
       "trace 1           t51  trace 1            0.0   True       19\n",
       "trace 1           t62  trace 1            0.0   True       20\n",
       "trace 1           t71  trace 1            0.0   True       21\n",
       "trace 1           t76  trace 1            0.0   True       22\n",
       "trace 1     ###end###  trace 1            0.0   True       23\n",
       "trace 2   ###start###  trace 2            0.0   True        0"
      ]
     },
     "execution_count": null,
     "metadata": {},
     "output_type": "execute_result"
    }
   ],
   "source": [
    "test_log = import_log(f'data/csv/PDC2020_ground_truth/{log_name}.csv.gz')\n",
    "test_log.head(25)"
   ]
  },
  {
   "cell_type": "markdown",
   "id": "f1fa1395",
   "metadata": {},
   "source": [
    "### Create PPOBJ of test data with same vocab"
   ]
  },
  {
   "cell_type": "code",
   "execution_count": null,
   "id": "6c2fd708",
   "metadata": {},
   "outputs": [],
   "source": [
    "#export\n",
    "def process_test(test_log,categorify,cat_names='activity'):\n",
    "    o=PPObj(test_log,procs=categorify,cat_names=cat_names,y_names=cat_names,do_setup=False)\n",
    "    o.process()\n",
    "    return o\n"
   ]
  },
  {
   "cell_type": "code",
   "execution_count": null,
   "id": "d83c39a3",
   "metadata": {},
   "outputs": [],
   "source": [
    "o = process_test(test_log,categorify)"
   ]
  },
  {
   "cell_type": "markdown",
   "id": "d526f36f",
   "metadata": {},
   "source": [
    "### Apply Prediction Model"
   ]
  },
  {
   "cell_type": "code",
   "execution_count": null,
   "id": "e770ce43",
   "metadata": {},
   "outputs": [],
   "source": [
    "#export\n",
    "def predict_next_step(o,m,ws=5):\n",
    "    wds,idx=partial(windows_fast,ws=ws)(o.xs, o.event_ids)\n",
    "    res=(m(LongTensor(wds).cuda()))\n",
    "    return res,idx"
   ]
  },
  {
   "cell_type": "code",
   "execution_count": null,
   "id": "b231e959",
   "metadata": {},
   "outputs": [],
   "source": [
    "nsp,idx=predict_next_step(o,m)"
   ]
  },
  {
   "cell_type": "markdown",
   "id": "06bc0020",
   "metadata": {},
   "source": [
    "### Calculate Anomaly Score"
   ]
  },
  {
   "cell_type": "code",
   "execution_count": null,
   "id": "1306dcae",
   "metadata": {},
   "outputs": [],
   "source": [
    "def calc_anomaly_score(res,o,idx):\n",
    "    sm = nn.Softmax(dim=1)\n",
    "    y = o.items['activity'].iloc[idx].values\n",
    "    p = sm(res)\n",
    "    pred = p.max(1)[0]\n",
    "    truth = p[list(range(0, len(y))),y]\n",
    "    a_score = ((pred - truth) / pred).cpu().detach().numpy()\n",
    "    return a_score"
   ]
  },
  {
   "cell_type": "code",
   "execution_count": null,
   "id": "577852a7",
   "metadata": {},
   "outputs": [],
   "source": [
    "anomaly_score = calc_anomaly_score(nsp,o,idx)"
   ]
  },
  {
   "cell_type": "markdown",
   "id": "d1ff2dc0",
   "metadata": {},
   "source": [
    "### Classify Anomalies based of Threshhold, get predictions and ground truth, compute a few metrics"
   ]
  },
  {
   "cell_type": "code",
   "execution_count": null,
   "id": "f654a04a",
   "metadata": {},
   "outputs": [],
   "source": [
    "def get_anomalies(a_score,o,idx,threshhold=0.98):\n",
    "    df=pd.DataFrame(columns=[ 'a_score'])\n",
    "    df['a_score'] = a_score\n",
    "    df['trace_id'] = o.items.iloc[idx]['trace_id'].values\n",
    "    df['normal'] = o.items.iloc[idx]['normal'].values\n",
    "    df\n",
    "\n",
    "    y_true = (df.loc[df.trace_id.drop_duplicates().index].normal==False).tolist()\n",
    "    cases = df.loc[df.trace_id.drop_duplicates().index].trace_id.tolist()\n",
    "    anomalies = set(list(df.loc[df['a_score'] > threshhold]['trace_id']))\n",
    "    y_pred=[case in anomalies for case in cases]\n",
    "    return y_pred,y_true"
   ]
  },
  {
   "cell_type": "code",
   "execution_count": null,
   "id": "0b3d6e0e",
   "metadata": {},
   "outputs": [],
   "source": [
    "y_pred, y_true = get_anomalies(anomaly_score,o,idx)"
   ]
  },
  {
   "cell_type": "code",
   "execution_count": null,
   "id": "e01e4c28",
   "metadata": {},
   "outputs": [
    {
     "data": {
      "text/plain": [
       "0.8527131782945736"
      ]
     },
     "execution_count": null,
     "metadata": {},
     "output_type": "execute_result"
    }
   ],
   "source": [
    "f1_score(y_true, y_pred)"
   ]
  },
  {
   "cell_type": "code",
   "execution_count": null,
   "id": "72cc81ba",
   "metadata": {},
   "outputs": [
    {
     "data": {
      "text/plain": [
       "0.848"
      ]
     },
     "execution_count": null,
     "metadata": {},
     "output_type": "execute_result"
    }
   ],
   "source": [
    "accuracy_score(y_true, y_pred)"
   ]
  },
  {
   "cell_type": "code",
   "execution_count": null,
   "id": "219695bb",
   "metadata": {},
   "outputs": [
    {
     "data": {
      "text/plain": [
       "0.7547169811320755"
      ]
     },
     "execution_count": null,
     "metadata": {},
     "output_type": "execute_result"
    }
   ],
   "source": [
    "precision_score(y_true,y_pred)"
   ]
  },
  {
   "cell_type": "code",
   "execution_count": null,
   "id": "b5e14d32",
   "metadata": {},
   "outputs": [
    {
     "data": {
      "text/plain": [
       "0.9799554565701559"
      ]
     },
     "execution_count": null,
     "metadata": {},
     "output_type": "execute_result"
    }
   ],
   "source": [
    "recall_score(y_true,y_pred)"
   ]
  },
  {
   "cell_type": "markdown",
   "id": "88538e14",
   "metadata": {},
   "source": [
    "### Get NSP Accuracy on Inrference\n"
   ]
  },
  {
   "cell_type": "code",
   "execution_count": null,
   "id": "1a721df3",
   "metadata": {},
   "outputs": [],
   "source": [
    "#export\n",
    "def nsp_accuracy(o,idx,nsp):\n",
    "    nsp_y=o.ys.iloc[idx]\n",
    "    nsp_acc= accuracy(nsp,tensor(nsp_y.values).cuda())\n",
    "    return nsp_acc"
   ]
  },
  {
   "cell_type": "code",
   "execution_count": null,
   "id": "9ea07e3d",
   "metadata": {},
   "outputs": [
    {
     "data": {
      "text/plain": [
       "TensorBase(0.5015, device='cuda:0')"
      ]
     },
     "execution_count": null,
     "metadata": {},
     "output_type": "execute_result"
    }
   ],
   "source": [
    "nsp_accuracy(o,idx,nsp)"
   ]
  },
  {
   "cell_type": "markdown",
   "id": "51d7fbd8",
   "metadata": {},
   "source": [
    "## Multivariate Anomaly Detection\n",
    "\n",
    "Rewrite the prediction model to support multivariate prediction. Define attr_dict that maps event log to considerable attributes. Dynamically adapt preprocessing, network architecture, loss function, and anomaly score computation"
   ]
  },
  {
   "cell_type": "code",
   "execution_count": null,
   "id": "036fa2a6",
   "metadata": {},
   "outputs": [],
   "source": [
    "#export\n",
    "attr_dict={}\n",
    "for i in [i for i in glob.glob('data/csv/binet_logs/*')]:\n",
    "    if 'bpic12'in i:\n",
    "        attr_dict[i] =['activity']\n",
    "    elif 'bpic13' in i:\n",
    "        attr_dict[i]=['activity','org:group',\n",
    "'org:resource', 'org:role', 'organization country', 'product', 'resource country','impact']\n",
    "    elif 'bpic17' in i:  \n",
    "        attr_dict[i]=['activity','EventOrigin','org:resource']\n",
    "    elif 'bpic15' in i:\n",
    "        attr_dict[i]=['activity', 'action_code', 'activityNameEN', 'activityNameNL','monitoringResource', 'org:resource', 'question']\n",
    "    elif '-1.' in i:\n",
    "        attr_dict[i]=['activity','user']\n",
    "    elif '-2.' in i:\n",
    "        attr_dict[i]=['activity','user','day']\n",
    "    elif '-3.' in i:\n",
    "        attr_dict[i]=['activity','user','day','country']\n",
    "    elif '-4.' in i:\n",
    "        attr_dict[i]=['activity','user','day','country','company']"
   ]
  },
  {
   "cell_type": "code",
   "execution_count": null,
   "id": "264564f3",
   "metadata": {},
   "outputs": [],
   "source": [
    "#export\n",
    "def get_attr(attr_dict,log_name):\n",
    "    if log_name in attr_dict: \n",
    "        return attr_dict[log_name]\n",
    "    else: return ['activity']"
   ]
  },
  {
   "cell_type": "markdown",
   "id": "8122c58d",
   "metadata": {},
   "source": [
    "### Load Event Log:"
   ]
  },
  {
   "cell_type": "code",
   "execution_count": null,
   "id": "14ada9e1",
   "metadata": {},
   "outputs": [],
   "source": [
    "log_name= 'small-0.3-4'"
   ]
  },
  {
   "cell_type": "code",
   "execution_count": null,
   "id": "2a3870cc",
   "metadata": {},
   "outputs": [],
   "source": [
    "fn=f'data/csv/binet_logs/{log_name}.csv.gz'"
   ]
  },
  {
   "cell_type": "code",
   "execution_count": null,
   "id": "a2d756e5",
   "metadata": {},
   "outputs": [
    {
     "data": {
      "text/plain": [
       "['activity', 'user', 'day', 'country', 'company']"
      ]
     },
     "execution_count": null,
     "metadata": {},
     "output_type": "execute_result"
    }
   ],
   "source": [
    "cols= get_attr(attr_dict,fn)\n",
    "cols"
   ]
  },
  {
   "cell_type": "code",
   "execution_count": null,
   "id": "33e2a025",
   "metadata": {},
   "outputs": [
    {
     "data": {
      "text/html": [
       "<div>\n",
       "<style scoped>\n",
       "    .dataframe tbody tr th:only-of-type {\n",
       "        vertical-align: middle;\n",
       "    }\n",
       "\n",
       "    .dataframe tbody tr th {\n",
       "        vertical-align: top;\n",
       "    }\n",
       "\n",
       "    .dataframe thead th {\n",
       "        text-align: right;\n",
       "    }\n",
       "</style>\n",
       "<table border=\"1\" class=\"dataframe\">\n",
       "  <thead>\n",
       "    <tr style=\"text-align: right;\">\n",
       "      <th></th>\n",
       "      <th>activity</th>\n",
       "      <th>timestamp</th>\n",
       "      <th>timestamp_end</th>\n",
       "      <th>anomaly</th>\n",
       "      <th>trace_id</th>\n",
       "      <th>company</th>\n",
       "      <th>country</th>\n",
       "      <th>day</th>\n",
       "      <th>user</th>\n",
       "      <th>event_id</th>\n",
       "    </tr>\n",
       "    <tr>\n",
       "      <th>trace_id</th>\n",
       "      <th></th>\n",
       "      <th></th>\n",
       "      <th></th>\n",
       "      <th></th>\n",
       "      <th></th>\n",
       "      <th></th>\n",
       "      <th></th>\n",
       "      <th></th>\n",
       "      <th></th>\n",
       "      <th></th>\n",
       "    </tr>\n",
       "  </thead>\n",
       "  <tbody>\n",
       "    <tr>\n",
       "      <th>1</th>\n",
       "      <td>###start###</td>\n",
       "      <td>NaN</td>\n",
       "      <td>NaN</td>\n",
       "      <td>normal</td>\n",
       "      <td>1</td>\n",
       "      <td>###start###</td>\n",
       "      <td>###start###</td>\n",
       "      <td>###start###</td>\n",
       "      <td>###start###</td>\n",
       "      <td>0</td>\n",
       "    </tr>\n",
       "    <tr>\n",
       "      <th>1</th>\n",
       "      <td>Activity A</td>\n",
       "      <td>NaN</td>\n",
       "      <td>NaN</td>\n",
       "      <td>normal</td>\n",
       "      <td>1</td>\n",
       "      <td>Toughzap</td>\n",
       "      <td>Peru</td>\n",
       "      <td>Monday</td>\n",
       "      <td>Sonia</td>\n",
       "      <td>1</td>\n",
       "    </tr>\n",
       "    <tr>\n",
       "      <th>1</th>\n",
       "      <td>Activity B</td>\n",
       "      <td>NaN</td>\n",
       "      <td>NaN</td>\n",
       "      <td>normal</td>\n",
       "      <td>1</td>\n",
       "      <td>Rundofase</td>\n",
       "      <td>Israel</td>\n",
       "      <td>Monday</td>\n",
       "      <td>Jack</td>\n",
       "      <td>2</td>\n",
       "    </tr>\n",
       "    <tr>\n",
       "      <th>1</th>\n",
       "      <td>Activity C</td>\n",
       "      <td>NaN</td>\n",
       "      <td>NaN</td>\n",
       "      <td>normal</td>\n",
       "      <td>1</td>\n",
       "      <td>Stanredtax</td>\n",
       "      <td>Saint Lucia</td>\n",
       "      <td>Monday</td>\n",
       "      <td>Earl</td>\n",
       "      <td>3</td>\n",
       "    </tr>\n",
       "    <tr>\n",
       "      <th>1</th>\n",
       "      <td>Activity D</td>\n",
       "      <td>NaN</td>\n",
       "      <td>NaN</td>\n",
       "      <td>normal</td>\n",
       "      <td>1</td>\n",
       "      <td>Condax</td>\n",
       "      <td>Ghana</td>\n",
       "      <td>Monday</td>\n",
       "      <td>Maryellen</td>\n",
       "      <td>4</td>\n",
       "    </tr>\n",
       "  </tbody>\n",
       "</table>\n",
       "</div>"
      ],
      "text/plain": [
       "             activity timestamp timestamp_end anomaly trace_id      company  \\\n",
       "trace_id                                                                      \n",
       "1         ###start###       NaN           NaN  normal        1  ###start###   \n",
       "1          Activity A       NaN           NaN  normal        1     Toughzap   \n",
       "1          Activity B       NaN           NaN  normal        1    Rundofase   \n",
       "1          Activity C       NaN           NaN  normal        1   Stanredtax   \n",
       "1          Activity D       NaN           NaN  normal        1       Condax   \n",
       "\n",
       "              country          day         user event_id  \n",
       "trace_id                                                  \n",
       "1         ###start###  ###start###  ###start###        0  \n",
       "1                Peru       Monday        Sonia        1  \n",
       "1              Israel       Monday         Jack        2  \n",
       "1         Saint Lucia       Monday         Earl        3  \n",
       "1               Ghana       Monday    Maryellen        4  "
      ]
     },
     "execution_count": null,
     "metadata": {},
     "output_type": "execute_result"
    }
   ],
   "source": [
    "log = import_log(fn,cols)\n",
    "log.head()"
   ]
  },
  {
   "cell_type": "code",
   "execution_count": null,
   "id": "923b1a42",
   "metadata": {},
   "outputs": [
    {
     "data": {
      "text/plain": [
       "'activity'"
      ]
     },
     "execution_count": null,
     "metadata": {},
     "output_type": "execute_result"
    }
   ],
   "source": [
    "cols[0]"
   ]
  },
  {
   "cell_type": "markdown",
   "id": "06230177",
   "metadata": {},
   "source": [
    "### Create Training Data Loaders and Vocab:"
   ]
  },
  {
   "cell_type": "code",
   "execution_count": null,
   "id": "a6cae91b",
   "metadata": {},
   "outputs": [],
   "source": [
    "o,dls,categorify = training_dl(log,cols)"
   ]
  },
  {
   "cell_type": "code",
   "execution_count": null,
   "id": "944ebbed",
   "metadata": {},
   "outputs": [],
   "source": [
    "xcat,ycat = dls.one_batch()"
   ]
  },
  {
   "cell_type": "code",
   "execution_count": null,
   "id": "d364add8",
   "metadata": {},
   "outputs": [
    {
     "data": {
      "text/plain": [
       "torch.Size([32, 5, 5])"
      ]
     },
     "execution_count": null,
     "metadata": {},
     "output_type": "execute_result"
    }
   ],
   "source": [
    "xcat.shape"
   ]
  },
  {
   "cell_type": "code",
   "execution_count": null,
   "id": "4a3cabaa",
   "metadata": {},
   "outputs": [
    {
     "data": {
      "text/plain": [
       "tensor([ 8,  7,  5,  3,  6, 11,  5,  3,  5,  5,  4,  1,  8, 14,  7,  8,  9,  5,\n",
       "         9,  7, 21,  4,  4,  5,  9, 18,  6,  1,  4,  3,  4,  5],\n",
       "       device='cuda:0')"
      ]
     },
     "execution_count": null,
     "metadata": {},
     "output_type": "execute_result"
    }
   ],
   "source": [
    "ycat[0]"
   ]
  },
  {
   "cell_type": "code",
   "execution_count": null,
   "id": "eb7e24a6",
   "metadata": {},
   "outputs": [],
   "source": [
    "#export\n",
    "from fastai.tabular.model import get_emb_sz"
   ]
  },
  {
   "cell_type": "markdown",
   "id": "db34a44d",
   "metadata": {},
   "source": [
    "### Create Multivariate Prediction Model\n",
    "Todo: support continuous attributes"
   ]
  },
  {
   "cell_type": "code",
   "execution_count": null,
   "id": "d40aed52",
   "metadata": {},
   "outputs": [],
   "source": [
    "emb_szs = get_emb_sz(o)"
   ]
  },
  {
   "cell_type": "code",
   "execution_count": null,
   "id": "a5d37725",
   "metadata": {},
   "outputs": [],
   "source": [
    "#export\n",
    "class MultivariateModel(torch.nn.Module) :\n",
    "    def __init__(self, emb_szs, lstm_neurons=25,lstm_layers=2) :\n",
    "        super().__init__()\n",
    "        \n",
    "        self.embeds = nn.ModuleList([Embedding(ni, nf) for ni,nf in emb_szs])\n",
    "        self.lstms = nn.ModuleList([nn.LSTM(nf, lstm_neurons, batch_first=True, num_layers=lstm_layers) \n",
    "                                    for ni,nf in emb_szs])\n",
    "        self.linears = nn.ModuleList([nn.Linear(lstm_neurons, ni) for ni,nf in emb_szs])\n",
    "\n",
    "        \n",
    "\n",
    "    def forward(self, xcat):\n",
    "        res=[]\n",
    "        for i in range(xcat.shape[1]):\n",
    "            x =xcat[:,i]\n",
    "            x =self.embeds[i](x)\n",
    "            x,_ =self.lstms[i](x)\n",
    "            x = x[:,-1]\n",
    "            x= self.linears[i](x)\n",
    "            res.append(x)\n",
    "        return tuple(res)\n",
    "    \n"
   ]
  },
  {
   "cell_type": "code",
   "execution_count": null,
   "id": "6349a6a9",
   "metadata": {},
   "outputs": [],
   "source": [
    "m=MultivariateModel(emb_szs)\n",
    "pred = m(xcat.cpu())"
   ]
  },
  {
   "cell_type": "markdown",
   "id": "1c5bad96",
   "metadata": {},
   "source": [
    "### Define Multi-Loss and -Metrics"
   ]
  },
  {
   "cell_type": "code",
   "execution_count": null,
   "id": "1ef03594",
   "metadata": {},
   "outputs": [],
   "source": [
    "#export\n",
    "def _accuracy_idx(a,b,i): return accuracy(listify(a)[i],listify(b)[i])\n",
    "\n",
    "def get_metrics(o):\n",
    "    \n",
    "    number_cats=len(o.ycat_names)\n",
    "    \n",
    "    accuracies=[]\n",
    "    for i in range(number_cats):\n",
    "        accuracy_func=partial(_accuracy_idx,i=i)\n",
    "        accuracy_func.__name__= f\"acc_{o.ycat_names[i]}\"\n",
    "        accuracy_func=AvgMetric(accuracy_func)\n",
    "        accuracies.append(accuracy_func)\n",
    "    mae_days=None\n",
    "    return L(accuracies)+mae_days\n",
    "\n",
    "def multi_loss_sum(o,p,y):\n",
    "    '''Multi Loss function that sums up multiple loss functions. The selection of the loss function is based on the PPObj o'''\n",
    "    p,y=listify(p),listify(y)\n",
    "    len_cat,len_cont=len(o.ycat_names),len(o.ycont_names)\n",
    "    cross_entropies=[F.cross_entropy(p[i],y[i]) for i in range(len_cat)]\n",
    "    return torch.sum(torch.stack(list(L(cross_entropies))))\n",
    "\n",
    "def my_loss(p,y): return F.cross_entropy(p[0],y[0])\n",
    "def my_metric(p,y): return accuracy(p[0],y[0])"
   ]
  },
  {
   "cell_type": "code",
   "execution_count": null,
   "id": "cbde838d",
   "metadata": {},
   "outputs": [],
   "source": [
    "loss=partial(multi_loss_sum,o)"
   ]
  },
  {
   "cell_type": "code",
   "execution_count": null,
   "id": "90fb0c30",
   "metadata": {},
   "outputs": [
    {
     "data": {
      "text/plain": [
       "tensor(21.8636, grad_fn=<SumBackward0>)"
      ]
     },
     "execution_count": null,
     "metadata": {},
     "output_type": "execute_result"
    }
   ],
   "source": [
    "loss(pred,[i.cpu() for i in ycat])"
   ]
  },
  {
   "cell_type": "markdown",
   "id": "6ee0bd35",
   "metadata": {},
   "source": [
    "### Training of the prediction network\n",
    "Todo: Rename the Metric Columns"
   ]
  },
  {
   "cell_type": "code",
   "execution_count": null,
   "id": "f8c8a098",
   "metadata": {},
   "outputs": [
    {
     "data": {
      "text/html": [],
      "text/plain": [
       "<IPython.core.display.HTML object>"
      ]
     },
     "metadata": {},
     "output_type": "display_data"
    },
    {
     "data": {
      "text/html": [],
      "text/plain": [
       "<IPython.core.display.HTML object>"
      ]
     },
     "metadata": {},
     "output_type": "display_data"
    },
    {
     "data": {
      "text/html": [],
      "text/plain": [
       "<IPython.core.display.HTML object>"
      ]
     },
     "metadata": {},
     "output_type": "display_data"
    },
    {
     "data": {
      "text/html": [],
      "text/plain": [
       "<IPython.core.display.HTML object>"
      ]
     },
     "metadata": {},
     "output_type": "display_data"
    },
    {
     "data": {
      "text/html": [],
      "text/plain": [
       "<IPython.core.display.HTML object>"
      ]
     },
     "metadata": {},
     "output_type": "display_data"
    },
    {
     "data": {
      "text/html": [
       "<table border=\"1\" class=\"dataframe\">\n",
       "  <thead>\n",
       "    <tr style=\"text-align: left;\">\n",
       "      <th>epoch</th>\n",
       "      <th>train_loss</th>\n",
       "      <th>valid_loss</th>\n",
       "      <th>_accuracy_idx</th>\n",
       "      <th>_accuracy_idx</th>\n",
       "      <th>_accuracy_idx</th>\n",
       "      <th>_accuracy_idx</th>\n",
       "      <th>_accuracy_idx</th>\n",
       "      <th>time</th>\n",
       "    </tr>\n",
       "  </thead>\n",
       "  <tbody>\n",
       "    <tr>\n",
       "      <td>0</td>\n",
       "      <td>13.936994</td>\n",
       "      <td>13.854826</td>\n",
       "      <td>0.290111</td>\n",
       "      <td>0.190015</td>\n",
       "      <td>0.354096</td>\n",
       "      <td>0.077315</td>\n",
       "      <td>0.128938</td>\n",
       "      <td>00:34</td>\n",
       "    </tr>\n",
       "    <tr>\n",
       "      <td>1</td>\n",
       "      <td>10.120003</td>\n",
       "      <td>9.895505</td>\n",
       "      <td>0.616578</td>\n",
       "      <td>0.405235</td>\n",
       "      <td>0.446437</td>\n",
       "      <td>0.324770</td>\n",
       "      <td>0.304411</td>\n",
       "      <td>00:35</td>\n",
       "    </tr>\n",
       "    <tr>\n",
       "      <td>2</td>\n",
       "      <td>7.390747</td>\n",
       "      <td>7.269372</td>\n",
       "      <td>0.832041</td>\n",
       "      <td>0.549927</td>\n",
       "      <td>0.483277</td>\n",
       "      <td>0.625788</td>\n",
       "      <td>0.523267</td>\n",
       "      <td>00:34</td>\n",
       "    </tr>\n",
       "    <tr>\n",
       "      <td>3</td>\n",
       "      <td>5.771627</td>\n",
       "      <td>5.688602</td>\n",
       "      <td>0.847310</td>\n",
       "      <td>0.650267</td>\n",
       "      <td>0.503635</td>\n",
       "      <td>0.655841</td>\n",
       "      <td>0.695347</td>\n",
       "      <td>00:35</td>\n",
       "    </tr>\n",
       "    <tr>\n",
       "      <td>4</td>\n",
       "      <td>5.182194</td>\n",
       "      <td>5.040742</td>\n",
       "      <td>0.873970</td>\n",
       "      <td>0.675715</td>\n",
       "      <td>0.530296</td>\n",
       "      <td>0.675230</td>\n",
       "      <td>0.704556</td>\n",
       "      <td>00:35</td>\n",
       "    </tr>\n",
       "    <tr>\n",
       "      <td>5</td>\n",
       "      <td>4.766309</td>\n",
       "      <td>4.679382</td>\n",
       "      <td>0.881968</td>\n",
       "      <td>0.678381</td>\n",
       "      <td>0.577315</td>\n",
       "      <td>0.679108</td>\n",
       "      <td>0.719826</td>\n",
       "      <td>00:34</td>\n",
       "    </tr>\n",
       "    <tr>\n",
       "      <td>6</td>\n",
       "      <td>4.429918</td>\n",
       "      <td>4.521992</td>\n",
       "      <td>0.866457</td>\n",
       "      <td>0.685167</td>\n",
       "      <td>0.586040</td>\n",
       "      <td>0.687833</td>\n",
       "      <td>0.725158</td>\n",
       "      <td>00:35</td>\n",
       "    </tr>\n",
       "    <tr>\n",
       "      <td>7</td>\n",
       "      <td>4.501552</td>\n",
       "      <td>4.459851</td>\n",
       "      <td>0.882937</td>\n",
       "      <td>0.690984</td>\n",
       "      <td>0.584828</td>\n",
       "      <td>0.689530</td>\n",
       "      <td>0.720068</td>\n",
       "      <td>00:35</td>\n",
       "    </tr>\n",
       "    <tr>\n",
       "      <td>8</td>\n",
       "      <td>4.547604</td>\n",
       "      <td>4.367529</td>\n",
       "      <td>0.878090</td>\n",
       "      <td>0.694619</td>\n",
       "      <td>0.593553</td>\n",
       "      <td>0.688076</td>\n",
       "      <td>0.728308</td>\n",
       "      <td>00:32</td>\n",
       "    </tr>\n",
       "    <tr>\n",
       "      <td>9</td>\n",
       "      <td>4.267823</td>\n",
       "      <td>4.335650</td>\n",
       "      <td>0.884634</td>\n",
       "      <td>0.693165</td>\n",
       "      <td>0.592099</td>\n",
       "      <td>0.695347</td>\n",
       "      <td>0.726369</td>\n",
       "      <td>00:35</td>\n",
       "    </tr>\n",
       "    <tr>\n",
       "      <td>10</td>\n",
       "      <td>4.344088</td>\n",
       "      <td>4.330815</td>\n",
       "      <td>0.880029</td>\n",
       "      <td>0.695831</td>\n",
       "      <td>0.588706</td>\n",
       "      <td>0.685652</td>\n",
       "      <td>0.727339</td>\n",
       "      <td>00:33</td>\n",
       "    </tr>\n",
       "    <tr>\n",
       "      <td>11</td>\n",
       "      <td>4.077488</td>\n",
       "      <td>4.290625</td>\n",
       "      <td>0.887785</td>\n",
       "      <td>0.698013</td>\n",
       "      <td>0.597916</td>\n",
       "      <td>0.693408</td>\n",
       "      <td>0.728793</td>\n",
       "      <td>00:35</td>\n",
       "    </tr>\n",
       "    <tr>\n",
       "      <td>12</td>\n",
       "      <td>4.219238</td>\n",
       "      <td>4.291525</td>\n",
       "      <td>0.887542</td>\n",
       "      <td>0.701163</td>\n",
       "      <td>0.602278</td>\n",
       "      <td>0.692196</td>\n",
       "      <td>0.726612</td>\n",
       "      <td>00:35</td>\n",
       "    </tr>\n",
       "    <tr>\n",
       "      <td>13</td>\n",
       "      <td>4.158016</td>\n",
       "      <td>4.271759</td>\n",
       "      <td>0.888269</td>\n",
       "      <td>0.690499</td>\n",
       "      <td>0.601309</td>\n",
       "      <td>0.684925</td>\n",
       "      <td>0.730247</td>\n",
       "      <td>00:34</td>\n",
       "    </tr>\n",
       "    <tr>\n",
       "      <td>14</td>\n",
       "      <td>4.155407</td>\n",
       "      <td>4.261551</td>\n",
       "      <td>0.882695</td>\n",
       "      <td>0.698982</td>\n",
       "      <td>0.606641</td>\n",
       "      <td>0.685894</td>\n",
       "      <td>0.728308</td>\n",
       "      <td>00:32</td>\n",
       "    </tr>\n",
       "    <tr>\n",
       "      <td>15</td>\n",
       "      <td>3.949828</td>\n",
       "      <td>4.243995</td>\n",
       "      <td>0.887542</td>\n",
       "      <td>0.698013</td>\n",
       "      <td>0.604460</td>\n",
       "      <td>0.694377</td>\n",
       "      <td>0.728551</td>\n",
       "      <td>00:34</td>\n",
       "    </tr>\n",
       "    <tr>\n",
       "      <td>16</td>\n",
       "      <td>4.229957</td>\n",
       "      <td>4.236428</td>\n",
       "      <td>0.888512</td>\n",
       "      <td>0.699467</td>\n",
       "      <td>0.603248</td>\n",
       "      <td>0.695104</td>\n",
       "      <td>0.728308</td>\n",
       "      <td>00:34</td>\n",
       "    </tr>\n",
       "    <tr>\n",
       "      <td>17</td>\n",
       "      <td>4.091790</td>\n",
       "      <td>4.229052</td>\n",
       "      <td>0.890208</td>\n",
       "      <td>0.697770</td>\n",
       "      <td>0.604702</td>\n",
       "      <td>0.694135</td>\n",
       "      <td>0.727824</td>\n",
       "      <td>00:35</td>\n",
       "    </tr>\n",
       "    <tr>\n",
       "      <td>18</td>\n",
       "      <td>4.075116</td>\n",
       "      <td>4.222324</td>\n",
       "      <td>0.888512</td>\n",
       "      <td>0.700921</td>\n",
       "      <td>0.603490</td>\n",
       "      <td>0.694135</td>\n",
       "      <td>0.729035</td>\n",
       "      <td>00:33</td>\n",
       "    </tr>\n",
       "    <tr>\n",
       "      <td>19</td>\n",
       "      <td>4.192246</td>\n",
       "      <td>4.216936</td>\n",
       "      <td>0.890208</td>\n",
       "      <td>0.698982</td>\n",
       "      <td>0.605671</td>\n",
       "      <td>0.694135</td>\n",
       "      <td>0.730490</td>\n",
       "      <td>00:33</td>\n",
       "    </tr>\n",
       "    <tr>\n",
       "      <td>20</td>\n",
       "      <td>4.128509</td>\n",
       "      <td>4.212358</td>\n",
       "      <td>0.890208</td>\n",
       "      <td>0.701163</td>\n",
       "      <td>0.609064</td>\n",
       "      <td>0.695589</td>\n",
       "      <td>0.729762</td>\n",
       "      <td>00:34</td>\n",
       "    </tr>\n",
       "    <tr>\n",
       "      <td>21</td>\n",
       "      <td>4.101974</td>\n",
       "      <td>4.212966</td>\n",
       "      <td>0.889966</td>\n",
       "      <td>0.699709</td>\n",
       "      <td>0.606156</td>\n",
       "      <td>0.695589</td>\n",
       "      <td>0.729762</td>\n",
       "      <td>00:34</td>\n",
       "    </tr>\n",
       "    <tr>\n",
       "      <td>22</td>\n",
       "      <td>4.022290</td>\n",
       "      <td>4.211040</td>\n",
       "      <td>0.889481</td>\n",
       "      <td>0.699952</td>\n",
       "      <td>0.607853</td>\n",
       "      <td>0.694862</td>\n",
       "      <td>0.730247</td>\n",
       "      <td>00:35</td>\n",
       "    </tr>\n",
       "    <tr>\n",
       "      <td>23</td>\n",
       "      <td>3.818439</td>\n",
       "      <td>4.211113</td>\n",
       "      <td>0.889966</td>\n",
       "      <td>0.699952</td>\n",
       "      <td>0.607610</td>\n",
       "      <td>0.695347</td>\n",
       "      <td>0.730247</td>\n",
       "      <td>00:35</td>\n",
       "    </tr>\n",
       "    <tr>\n",
       "      <td>24</td>\n",
       "      <td>3.941376</td>\n",
       "      <td>4.211114</td>\n",
       "      <td>0.889966</td>\n",
       "      <td>0.699952</td>\n",
       "      <td>0.607610</td>\n",
       "      <td>0.695589</td>\n",
       "      <td>0.730005</td>\n",
       "      <td>00:34</td>\n",
       "    </tr>\n",
       "  </tbody>\n",
       "</table>"
      ],
      "text/plain": [
       "<IPython.core.display.HTML object>"
      ]
     },
     "metadata": {},
     "output_type": "display_data"
    },
    {
     "name": "stdout",
     "output_type": "stream",
     "text": [
      "Better model found at epoch 0 with valid_loss value: 13.854825973510742.\n",
      "Better model found at epoch 1 with valid_loss value: 9.89550495147705.\n",
      "Better model found at epoch 2 with valid_loss value: 7.269371509552002.\n",
      "Better model found at epoch 3 with valid_loss value: 5.688602447509766.\n",
      "Better model found at epoch 4 with valid_loss value: 5.04074239730835.\n",
      "Better model found at epoch 5 with valid_loss value: 4.679381847381592.\n",
      "Better model found at epoch 6 with valid_loss value: 4.521991729736328.\n",
      "Better model found at epoch 7 with valid_loss value: 4.459851264953613.\n",
      "Better model found at epoch 8 with valid_loss value: 4.367529392242432.\n",
      "Better model found at epoch 9 with valid_loss value: 4.335650444030762.\n",
      "Better model found at epoch 10 with valid_loss value: 4.330815315246582.\n",
      "Better model found at epoch 11 with valid_loss value: 4.290625095367432.\n",
      "Better model found at epoch 13 with valid_loss value: 4.271758556365967.\n",
      "Better model found at epoch 14 with valid_loss value: 4.2615509033203125.\n",
      "Better model found at epoch 15 with valid_loss value: 4.243995189666748.\n",
      "Better model found at epoch 16 with valid_loss value: 4.2364277839660645.\n",
      "Better model found at epoch 17 with valid_loss value: 4.2290520668029785.\n",
      "Better model found at epoch 18 with valid_loss value: 4.222324371337891.\n",
      "Better model found at epoch 19 with valid_loss value: 4.216935634613037.\n",
      "Better model found at epoch 20 with valid_loss value: 4.212357997894287.\n",
      "Better model found at epoch 22 with valid_loss value: 4.211040496826172.\n"
     ]
    },
    {
     "data": {
      "text/html": [],
      "text/plain": [
       "<IPython.core.display.HTML object>"
      ]
     },
     "metadata": {},
     "output_type": "display_data"
    },
    {
     "name": "stdout",
     "output_type": "stream",
     "text": [
      "Better model found at epoch 0 with valid_loss value: 0.879412055015564.\n"
     ]
    }
   ],
   "source": [
    "epoch=25\n",
    "train_val=train_validate(dls,m,loss=loss,metrics=get_metrics(o),epoch=epoch,show_plot=False)\n"
   ]
  },
  {
   "cell_type": "markdown",
   "id": "8a86be72",
   "metadata": {},
   "source": [
    "### Load Test Log for Inference"
   ]
  },
  {
   "cell_type": "code",
   "execution_count": null,
   "id": "dc88bbaa",
   "metadata": {},
   "outputs": [],
   "source": [
    "log = import_log(fn,cols)\n",
    "log.head()\n",
    "o = process_test(log,categorify,cols)"
   ]
  },
  {
   "cell_type": "code",
   "execution_count": null,
   "id": "fbf88624",
   "metadata": {},
   "outputs": [],
   "source": [
    "res,idx=predict_next_step(o,m)"
   ]
  },
  {
   "cell_type": "markdown",
   "id": "35c980a4",
   "metadata": {},
   "source": [
    "### Compute Anomaly Score"
   ]
  },
  {
   "cell_type": "code",
   "execution_count": null,
   "id": "83cf63b5",
   "metadata": {},
   "outputs": [],
   "source": [
    "#export\n",
    "def multivariate_anomaly_score(res,o,idx,cols):\n",
    "    score_df=pd.DataFrame()\n",
    "\n",
    "    for cidx,_ in enumerate(cols):\n",
    "        sm = nn.Softmax(dim=1)\n",
    "        p = sm(res[cidx].cpu())\n",
    "        pred = p.max(1)[0]\n",
    "        y = o.items[cols[cidx]].iloc[idx].values\n",
    "\n",
    "        truth=p[list(range(len(y))),y]\n",
    "        score = ((pred - truth) / pred).tolist()\n",
    "        score_df[cols[cidx]] = score\n",
    "    score_df['trace_id']=o.items['trace_id'].iloc[idx].values\n",
    "    return score_df"
   ]
  },
  {
   "cell_type": "code",
   "execution_count": null,
   "id": "0ed1deed",
   "metadata": {},
   "outputs": [
    {
     "data": {
      "text/html": [
       "<div>\n",
       "<style scoped>\n",
       "    .dataframe tbody tr th:only-of-type {\n",
       "        vertical-align: middle;\n",
       "    }\n",
       "\n",
       "    .dataframe tbody tr th {\n",
       "        vertical-align: top;\n",
       "    }\n",
       "\n",
       "    .dataframe thead th {\n",
       "        text-align: right;\n",
       "    }\n",
       "</style>\n",
       "<table border=\"1\" class=\"dataframe\">\n",
       "  <thead>\n",
       "    <tr style=\"text-align: right;\">\n",
       "      <th></th>\n",
       "      <th>activity</th>\n",
       "      <th>user</th>\n",
       "      <th>day</th>\n",
       "      <th>country</th>\n",
       "      <th>company</th>\n",
       "      <th>trace_id</th>\n",
       "    </tr>\n",
       "  </thead>\n",
       "  <tbody>\n",
       "    <tr>\n",
       "      <th>0</th>\n",
       "      <td>0.00000</td>\n",
       "      <td>0.278788</td>\n",
       "      <td>0.228145</td>\n",
       "      <td>0.277018</td>\n",
       "      <td>0.276930</td>\n",
       "      <td>1</td>\n",
       "    </tr>\n",
       "    <tr>\n",
       "      <th>1</th>\n",
       "      <td>0.00000</td>\n",
       "      <td>0.000000</td>\n",
       "      <td>0.000000</td>\n",
       "      <td>0.000000</td>\n",
       "      <td>0.000000</td>\n",
       "      <td>1</td>\n",
       "    </tr>\n",
       "    <tr>\n",
       "      <th>2</th>\n",
       "      <td>0.00000</td>\n",
       "      <td>0.000000</td>\n",
       "      <td>0.000000</td>\n",
       "      <td>0.455927</td>\n",
       "      <td>0.000000</td>\n",
       "      <td>1</td>\n",
       "    </tr>\n",
       "    <tr>\n",
       "      <th>3</th>\n",
       "      <td>0.00000</td>\n",
       "      <td>0.000000</td>\n",
       "      <td>0.000000</td>\n",
       "      <td>0.000000</td>\n",
       "      <td>0.000000</td>\n",
       "      <td>1</td>\n",
       "    </tr>\n",
       "    <tr>\n",
       "      <th>4</th>\n",
       "      <td>0.00000</td>\n",
       "      <td>0.461013</td>\n",
       "      <td>0.500967</td>\n",
       "      <td>0.588650</td>\n",
       "      <td>0.720074</td>\n",
       "      <td>1</td>\n",
       "    </tr>\n",
       "    <tr>\n",
       "      <th>...</th>\n",
       "      <td>...</td>\n",
       "      <td>...</td>\n",
       "      <td>...</td>\n",
       "      <td>...</td>\n",
       "      <td>...</td>\n",
       "      <td>...</td>\n",
       "    </tr>\n",
       "    <tr>\n",
       "      <th>51690</th>\n",
       "      <td>0.00000</td>\n",
       "      <td>0.500294</td>\n",
       "      <td>0.364073</td>\n",
       "      <td>0.000000</td>\n",
       "      <td>0.000000</td>\n",
       "      <td>5000</td>\n",
       "    </tr>\n",
       "    <tr>\n",
       "      <th>51691</th>\n",
       "      <td>0.00000</td>\n",
       "      <td>0.326207</td>\n",
       "      <td>0.059997</td>\n",
       "      <td>0.000000</td>\n",
       "      <td>0.000000</td>\n",
       "      <td>5000</td>\n",
       "    </tr>\n",
       "    <tr>\n",
       "      <th>51692</th>\n",
       "      <td>0.99019</td>\n",
       "      <td>0.998386</td>\n",
       "      <td>0.942837</td>\n",
       "      <td>0.994743</td>\n",
       "      <td>0.988579</td>\n",
       "      <td>5000</td>\n",
       "    </tr>\n",
       "    <tr>\n",
       "      <th>51693</th>\n",
       "      <td>0.00000</td>\n",
       "      <td>0.000000</td>\n",
       "      <td>0.850964</td>\n",
       "      <td>0.000000</td>\n",
       "      <td>0.000000</td>\n",
       "      <td>5000</td>\n",
       "    </tr>\n",
       "    <tr>\n",
       "      <th>51694</th>\n",
       "      <td>0.00000</td>\n",
       "      <td>0.000000</td>\n",
       "      <td>0.287667</td>\n",
       "      <td>0.000000</td>\n",
       "      <td>0.000000</td>\n",
       "      <td>5000</td>\n",
       "    </tr>\n",
       "  </tbody>\n",
       "</table>\n",
       "<p>51695 rows × 6 columns</p>\n",
       "</div>"
      ],
      "text/plain": [
       "       activity      user       day   country   company trace_id\n",
       "0       0.00000  0.278788  0.228145  0.277018  0.276930        1\n",
       "1       0.00000  0.000000  0.000000  0.000000  0.000000        1\n",
       "2       0.00000  0.000000  0.000000  0.455927  0.000000        1\n",
       "3       0.00000  0.000000  0.000000  0.000000  0.000000        1\n",
       "4       0.00000  0.461013  0.500967  0.588650  0.720074        1\n",
       "...         ...       ...       ...       ...       ...      ...\n",
       "51690   0.00000  0.500294  0.364073  0.000000  0.000000     5000\n",
       "51691   0.00000  0.326207  0.059997  0.000000  0.000000     5000\n",
       "51692   0.99019  0.998386  0.942837  0.994743  0.988579     5000\n",
       "51693   0.00000  0.000000  0.850964  0.000000  0.000000     5000\n",
       "51694   0.00000  0.000000  0.287667  0.000000  0.000000     5000\n",
       "\n",
       "[51695 rows x 6 columns]"
      ]
     },
     "execution_count": null,
     "metadata": {},
     "output_type": "execute_result"
    }
   ],
   "source": [
    "score_df=multivariate_anomaly_score(res,o,idx,cols)\n",
    "score_df"
   ]
  },
  {
   "cell_type": "markdown",
   "id": "f84c6602",
   "metadata": {},
   "source": [
    "### Anomaly Classification"
   ]
  },
  {
   "cell_type": "markdown",
   "id": "71c4566d",
   "metadata": {},
   "source": [
    "We can set a fixed threshold or define a custom threshold function. Currently only fixed threshold is used."
   ]
  },
  {
   "cell_type": "code",
   "execution_count": null,
   "id": "74407f48",
   "metadata": {},
   "outputs": [],
   "source": [
    "#export\n",
    "def get_thresholds(col,act_threshold=0.995,attr_threshold=0.99):\n",
    "    \"\"\"\n",
    "    Defines a custom threshold function\n",
    "    \"\"\"\n",
    "    if col =='activity':\n",
    "        return act_threshold\n",
    "    else: \n",
    "        return attr_threshold"
   ]
  },
  {
   "cell_type": "code",
   "execution_count": null,
   "id": "378ac76c",
   "metadata": {},
   "outputs": [],
   "source": [
    "#export\n",
    "def multivariate_anomalies(score_df,cols,idx,o,anomaly_col='normal',fixed_threshold=None,get_thresholds=get_thresholds):\n",
    "    if fixed_threshold is None:\n",
    "        comp_thresholds=get_thresholds\n",
    "    else:\n",
    "        comp_thresholds = lambda _: fixed_threshold\n",
    "    a=[score_df.loc[score_df[c] >= comp_thresholds(c)]['trace_id'] for c in cols]\n",
    "    anomalies=list(set().union(*a))\n",
    "    h=o.items.iloc[idx][anomaly_col]\n",
    "    if anomaly_col=='anomaly':\n",
    "        score_df['is_anomaly']=(h!='normal').tolist()\n",
    "    else:\n",
    "        score_df['is_anomaly']=(h==False).tolist()\n",
    "    score_df['anomaly']=h.tolist()\n",
    "    y_true = (score_df.loc[score_df.trace_id.drop_duplicates().index].is_anomaly).tolist()\n",
    "    cases = score_df.loc[score_df.trace_id.drop_duplicates().index].trace_id.tolist()\n",
    "    y_pred=[case in anomalies for case in cases]\n",
    "    return y_true,y_pred"
   ]
  },
  {
   "cell_type": "code",
   "execution_count": null,
   "id": "7851f0bc",
   "metadata": {},
   "outputs": [],
   "source": [
    "y_true,y_pred=multivariate_anomalies(score_df,cols,idx,o,fixed_threshold=0.98,anomaly_col='anomaly')"
   ]
  },
  {
   "cell_type": "code",
   "execution_count": null,
   "id": "203416ee",
   "metadata": {},
   "outputs": [
    {
     "data": {
      "text/plain": [
       "0.9632446134347277"
      ]
     },
     "execution_count": null,
     "metadata": {},
     "output_type": "execute_result"
    }
   ],
   "source": [
    "f1_score(y_true, y_pred)"
   ]
  },
  {
   "cell_type": "markdown",
   "id": "f140eba5",
   "metadata": {},
   "source": [
    "## Plot Anomaly Scores for a Trace"
   ]
  },
  {
   "cell_type": "code",
   "execution_count": null,
   "id": "e5d1089a",
   "metadata": {},
   "outputs": [
    {
     "data": {
      "text/html": [
       "<div>\n",
       "<style scoped>\n",
       "    .dataframe tbody tr th:only-of-type {\n",
       "        vertical-align: middle;\n",
       "    }\n",
       "\n",
       "    .dataframe tbody tr th {\n",
       "        vertical-align: top;\n",
       "    }\n",
       "\n",
       "    .dataframe thead th {\n",
       "        text-align: right;\n",
       "    }\n",
       "</style>\n",
       "<table border=\"1\" class=\"dataframe\">\n",
       "  <thead>\n",
       "    <tr style=\"text-align: right;\">\n",
       "      <th></th>\n",
       "      <th>activity</th>\n",
       "      <th>user</th>\n",
       "      <th>day</th>\n",
       "      <th>country</th>\n",
       "      <th>company</th>\n",
       "      <th>trace_id</th>\n",
       "      <th>is_anomaly</th>\n",
       "      <th>anomaly</th>\n",
       "    </tr>\n",
       "  </thead>\n",
       "  <tbody>\n",
       "    <tr>\n",
       "      <th>0</th>\n",
       "      <td>0.00000</td>\n",
       "      <td>0.278788</td>\n",
       "      <td>0.228145</td>\n",
       "      <td>0.277018</td>\n",
       "      <td>0.276930</td>\n",
       "      <td>1</td>\n",
       "      <td>False</td>\n",
       "      <td>normal</td>\n",
       "    </tr>\n",
       "    <tr>\n",
       "      <th>1</th>\n",
       "      <td>0.00000</td>\n",
       "      <td>0.000000</td>\n",
       "      <td>0.000000</td>\n",
       "      <td>0.000000</td>\n",
       "      <td>0.000000</td>\n",
       "      <td>1</td>\n",
       "      <td>False</td>\n",
       "      <td>normal</td>\n",
       "    </tr>\n",
       "    <tr>\n",
       "      <th>2</th>\n",
       "      <td>0.00000</td>\n",
       "      <td>0.000000</td>\n",
       "      <td>0.000000</td>\n",
       "      <td>0.455927</td>\n",
       "      <td>0.000000</td>\n",
       "      <td>1</td>\n",
       "      <td>False</td>\n",
       "      <td>normal</td>\n",
       "    </tr>\n",
       "    <tr>\n",
       "      <th>3</th>\n",
       "      <td>0.00000</td>\n",
       "      <td>0.000000</td>\n",
       "      <td>0.000000</td>\n",
       "      <td>0.000000</td>\n",
       "      <td>0.000000</td>\n",
       "      <td>1</td>\n",
       "      <td>False</td>\n",
       "      <td>normal</td>\n",
       "    </tr>\n",
       "    <tr>\n",
       "      <th>4</th>\n",
       "      <td>0.00000</td>\n",
       "      <td>0.461013</td>\n",
       "      <td>0.500967</td>\n",
       "      <td>0.588650</td>\n",
       "      <td>0.720074</td>\n",
       "      <td>1</td>\n",
       "      <td>False</td>\n",
       "      <td>normal</td>\n",
       "    </tr>\n",
       "    <tr>\n",
       "      <th>...</th>\n",
       "      <td>...</td>\n",
       "      <td>...</td>\n",
       "      <td>...</td>\n",
       "      <td>...</td>\n",
       "      <td>...</td>\n",
       "      <td>...</td>\n",
       "      <td>...</td>\n",
       "      <td>...</td>\n",
       "    </tr>\n",
       "    <tr>\n",
       "      <th>51690</th>\n",
       "      <td>0.00000</td>\n",
       "      <td>0.500294</td>\n",
       "      <td>0.364073</td>\n",
       "      <td>0.000000</td>\n",
       "      <td>0.000000</td>\n",
       "      <td>5000</td>\n",
       "      <td>True</td>\n",
       "      <td>SkipSequence</td>\n",
       "    </tr>\n",
       "    <tr>\n",
       "      <th>51691</th>\n",
       "      <td>0.00000</td>\n",
       "      <td>0.326207</td>\n",
       "      <td>0.059997</td>\n",
       "      <td>0.000000</td>\n",
       "      <td>0.000000</td>\n",
       "      <td>5000</td>\n",
       "      <td>True</td>\n",
       "      <td>SkipSequence</td>\n",
       "    </tr>\n",
       "    <tr>\n",
       "      <th>51692</th>\n",
       "      <td>0.99019</td>\n",
       "      <td>0.998386</td>\n",
       "      <td>0.942837</td>\n",
       "      <td>0.994743</td>\n",
       "      <td>0.988579</td>\n",
       "      <td>5000</td>\n",
       "      <td>True</td>\n",
       "      <td>SkipSequence</td>\n",
       "    </tr>\n",
       "    <tr>\n",
       "      <th>51693</th>\n",
       "      <td>0.00000</td>\n",
       "      <td>0.000000</td>\n",
       "      <td>0.850964</td>\n",
       "      <td>0.000000</td>\n",
       "      <td>0.000000</td>\n",
       "      <td>5000</td>\n",
       "      <td>True</td>\n",
       "      <td>SkipSequence</td>\n",
       "    </tr>\n",
       "    <tr>\n",
       "      <th>51694</th>\n",
       "      <td>0.00000</td>\n",
       "      <td>0.000000</td>\n",
       "      <td>0.287667</td>\n",
       "      <td>0.000000</td>\n",
       "      <td>0.000000</td>\n",
       "      <td>5000</td>\n",
       "      <td>True</td>\n",
       "      <td>SkipSequence</td>\n",
       "    </tr>\n",
       "  </tbody>\n",
       "</table>\n",
       "<p>51695 rows × 8 columns</p>\n",
       "</div>"
      ],
      "text/plain": [
       "       activity      user       day   country   company trace_id  is_anomaly  \\\n",
       "0       0.00000  0.278788  0.228145  0.277018  0.276930        1       False   \n",
       "1       0.00000  0.000000  0.000000  0.000000  0.000000        1       False   \n",
       "2       0.00000  0.000000  0.000000  0.455927  0.000000        1       False   \n",
       "3       0.00000  0.000000  0.000000  0.000000  0.000000        1       False   \n",
       "4       0.00000  0.461013  0.500967  0.588650  0.720074        1       False   \n",
       "...         ...       ...       ...       ...       ...      ...         ...   \n",
       "51690   0.00000  0.500294  0.364073  0.000000  0.000000     5000        True   \n",
       "51691   0.00000  0.326207  0.059997  0.000000  0.000000     5000        True   \n",
       "51692   0.99019  0.998386  0.942837  0.994743  0.988579     5000        True   \n",
       "51693   0.00000  0.000000  0.850964  0.000000  0.000000     5000        True   \n",
       "51694   0.00000  0.000000  0.287667  0.000000  0.000000     5000        True   \n",
       "\n",
       "            anomaly  \n",
       "0            normal  \n",
       "1            normal  \n",
       "2            normal  \n",
       "3            normal  \n",
       "4            normal  \n",
       "...             ...  \n",
       "51690  SkipSequence  \n",
       "51691  SkipSequence  \n",
       "51692  SkipSequence  \n",
       "51693  SkipSequence  \n",
       "51694  SkipSequence  \n",
       "\n",
       "[51695 rows x 8 columns]"
      ]
     },
     "execution_count": null,
     "metadata": {},
     "output_type": "execute_result"
    }
   ],
   "source": [
    "score_df\n"
   ]
  },
  {
   "cell_type": "code",
   "execution_count": null,
   "id": "6bc3a2a9",
   "metadata": {},
   "outputs": [
    {
     "data": {
      "text/plain": [
       "trace_id\n",
       "23      6\n",
       "213     7\n",
       "1       8\n",
       "6       9\n",
       "20     10\n",
       "2      11\n",
       "21     12\n",
       "17     13\n",
       "108    14\n",
       "dtype: int64"
      ]
     },
     "execution_count": null,
     "metadata": {},
     "output_type": "execute_result"
    }
   ],
   "source": [
    "score_df.groupby(['trace_id']).size().drop_duplicates().sort_values()"
   ]
  },
  {
   "cell_type": "code",
   "execution_count": null,
   "id": "c4fab847",
   "metadata": {},
   "outputs": [
    {
     "data": {
      "text/html": [
       "<div>\n",
       "<style scoped>\n",
       "    .dataframe tbody tr th:only-of-type {\n",
       "        vertical-align: middle;\n",
       "    }\n",
       "\n",
       "    .dataframe tbody tr th {\n",
       "        vertical-align: top;\n",
       "    }\n",
       "\n",
       "    .dataframe thead th {\n",
       "        text-align: right;\n",
       "    }\n",
       "</style>\n",
       "<table border=\"1\" class=\"dataframe\">\n",
       "  <thead>\n",
       "    <tr style=\"text-align: right;\">\n",
       "      <th></th>\n",
       "      <th>trace_id</th>\n",
       "      <th>anomaly</th>\n",
       "      <th>event_id</th>\n",
       "      <th>Attribute</th>\n",
       "      <th>Anomaly Score</th>\n",
       "    </tr>\n",
       "  </thead>\n",
       "  <tbody>\n",
       "    <tr>\n",
       "      <th>0</th>\n",
       "      <td>1</td>\n",
       "      <td>normal</td>\n",
       "      <td>0</td>\n",
       "      <td>activity</td>\n",
       "      <td>0.000000</td>\n",
       "    </tr>\n",
       "    <tr>\n",
       "      <th>1</th>\n",
       "      <td>1</td>\n",
       "      <td>normal</td>\n",
       "      <td>1</td>\n",
       "      <td>activity</td>\n",
       "      <td>0.000000</td>\n",
       "    </tr>\n",
       "    <tr>\n",
       "      <th>2</th>\n",
       "      <td>1</td>\n",
       "      <td>normal</td>\n",
       "      <td>2</td>\n",
       "      <td>activity</td>\n",
       "      <td>0.000000</td>\n",
       "    </tr>\n",
       "    <tr>\n",
       "      <th>3</th>\n",
       "      <td>1</td>\n",
       "      <td>normal</td>\n",
       "      <td>3</td>\n",
       "      <td>activity</td>\n",
       "      <td>0.000000</td>\n",
       "    </tr>\n",
       "    <tr>\n",
       "      <th>4</th>\n",
       "      <td>1</td>\n",
       "      <td>normal</td>\n",
       "      <td>4</td>\n",
       "      <td>activity</td>\n",
       "      <td>0.000000</td>\n",
       "    </tr>\n",
       "    <tr>\n",
       "      <th>...</th>\n",
       "      <td>...</td>\n",
       "      <td>...</td>\n",
       "      <td>...</td>\n",
       "      <td>...</td>\n",
       "      <td>...</td>\n",
       "    </tr>\n",
       "    <tr>\n",
       "      <th>258470</th>\n",
       "      <td>5000</td>\n",
       "      <td>SkipSequence</td>\n",
       "      <td>40</td>\n",
       "      <td>company</td>\n",
       "      <td>0.000000</td>\n",
       "    </tr>\n",
       "    <tr>\n",
       "      <th>258471</th>\n",
       "      <td>5000</td>\n",
       "      <td>SkipSequence</td>\n",
       "      <td>41</td>\n",
       "      <td>company</td>\n",
       "      <td>0.000000</td>\n",
       "    </tr>\n",
       "    <tr>\n",
       "      <th>258472</th>\n",
       "      <td>5000</td>\n",
       "      <td>SkipSequence</td>\n",
       "      <td>42</td>\n",
       "      <td>company</td>\n",
       "      <td>0.988579</td>\n",
       "    </tr>\n",
       "    <tr>\n",
       "      <th>258473</th>\n",
       "      <td>5000</td>\n",
       "      <td>SkipSequence</td>\n",
       "      <td>43</td>\n",
       "      <td>company</td>\n",
       "      <td>0.000000</td>\n",
       "    </tr>\n",
       "    <tr>\n",
       "      <th>258474</th>\n",
       "      <td>5000</td>\n",
       "      <td>SkipSequence</td>\n",
       "      <td>44</td>\n",
       "      <td>company</td>\n",
       "      <td>0.000000</td>\n",
       "    </tr>\n",
       "  </tbody>\n",
       "</table>\n",
       "<p>258475 rows × 5 columns</p>\n",
       "</div>"
      ],
      "text/plain": [
       "       trace_id       anomaly  event_id Attribute  Anomaly Score\n",
       "0             1        normal         0  activity       0.000000\n",
       "1             1        normal         1  activity       0.000000\n",
       "2             1        normal         2  activity       0.000000\n",
       "3             1        normal         3  activity       0.000000\n",
       "4             1        normal         4  activity       0.000000\n",
       "...         ...           ...       ...       ...            ...\n",
       "258470     5000  SkipSequence        40   company       0.000000\n",
       "258471     5000  SkipSequence        41   company       0.000000\n",
       "258472     5000  SkipSequence        42   company       0.988579\n",
       "258473     5000  SkipSequence        43   company       0.000000\n",
       "258474     5000  SkipSequence        44   company       0.000000\n",
       "\n",
       "[258475 rows x 5 columns]"
      ]
     },
     "execution_count": null,
     "metadata": {},
     "output_type": "execute_result"
    }
   ],
   "source": [
    "score_df['event_id']=score_df.groupby('trace_id').cumcount()\n",
    "\n",
    "plot_data=score_df.melt(value_vars=['activity','user','day','country','company'],value_name='Anomaly Score',var_name='Attribute',id_vars=['trace_id','anomaly','event_id'])\n",
    "plot_data['event_id']=plot_data.groupby('trace_id').cumcount()\n",
    "plot_data"
   ]
  },
  {
   "cell_type": "code",
   "execution_count": null,
   "id": "001d1347",
   "metadata": {},
   "outputs": [],
   "source": [
    "import seaborn as sns"
   ]
  },
  {
   "cell_type": "code",
   "execution_count": null,
   "id": "6e8158d3",
   "metadata": {},
   "outputs": [
    {
     "name": "stdout",
     "output_type": "stream",
     "text": [
      "45\n",
      "SkipSequence\n",
      "6\n"
     ]
    },
    {
     "data": {
      "image/png": "[encoded data removed]",
      "text/plain": [
       "<Figure size 657.75x288 with 1 Axes>"
      ]
     },
     "metadata": {},
     "output_type": "display_data"
    }
   ],
   "source": [
    "data=plot_data[plot_data['trace_id']==6].copy()\n",
    "data['xticks']= [f'e{y+1}' for x in range(5) for y in range(len(data)//5)]\n",
    "print(len(data))\n",
    "print(data['anomaly'].iloc[0])\n",
    "print(data['trace_id'].iloc[0])\n",
    "times = data.event_id.unique()\n",
    "g = sns.FacetGrid(data, col=\"trace_id\", hue=\"Attribute\",\n",
    "                  palette=\"Set3\", height=4, aspect=2)\n",
    "g.map(sns.barplot, 'event_id', 'Anomaly Score', order=times)\n",
    "g.add_legend()\n",
    "ax1 = g.axes[0][0]\n",
    "g.set_titles(col_template=\"\", row_template=\"\")\n",
    "g.set_axis_labels('')\n",
    "\n",
    "ax1.axhline(0.98, ls='--')\n",
    "for ax in g.axes.flat:\n",
    "  \n",
    "    ax.set_xticklabels([f'e{y+1}' for x in range(5) for y in range(len(data)//5)], rotation=40,fontsize=9) # set new labels\n",
    "plt.show()"
   ]
  },
  {
   "cell_type": "code",
   "execution_count": null,
   "id": "30752109",
   "metadata": {},
   "outputs": [],
   "source": [
    "import matplotlib.pyplot as plt\n",
    "plt.style.use('ggplot')\n"
   ]
  },
  {
   "cell_type": "code",
   "execution_count": null,
   "id": "3fd88b5a",
   "metadata": {},
   "outputs": [],
   "source": [
    "def plot_anomaly_scores(trace_id):\n",
    "    data=plot_data[plot_data['trace_id']==trace_id]\n",
    "    print(len(data))\n",
    "    print(data['anomaly'].iloc[0])\n",
    "    print(data['trace_id'].iloc[0])\n",
    "    times = data.event_id.unique()\n",
    "    g = sns.FacetGrid(data, col=\"trace_id\", hue=\"Attribute\",\n",
    "                      palette=\"Set3\", height=4, aspect=2)\n",
    "    g.map(sns.barplot, 'event_id', 'Anomaly Score', order=times)\n",
    "    g.add_legend()\n",
    "    ax1 = g.axes[0][0]\n",
    "    g.set_titles(col_template=\"\", row_template=\"\")\n",
    "    g.set_axis_labels('')\n",
    "    ax1.axhline(0.98, ls='--')\n",
    "    for ax in g.axes.flat:\n",
    "\n",
    "        ax.set_xticklabels([f'e{y+1}' for x in range(5) for y in range(len(data)//5)], rotation=50,fontsize=11) # set new labels\n",
    "    plt.show()"
   ]
  },
  {
   "cell_type": "code",
   "execution_count": null,
   "id": "68b81aec",
   "metadata": {},
   "outputs": [
    {
     "name": "stdout",
     "output_type": "stream",
     "text": [
      "40\n",
      "normal\n",
      "1\n"
     ]
    },
    {
     "data": {
      "image/png": "[encoded data removed]",
      "text/plain": [
       "<Figure size 657.75x288 with 1 Axes>"
      ]
     },
     "metadata": {},
     "output_type": "display_data"
    }
   ],
   "source": [
    "plot_anomaly_scores(1)"
   ]
  },
  {
   "cell_type": "code",
   "execution_count": null,
   "id": "d27ec6ea",
   "metadata": {},
   "outputs": [
    {
     "name": "stdout",
     "output_type": "stream",
     "text": [
      "45\n",
      "SkipSequence\n",
      "6\n"
     ]
    },
    {
     "data": {
      "image/png": "[encoded data removed]",
      "text/plain": [
       "<Figure size 657.75x288 with 1 Axes>"
      ]
     },
     "metadata": {},
     "output_type": "display_data"
    }
   ],
   "source": [
    "plot_anomaly_scores(6)"
   ]
  },
  {
   "cell_type": "code",
   "execution_count": null,
   "id": "c28d1ce0",
   "metadata": {},
   "outputs": [],
   "source": []
  }
 ],
 "metadata": {
  "kernelspec": {
   "display_name": "dapnn",
   "language": "python",
   "name": "dapnn"
  }
 },
 "nbformat": 4,
 "nbformat_minor": 5
}
