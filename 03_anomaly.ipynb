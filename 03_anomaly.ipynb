{
 "cells": [
  {
   "cell_type": "markdown",
   "id": "dbac30d7",
   "metadata": {},
   "source": [
    "# Anomaly Detection Model\n",
    ">  Includes the anomaly detection algorithm, i.e. the prediction model, the loss functions and the anomaly score calculation and classification, as well as the metric computation."
   ]
  },
  {
   "cell_type": "markdown",
   "id": "9e2b119a",
   "metadata": {},
   "source": [
    "<h1>Table of Contents<span class=\"tocSkip\"></span></h1>\n",
    "<div class=\"toc\"><ul class=\"toc-item\"><li><span><a href=\"#Only-Control-flow\" data-toc-modified-id=\"Only-Control-flow-1\"><span class=\"toc-item-num\">1&nbsp;&nbsp;</span>Only Control-flow</a></span><ul class=\"toc-item\"><li><span><a href=\"#Load-Log\" data-toc-modified-id=\"Load-Log-1.1\"><span class=\"toc-item-num\">1.1&nbsp;&nbsp;</span>Load Log</a></span></li><li><span><a href=\"#Create-PPObj-with-vocab-and-dataloaders\" data-toc-modified-id=\"Create-PPObj-with-vocab-and-dataloaders-1.2\"><span class=\"toc-item-num\">1.2&nbsp;&nbsp;</span>Create PPObj with vocab and dataloaders</a></span></li><li><span><a href=\"#Define-Deep-Learning-Model\" data-toc-modified-id=\"Define-Deep-Learning-Model-1.3\"><span class=\"toc-item-num\">1.3&nbsp;&nbsp;</span>Define Deep Learning Model</a></span></li><li><span><a href=\"#Define-Training-Loop-and-Helper-Functions\" data-toc-modified-id=\"Define-Training-Loop-and-Helper-Functions-1.4\"><span class=\"toc-item-num\">1.4&nbsp;&nbsp;</span>Define Training Loop and Helper Functions</a></span></li><li><span><a href=\"#Train-prediction-model\" data-toc-modified-id=\"Train-prediction-model-1.5\"><span class=\"toc-item-num\">1.5&nbsp;&nbsp;</span>Train prediction model</a></span></li><li><span><a href=\"#Load-Test-Data\" data-toc-modified-id=\"Load-Test-Data-1.6\"><span class=\"toc-item-num\">1.6&nbsp;&nbsp;</span>Load Test Data</a></span></li><li><span><a href=\"#Create-PPOBJ-of-test-data-with-same-vocab\" data-toc-modified-id=\"Create-PPOBJ-of-test-data-with-same-vocab-1.7\"><span class=\"toc-item-num\">1.7&nbsp;&nbsp;</span>Create PPOBJ of test data with same vocab</a></span></li><li><span><a href=\"#Apply-Prediction-Model\" data-toc-modified-id=\"Apply-Prediction-Model-1.8\"><span class=\"toc-item-num\">1.8&nbsp;&nbsp;</span>Apply Prediction Model</a></span></li><li><span><a href=\"#Calculate-Anomaly-Score\" data-toc-modified-id=\"Calculate-Anomaly-Score-1.9\"><span class=\"toc-item-num\">1.9&nbsp;&nbsp;</span>Calculate Anomaly Score</a></span></li><li><span><a href=\"#Classify-Anomalies-based-of-Threshhold,-get-predictions-and-ground-truth,-compute-a-few-metrics\" data-toc-modified-id=\"Classify-Anomalies-based-of-Threshhold,-get-predictions-and-ground-truth,-compute-a-few-metrics-1.10\"><span class=\"toc-item-num\">1.10&nbsp;&nbsp;</span>Classify Anomalies based of Threshhold, get predictions and ground truth, compute a few metrics</a></span></li><li><span><a href=\"#Get-NSP-Accuracy-on-Inrference\" data-toc-modified-id=\"Get-NSP-Accuracy-on-Inrference-1.11\"><span class=\"toc-item-num\">1.11&nbsp;&nbsp;</span>Get NSP Accuracy on Inrference</a></span></li></ul></li><li><span><a href=\"#Multivariate-Anomaly-Detection\" data-toc-modified-id=\"Multivariate-Anomaly-Detection-2\"><span class=\"toc-item-num\">2&nbsp;&nbsp;</span>Multivariate Anomaly Detection</a></span><ul class=\"toc-item\"><li><span><a href=\"#Load-Event-Log:\" data-toc-modified-id=\"Load-Event-Log:-2.1\"><span class=\"toc-item-num\">2.1&nbsp;&nbsp;</span>Load Event Log:</a></span></li><li><span><a href=\"#Create-Training-Data-Loaders-and-Vocab:\" data-toc-modified-id=\"Create-Training-Data-Loaders-and-Vocab:-2.2\"><span class=\"toc-item-num\">2.2&nbsp;&nbsp;</span>Create Training Data Loaders and Vocab:</a></span></li><li><span><a href=\"#Create-Multivariate-Prediction-Model\" data-toc-modified-id=\"Create-Multivariate-Prediction-Model-2.3\"><span class=\"toc-item-num\">2.3&nbsp;&nbsp;</span>Create Multivariate Prediction Model</a></span></li><li><span><a href=\"#Define-Multi-Loss-and--Metrics\" data-toc-modified-id=\"Define-Multi-Loss-and--Metrics-2.4\"><span class=\"toc-item-num\">2.4&nbsp;&nbsp;</span>Define Multi-Loss and -Metrics</a></span></li><li><span><a href=\"#Training-of-the-prediction-network\" data-toc-modified-id=\"Training-of-the-prediction-network-2.5\"><span class=\"toc-item-num\">2.5&nbsp;&nbsp;</span>Training of the prediction network</a></span></li><li><span><a href=\"#Load-Test-Log-for-Inference\" data-toc-modified-id=\"Load-Test-Log-for-Inference-2.6\"><span class=\"toc-item-num\">2.6&nbsp;&nbsp;</span>Load Test Log for Inference</a></span></li><li><span><a href=\"#Compute-Anomaly-Score\" data-toc-modified-id=\"Compute-Anomaly-Score-2.7\"><span class=\"toc-item-num\">2.7&nbsp;&nbsp;</span>Compute Anomaly Score</a></span></li><li><span><a href=\"#Anomaly-Classification\" data-toc-modified-id=\"Anomaly-Classification-2.8\"><span class=\"toc-item-num\">2.8&nbsp;&nbsp;</span>Anomaly Classification</a></span></li></ul></li><li><span><a href=\"#Plot-Anomaly-Scores-for-a-Trace\" data-toc-modified-id=\"Plot-Anomaly-Scores-for-a-Trace-3\"><span class=\"toc-item-num\">3&nbsp;&nbsp;</span>Plot Anomaly Scores for a Trace</a></span></li></ul></div>"
   ]
  },
  {
   "cell_type": "code",
   "execution_count": null,
   "id": "79215c33",
   "metadata": {},
   "outputs": [],
   "source": [
    "#default_exp anomaly"
   ]
  },
  {
   "cell_type": "code",
   "execution_count": null,
   "id": "dc358b60",
   "metadata": {},
   "outputs": [
    {
     "name": "stdout",
     "output_type": "stream",
     "text": [
      "The autoreload extension is already loaded. To reload it, use:\n",
      "  %reload_ext autoreload\n"
     ]
    }
   ],
   "source": [
    "%load_ext autoreload\n",
    "%autoreload 2\n",
    "%matplotlib inline"
   ]
  },
  {
   "cell_type": "code",
   "execution_count": null,
   "id": "b0603fe6",
   "metadata": {},
   "outputs": [],
   "source": [
    "#export\n",
    "\n",
    "from dapnn.imports import *\n",
    "from dapnn.data_processing import *"
   ]
  },
  {
   "cell_type": "code",
   "execution_count": null,
   "id": "3769b901",
   "metadata": {},
   "outputs": [],
   "source": [
    "#export\n",
    "import warnings\n",
    "warnings.filterwarnings(action='once')"
   ]
  },
  {
   "cell_type": "code",
   "execution_count": null,
   "id": "d7c08ed1",
   "metadata": {},
   "outputs": [
    {
     "name": "stdout",
     "output_type": "stream",
     "text": [
      "Converted 03_anomaly.ipynb.\n"
     ]
    }
   ],
   "source": [
    "notebook2script(fname='03_anomaly.ipynb')"
   ]
  },
  {
   "cell_type": "markdown",
   "id": "a1b60692",
   "metadata": {},
   "source": [
    "## Only Control-flow "
   ]
  },
  {
   "cell_type": "markdown",
   "id": "2a9964cd",
   "metadata": {},
   "source": [
    "### Load Log"
   ]
  },
  {
   "cell_type": "code",
   "execution_count": null,
   "id": "6de18bea",
   "metadata": {},
   "outputs": [],
   "source": [
    "log_name='pdc_2020_0101100'"
   ]
  },
  {
   "cell_type": "code",
   "execution_count": null,
   "id": "c4594ac8",
   "metadata": {},
   "outputs": [
    {
     "data": {
      "text/html": [
       "<div>\n",
       "<style scoped>\n",
       "    .dataframe tbody tr th:only-of-type {\n",
       "        vertical-align: middle;\n",
       "    }\n",
       "\n",
       "    .dataframe tbody tr th {\n",
       "        vertical-align: top;\n",
       "    }\n",
       "\n",
       "    .dataframe thead th {\n",
       "        text-align: right;\n",
       "    }\n",
       "</style>\n",
       "<table border=\"1\" class=\"dataframe\">\n",
       "  <thead>\n",
       "    <tr style=\"text-align: right;\">\n",
       "      <th></th>\n",
       "      <th>activity</th>\n",
       "      <th>trace_id</th>\n",
       "      <th>event_id</th>\n",
       "    </tr>\n",
       "    <tr>\n",
       "      <th>trace_id</th>\n",
       "      <th></th>\n",
       "      <th></th>\n",
       "      <th></th>\n",
       "    </tr>\n",
       "  </thead>\n",
       "  <tbody>\n",
       "    <tr>\n",
       "      <th>trace 1</th>\n",
       "      <td>###start###</td>\n",
       "      <td>trace 1</td>\n",
       "      <td>0</td>\n",
       "    </tr>\n",
       "    <tr>\n",
       "      <th>trace 1</th>\n",
       "      <td>t31</td>\n",
       "      <td>trace 1</td>\n",
       "      <td>1</td>\n",
       "    </tr>\n",
       "    <tr>\n",
       "      <th>trace 1</th>\n",
       "      <td>t41</td>\n",
       "      <td>trace 1</td>\n",
       "      <td>2</td>\n",
       "    </tr>\n",
       "    <tr>\n",
       "      <th>trace 1</th>\n",
       "      <td>t26</td>\n",
       "      <td>trace 1</td>\n",
       "      <td>3</td>\n",
       "    </tr>\n",
       "    <tr>\n",
       "      <th>trace 1</th>\n",
       "      <td>t36</td>\n",
       "      <td>trace 1</td>\n",
       "      <td>4</td>\n",
       "    </tr>\n",
       "    <tr>\n",
       "      <th>trace 1</th>\n",
       "      <td>t44</td>\n",
       "      <td>trace 1</td>\n",
       "      <td>5</td>\n",
       "    </tr>\n",
       "    <tr>\n",
       "      <th>trace 1</th>\n",
       "      <td>t54</td>\n",
       "      <td>trace 1</td>\n",
       "      <td>6</td>\n",
       "    </tr>\n",
       "    <tr>\n",
       "      <th>trace 1</th>\n",
       "      <td>t33</td>\n",
       "      <td>trace 1</td>\n",
       "      <td>7</td>\n",
       "    </tr>\n",
       "    <tr>\n",
       "      <th>trace 1</th>\n",
       "      <td>t23</td>\n",
       "      <td>trace 1</td>\n",
       "      <td>8</td>\n",
       "    </tr>\n",
       "    <tr>\n",
       "      <th>trace 1</th>\n",
       "      <td>t65</td>\n",
       "      <td>trace 1</td>\n",
       "      <td>9</td>\n",
       "    </tr>\n",
       "    <tr>\n",
       "      <th>trace 1</th>\n",
       "      <td>t76</td>\n",
       "      <td>trace 1</td>\n",
       "      <td>10</td>\n",
       "    </tr>\n",
       "    <tr>\n",
       "      <th>trace 1</th>\n",
       "      <td>t21</td>\n",
       "      <td>trace 1</td>\n",
       "      <td>11</td>\n",
       "    </tr>\n",
       "    <tr>\n",
       "      <th>trace 1</th>\n",
       "      <td>t74</td>\n",
       "      <td>trace 1</td>\n",
       "      <td>12</td>\n",
       "    </tr>\n",
       "    <tr>\n",
       "      <th>trace 1</th>\n",
       "      <td>t32</td>\n",
       "      <td>trace 1</td>\n",
       "      <td>13</td>\n",
       "    </tr>\n",
       "    <tr>\n",
       "      <th>trace 1</th>\n",
       "      <td>t64</td>\n",
       "      <td>trace 1</td>\n",
       "      <td>14</td>\n",
       "    </tr>\n",
       "    <tr>\n",
       "      <th>trace 1</th>\n",
       "      <td>t41</td>\n",
       "      <td>trace 1</td>\n",
       "      <td>15</td>\n",
       "    </tr>\n",
       "    <tr>\n",
       "      <th>trace 1</th>\n",
       "      <td>t33</td>\n",
       "      <td>trace 1</td>\n",
       "      <td>16</td>\n",
       "    </tr>\n",
       "    <tr>\n",
       "      <th>trace 1</th>\n",
       "      <td>t23</td>\n",
       "      <td>trace 1</td>\n",
       "      <td>17</td>\n",
       "    </tr>\n",
       "    <tr>\n",
       "      <th>trace 1</th>\n",
       "      <td>t21</td>\n",
       "      <td>trace 1</td>\n",
       "      <td>18</td>\n",
       "    </tr>\n",
       "    <tr>\n",
       "      <th>trace 1</th>\n",
       "      <td>t32</td>\n",
       "      <td>trace 1</td>\n",
       "      <td>19</td>\n",
       "    </tr>\n",
       "  </tbody>\n",
       "</table>\n",
       "</div>"
      ],
      "text/plain": [
       "             activity trace_id event_id\n",
       "trace_id                               \n",
       "trace 1   ###start###  trace 1        0\n",
       "trace 1           t31  trace 1        1\n",
       "trace 1           t41  trace 1        2\n",
       "trace 1           t26  trace 1        3\n",
       "trace 1           t36  trace 1        4\n",
       "trace 1           t44  trace 1        5\n",
       "trace 1           t54  trace 1        6\n",
       "trace 1           t33  trace 1        7\n",
       "trace 1           t23  trace 1        8\n",
       "trace 1           t65  trace 1        9\n",
       "trace 1           t76  trace 1       10\n",
       "trace 1           t21  trace 1       11\n",
       "trace 1           t74  trace 1       12\n",
       "trace 1           t32  trace 1       13\n",
       "trace 1           t64  trace 1       14\n",
       "trace 1           t41  trace 1       15\n",
       "trace 1           t33  trace 1       16\n",
       "trace 1           t23  trace 1       17\n",
       "trace 1           t21  trace 1       18\n",
       "trace 1           t32  trace 1       19"
      ]
     },
     "execution_count": null,
     "metadata": {},
     "output_type": "execute_result"
    }
   ],
   "source": [
    "log = import_log(f'data/csv/PDC2020_training/{log_name}.csv.gz')\n",
    "log.head(20)"
   ]
  },
  {
   "cell_type": "markdown",
   "id": "37485d1b",
   "metadata": {},
   "source": [
    "### Create PPObj with vocab and dataloaders"
   ]
  },
  {
   "cell_type": "code",
   "execution_count": null,
   "id": "0bafdeec",
   "metadata": {},
   "outputs": [],
   "source": [
    "#export\n",
    "def training_dl(log,cat_names='activity',seed=45,ws=5,bs=32):\n",
    "    categorify=Categorify()\n",
    "\n",
    "    o=PPObj(log,procs=categorify,cat_names=cat_names,y_names=cat_names,splits=split_traces(log,test_seed=seed,validation_seed=seed))\n",
    "    dls=o.get_dls(windows=partial(windows_fast,ws=ws),bs=bs)\n",
    "    return o,dls,categorify\n",
    "\n"
   ]
  },
  {
   "cell_type": "code",
   "execution_count": null,
   "id": "1a160b35",
   "metadata": {},
   "outputs": [],
   "source": [
    "o,dls,categorify = training_dl(log)"
   ]
  },
  {
   "cell_type": "markdown",
   "id": "750664ba",
   "metadata": {},
   "source": [
    "### Define Deep Learning Model"
   ]
  },
  {
   "cell_type": "code",
   "execution_count": null,
   "id": "ff3450a3",
   "metadata": {},
   "outputs": [],
   "source": [
    "x,y= dls.one_batch()"
   ]
  },
  {
   "cell_type": "code",
   "execution_count": null,
   "id": "0888e219",
   "metadata": {},
   "outputs": [],
   "source": [
    "class ControlFlowModel(torch.nn.Module) :\n",
    "    def __init__(self, o) :\n",
    "        super().__init__()\n",
    "        hidden=25\n",
    "        vocab_act=len(o.procs.categorify['activity'])\n",
    "        emb_dim_act = int(np.sqrt(vocab_act))+1\n",
    "\n",
    "        self.emb_act = nn.Embedding(vocab_act,emb_dim_act)\n",
    "        \n",
    "        self.lstm_act = nn.LSTM(emb_dim_act, hidden, batch_first=True, num_layers=2)\n",
    "\n",
    "        self.linear_act = nn.Linear(hidden, vocab_act)\n",
    "\n",
    "    def forward(self, xcat):\n",
    "        xcat=xcat[:,0]\n",
    "        x_act=xcat\n",
    "        x_act = self.emb_act(x_act)\n",
    "        x_act,_ = self.lstm_act(x_act)\n",
    "        x_act = x_act[:,-1]\n",
    "        x_act = self.linear_act(x_act)\n",
    "        return x_act"
   ]
  },
  {
   "cell_type": "code",
   "execution_count": null,
   "id": "06460852",
   "metadata": {},
   "outputs": [],
   "source": [
    "m=ControlFlowModel(o)\n"
   ]
  },
  {
   "cell_type": "code",
   "execution_count": null,
   "id": "d8c918da",
   "metadata": {},
   "outputs": [],
   "source": [
    "pred=m(x.cpu())"
   ]
  },
  {
   "cell_type": "code",
   "execution_count": null,
   "id": "57c0785b",
   "metadata": {},
   "outputs": [
    {
     "data": {
      "text/plain": [
       "tensor([22, 17,  4, 13, 16, 13,  8,  4, 12, 23, 23, 15, 25, 15,  6, 14, 11,  9,\n",
       "         6, 19, 20, 11, 24, 19,  5,  6,  9,  6,  8, 14,  6,  9])"
      ]
     },
     "execution_count": null,
     "metadata": {},
     "output_type": "execute_result"
    }
   ],
   "source": [
    "y[0].cpu()"
   ]
  },
  {
   "cell_type": "code",
   "execution_count": null,
   "id": "22ca93e3",
   "metadata": {},
   "outputs": [],
   "source": [
    "squeeze_cross_entropy = lambda x,y:F.cross_entropy(x,y[0])\n",
    "squeeze_accuracy =lambda x,y:accuracy(x,y[0])\n"
   ]
  },
  {
   "cell_type": "code",
   "execution_count": null,
   "id": "f03a2b46",
   "metadata": {},
   "outputs": [
    {
     "data": {
      "text/plain": [
       "(tensor(3.3116, device='cuda:0', grad_fn=<NllLossBackward>),\n",
       " TensorBase(0.1250, device='cuda:0'))"
      ]
     },
     "execution_count": null,
     "metadata": {},
     "output_type": "execute_result"
    }
   ],
   "source": [
    "squeeze_cross_entropy(pred.cuda(),y),squeeze_accuracy(pred.cuda(),y)"
   ]
  },
  {
   "cell_type": "markdown",
   "id": "3e1731a2",
   "metadata": {},
   "source": [
    "### Define Training Loop and Helper Functions"
   ]
  },
  {
   "cell_type": "code",
   "execution_count": null,
   "id": "4f24ac6b",
   "metadata": {},
   "outputs": [],
   "source": [
    "#export\n",
    "class HideOutput:\n",
    "    'A utility function that hides all outputs in a context'\n",
    "    def __enter__(self):\n",
    "        self._original_stdout = sys.stdout\n",
    "        sys.stdout = open(os.devnull, 'w')\n",
    "\n",
    "    def __exit__(self, exc_type, exc_val, exc_tb):\n",
    "        sys.stdout.close()\n",
    "        sys.stdout = self._original_stdout"
   ]
  },
  {
   "cell_type": "code",
   "execution_count": null,
   "id": "04206c76",
   "metadata": {},
   "outputs": [],
   "source": [
    "#export\n",
    "def training_loop(learn,epoch,print_output,lr_find,fixed_learning_rate=0.01):\n",
    "    '''\n",
    "    Basic training loop that uses learning rate finder and one cycle training. \n",
    "    See fastai docs for more information\n",
    "    '''\n",
    "    if lr_find:\n",
    "        lr=np.median([learn.lr_find(show_plot=print_output)[0] for i in range(5)])\n",
    "        learn.fit_one_cycle(epoch,float(lr))\n",
    "    else: learn.fit(epoch,fixed_learning_rate)"
   ]
  },
  {
   "cell_type": "code",
   "execution_count": null,
   "id": "1784333a",
   "metadata": {},
   "outputs": [],
   "source": [
    "#export\n",
    "def train_validate(dls,m,metrics=accuracy,loss=F.cross_entropy,epoch=20,print_output=True,model_dir=\".\",lr_find=True,\n",
    "                   patience=5,min_delta=0.005,show_plot=True,store_path='tmp',model_name='.model'):\n",
    "    '''\n",
    "    Trains a model on the training set with early stopping based on the validation loss.\n",
    "    Afterwards, applies it to the test set.\n",
    "    '''\n",
    "    cbs = [\n",
    "      EarlyStoppingCallback(monitor='valid_loss',min_delta=min_delta, patience=patience),\n",
    "      SaveModelCallback(fname=model_name),\n",
    "      ]\n",
    "    learn=Learner(dls, m, path=store_path, model_dir=model_dir, loss_func=loss ,metrics=metrics,cbs=cbs)\n",
    "\n",
    "    if print_output:\n",
    "        training_loop(learn,epoch,show_plot,lr_find=lr_find)\n",
    "        return learn.validate(dl=dls[2])\n",
    "    else:\n",
    "        with HideOutput(),learn.no_bar(),learn.no_logging():\n",
    "            training_loop(learn,epoch,show_plot,lr_find=lr_find)\n",
    "            return learn.validate(dl=dls[2])"
   ]
  },
  {
   "cell_type": "markdown",
   "id": "d5c46c30",
   "metadata": {},
   "source": [
    "### Train prediction model"
   ]
  },
  {
   "cell_type": "code",
   "execution_count": null,
   "id": "d82488a2",
   "metadata": {},
   "outputs": [
    {
     "data": {
      "text/html": [],
      "text/plain": [
       "<IPython.core.display.HTML object>"
      ]
     },
     "metadata": {},
     "output_type": "display_data"
    },
    {
     "data": {
      "text/html": [],
      "text/plain": [
       "<IPython.core.display.HTML object>"
      ]
     },
     "metadata": {},
     "output_type": "display_data"
    },
    {
     "data": {
      "text/html": [],
      "text/plain": [
       "<IPython.core.display.HTML object>"
      ]
     },
     "metadata": {},
     "output_type": "display_data"
    },
    {
     "data": {
      "text/html": [],
      "text/plain": [
       "<IPython.core.display.HTML object>"
      ]
     },
     "metadata": {},
     "output_type": "display_data"
    },
    {
     "data": {
      "text/html": [],
      "text/plain": [
       "<IPython.core.display.HTML object>"
      ]
     },
     "metadata": {},
     "output_type": "display_data"
    },
    {
     "data": {
      "text/html": [
       "<table border=\"1\" class=\"dataframe\">\n",
       "  <thead>\n",
       "    <tr style=\"text-align: left;\">\n",
       "      <th>epoch</th>\n",
       "      <th>train_loss</th>\n",
       "      <th>valid_loss</th>\n",
       "      <th><lambda></th>\n",
       "      <th>time</th>\n",
       "    </tr>\n",
       "  </thead>\n",
       "  <tbody>\n",
       "    <tr>\n",
       "      <td>0</td>\n",
       "      <td>2.205717</td>\n",
       "      <td>2.082605</td>\n",
       "      <td>0.406540</td>\n",
       "      <td>00:04</td>\n",
       "    </tr>\n",
       "    <tr>\n",
       "      <td>1</td>\n",
       "      <td>1.447411</td>\n",
       "      <td>1.384715</td>\n",
       "      <td>0.498780</td>\n",
       "      <td>00:04</td>\n",
       "    </tr>\n",
       "    <tr>\n",
       "      <td>2</td>\n",
       "      <td>1.180681</td>\n",
       "      <td>1.161306</td>\n",
       "      <td>0.513909</td>\n",
       "      <td>00:05</td>\n",
       "    </tr>\n",
       "    <tr>\n",
       "      <td>3</td>\n",
       "      <td>1.143156</td>\n",
       "      <td>1.104055</td>\n",
       "      <td>0.523182</td>\n",
       "      <td>00:04</td>\n",
       "    </tr>\n",
       "    <tr>\n",
       "      <td>4</td>\n",
       "      <td>1.116983</td>\n",
       "      <td>1.118251</td>\n",
       "      <td>0.507077</td>\n",
       "      <td>00:05</td>\n",
       "    </tr>\n",
       "    <tr>\n",
       "      <td>5</td>\n",
       "      <td>1.125832</td>\n",
       "      <td>1.051683</td>\n",
       "      <td>0.534407</td>\n",
       "      <td>00:04</td>\n",
       "    </tr>\n",
       "    <tr>\n",
       "      <td>6</td>\n",
       "      <td>1.079998</td>\n",
       "      <td>1.062800</td>\n",
       "      <td>0.504636</td>\n",
       "      <td>00:05</td>\n",
       "    </tr>\n",
       "    <tr>\n",
       "      <td>7</td>\n",
       "      <td>1.030301</td>\n",
       "      <td>1.059585</td>\n",
       "      <td>0.512445</td>\n",
       "      <td>00:05</td>\n",
       "    </tr>\n",
       "    <tr>\n",
       "      <td>8</td>\n",
       "      <td>1.055932</td>\n",
       "      <td>1.061015</td>\n",
       "      <td>0.510981</td>\n",
       "      <td>00:05</td>\n",
       "    </tr>\n",
       "    <tr>\n",
       "      <td>9</td>\n",
       "      <td>1.057216</td>\n",
       "      <td>1.049739</td>\n",
       "      <td>0.514397</td>\n",
       "      <td>00:04</td>\n",
       "    </tr>\n",
       "    <tr>\n",
       "      <td>10</td>\n",
       "      <td>1.040074</td>\n",
       "      <td>1.025443</td>\n",
       "      <td>0.521718</td>\n",
       "      <td>00:05</td>\n",
       "    </tr>\n",
       "    <tr>\n",
       "      <td>11</td>\n",
       "      <td>1.019999</td>\n",
       "      <td>1.034724</td>\n",
       "      <td>0.516837</td>\n",
       "      <td>00:05</td>\n",
       "    </tr>\n",
       "    <tr>\n",
       "      <td>12</td>\n",
       "      <td>1.036386</td>\n",
       "      <td>1.037570</td>\n",
       "      <td>0.513909</td>\n",
       "      <td>00:05</td>\n",
       "    </tr>\n",
       "    <tr>\n",
       "      <td>13</td>\n",
       "      <td>1.013907</td>\n",
       "      <td>1.015722</td>\n",
       "      <td>0.510981</td>\n",
       "      <td>00:05</td>\n",
       "    </tr>\n",
       "    <tr>\n",
       "      <td>14</td>\n",
       "      <td>1.007877</td>\n",
       "      <td>1.025724</td>\n",
       "      <td>0.524646</td>\n",
       "      <td>00:05</td>\n",
       "    </tr>\n",
       "    <tr>\n",
       "      <td>15</td>\n",
       "      <td>1.007561</td>\n",
       "      <td>1.011149</td>\n",
       "      <td>0.519766</td>\n",
       "      <td>00:05</td>\n",
       "    </tr>\n",
       "    <tr>\n",
       "      <td>16</td>\n",
       "      <td>1.006113</td>\n",
       "      <td>1.020445</td>\n",
       "      <td>0.523182</td>\n",
       "      <td>00:04</td>\n",
       "    </tr>\n",
       "    <tr>\n",
       "      <td>17</td>\n",
       "      <td>0.953500</td>\n",
       "      <td>1.013018</td>\n",
       "      <td>0.525134</td>\n",
       "      <td>00:04</td>\n",
       "    </tr>\n",
       "    <tr>\n",
       "      <td>18</td>\n",
       "      <td>0.954613</td>\n",
       "      <td>1.015898</td>\n",
       "      <td>0.517814</td>\n",
       "      <td>00:05</td>\n",
       "    </tr>\n",
       "  </tbody>\n",
       "</table>"
      ],
      "text/plain": [
       "<IPython.core.display.HTML object>"
      ]
     },
     "metadata": {},
     "output_type": "display_data"
    },
    {
     "name": "stderr",
     "output_type": "stream",
     "text": [
      "/home/lahann/miniconda3/envs/dapnn/lib/python3.8/site-packages/fastai/callback/schedule.py:72: UserWarning: This overload of nonzero is deprecated:\n",
      "\tnonzero()\n",
      "Consider using one of the following signatures instead:\n",
      "\tnonzero(*, bool as_tuple) (Triggered internally at  /opt/conda/conda-bld/pytorch_1607370172916/work/torch/csrc/utils/python_arg_parser.cpp:882.)\n",
      "  idx = min((pos >= pcts).nonzero().max(), pct_lim)\n"
     ]
    },
    {
     "name": "stdout",
     "output_type": "stream",
     "text": [
      "Better model found at epoch 0 with valid_loss value: 2.0826048851013184.\n",
      "Better model found at epoch 1 with valid_loss value: 1.384714961051941.\n",
      "Better model found at epoch 2 with valid_loss value: 1.1613057851791382.\n",
      "Better model found at epoch 3 with valid_loss value: 1.1040551662445068.\n",
      "Better model found at epoch 5 with valid_loss value: 1.0516825914382935.\n",
      "Better model found at epoch 9 with valid_loss value: 1.0497394800186157.\n",
      "Better model found at epoch 10 with valid_loss value: 1.0254427194595337.\n",
      "Better model found at epoch 13 with valid_loss value: 1.0157216787338257.\n",
      "Better model found at epoch 15 with valid_loss value: 1.0111490488052368.\n",
      "No improvement since epoch 13: early stopping\n"
     ]
    },
    {
     "data": {
      "text/html": [],
      "text/plain": [
       "<IPython.core.display.HTML object>"
      ]
     },
     "metadata": {},
     "output_type": "display_data"
    },
    {
     "name": "stdout",
     "output_type": "stream",
     "text": [
      "Better model found at epoch 0 with valid_loss value: 0.52173912525177.\n"
     ]
    },
    {
     "data": {
      "image/png": "[encoded data removed]",
      "text/plain": [
       "<Figure size 432x288 with 1 Axes>"
      ]
     },
     "metadata": {
      "needs_background": "light"
     },
     "output_type": "display_data"
    },
    {
     "data": {
      "image/png": "[encoded data removed]",
      "text/plain": [
       "<Figure size 432x288 with 1 Axes>"
      ]
     },
     "metadata": {
      "needs_background": "light"
     },
     "output_type": "display_data"
    },
    {
     "data": {
      "image/png": "[encoded data removed]",
      "text/plain": [
       "<Figure size 432x288 with 1 Axes>"
      ]
     },
     "metadata": {
      "needs_background": "light"
     },
     "output_type": "display_data"
    },
    {
     "data": {
      "image/png": "[encoded data removed]",
      "text/plain": [
       "<Figure size 432x288 with 1 Axes>"
      ]
     },
     "metadata": {
      "needs_background": "light"
     },
     "output_type": "display_data"
    },
    {
     "data": {
      "image/png": "[encoded data removed]",
      "text/plain": [
       "<Figure size 432x288 with 1 Axes>"
      ]
     },
     "metadata": {
      "needs_background": "light"
     },
     "output_type": "display_data"
    }
   ],
   "source": [
    "train_val = train_validate(dls,m,epoch=25,metrics=squeeze_accuracy,loss=squeeze_cross_entropy)"
   ]
  },
  {
   "cell_type": "markdown",
   "id": "3758fa6e",
   "metadata": {},
   "source": [
    "### Load Test Data"
   ]
  },
  {
   "cell_type": "code",
   "execution_count": null,
   "id": "91422082",
   "metadata": {},
   "outputs": [
    {
     "data": {
      "text/html": [
       "<div>\n",
       "<style scoped>\n",
       "    .dataframe tbody tr th:only-of-type {\n",
       "        vertical-align: middle;\n",
       "    }\n",
       "\n",
       "    .dataframe tbody tr th {\n",
       "        vertical-align: top;\n",
       "    }\n",
       "\n",
       "    .dataframe thead th {\n",
       "        text-align: right;\n",
       "    }\n",
       "</style>\n",
       "<table border=\"1\" class=\"dataframe\">\n",
       "  <thead>\n",
       "    <tr style=\"text-align: right;\">\n",
       "      <th></th>\n",
       "      <th>activity</th>\n",
       "      <th>trace_id</th>\n",
       "      <th>case:pdc:costs</th>\n",
       "      <th>normal</th>\n",
       "      <th>event_id</th>\n",
       "    </tr>\n",
       "    <tr>\n",
       "      <th>trace_id</th>\n",
       "      <th></th>\n",
       "      <th></th>\n",
       "      <th></th>\n",
       "      <th></th>\n",
       "      <th></th>\n",
       "    </tr>\n",
       "  </thead>\n",
       "  <tbody>\n",
       "    <tr>\n",
       "      <th>trace 1</th>\n",
       "      <td>###start###</td>\n",
       "      <td>trace 1</td>\n",
       "      <td>0.0</td>\n",
       "      <td>True</td>\n",
       "      <td>0</td>\n",
       "    </tr>\n",
       "    <tr>\n",
       "      <th>trace 1</th>\n",
       "      <td>t21</td>\n",
       "      <td>trace 1</td>\n",
       "      <td>0.0</td>\n",
       "      <td>True</td>\n",
       "      <td>1</td>\n",
       "    </tr>\n",
       "    <tr>\n",
       "      <th>trace 1</th>\n",
       "      <td>t32</td>\n",
       "      <td>trace 1</td>\n",
       "      <td>0.0</td>\n",
       "      <td>True</td>\n",
       "      <td>2</td>\n",
       "    </tr>\n",
       "    <tr>\n",
       "      <th>trace 1</th>\n",
       "      <td>t26</td>\n",
       "      <td>trace 1</td>\n",
       "      <td>0.0</td>\n",
       "      <td>True</td>\n",
       "      <td>3</td>\n",
       "    </tr>\n",
       "    <tr>\n",
       "      <th>trace 1</th>\n",
       "      <td>t41</td>\n",
       "      <td>trace 1</td>\n",
       "      <td>0.0</td>\n",
       "      <td>True</td>\n",
       "      <td>4</td>\n",
       "    </tr>\n",
       "    <tr>\n",
       "      <th>trace 1</th>\n",
       "      <td>t35</td>\n",
       "      <td>trace 1</td>\n",
       "      <td>0.0</td>\n",
       "      <td>True</td>\n",
       "      <td>5</td>\n",
       "    </tr>\n",
       "    <tr>\n",
       "      <th>trace 1</th>\n",
       "      <td>t44</td>\n",
       "      <td>trace 1</td>\n",
       "      <td>0.0</td>\n",
       "      <td>True</td>\n",
       "      <td>6</td>\n",
       "    </tr>\n",
       "    <tr>\n",
       "      <th>trace 1</th>\n",
       "      <td>t34</td>\n",
       "      <td>trace 1</td>\n",
       "      <td>0.0</td>\n",
       "      <td>True</td>\n",
       "      <td>7</td>\n",
       "    </tr>\n",
       "    <tr>\n",
       "      <th>trace 1</th>\n",
       "      <td>t24</td>\n",
       "      <td>trace 1</td>\n",
       "      <td>0.0</td>\n",
       "      <td>True</td>\n",
       "      <td>8</td>\n",
       "    </tr>\n",
       "    <tr>\n",
       "      <th>trace 1</th>\n",
       "      <td>t33</td>\n",
       "      <td>trace 1</td>\n",
       "      <td>0.0</td>\n",
       "      <td>True</td>\n",
       "      <td>9</td>\n",
       "    </tr>\n",
       "    <tr>\n",
       "      <th>trace 1</th>\n",
       "      <td>t26</td>\n",
       "      <td>trace 1</td>\n",
       "      <td>0.0</td>\n",
       "      <td>True</td>\n",
       "      <td>10</td>\n",
       "    </tr>\n",
       "    <tr>\n",
       "      <th>trace 1</th>\n",
       "      <td>t36</td>\n",
       "      <td>trace 1</td>\n",
       "      <td>0.0</td>\n",
       "      <td>True</td>\n",
       "      <td>11</td>\n",
       "    </tr>\n",
       "    <tr>\n",
       "      <th>trace 1</th>\n",
       "      <td>t44</td>\n",
       "      <td>trace 1</td>\n",
       "      <td>0.0</td>\n",
       "      <td>True</td>\n",
       "      <td>12</td>\n",
       "    </tr>\n",
       "    <tr>\n",
       "      <th>trace 1</th>\n",
       "      <td>t23</td>\n",
       "      <td>trace 1</td>\n",
       "      <td>0.0</td>\n",
       "      <td>True</td>\n",
       "      <td>13</td>\n",
       "    </tr>\n",
       "    <tr>\n",
       "      <th>trace 1</th>\n",
       "      <td>t54</td>\n",
       "      <td>trace 1</td>\n",
       "      <td>0.0</td>\n",
       "      <td>True</td>\n",
       "      <td>14</td>\n",
       "    </tr>\n",
       "    <tr>\n",
       "      <th>trace 1</th>\n",
       "      <td>t21</td>\n",
       "      <td>trace 1</td>\n",
       "      <td>0.0</td>\n",
       "      <td>True</td>\n",
       "      <td>15</td>\n",
       "    </tr>\n",
       "    <tr>\n",
       "      <th>trace 1</th>\n",
       "      <td>t32</td>\n",
       "      <td>trace 1</td>\n",
       "      <td>0.0</td>\n",
       "      <td>True</td>\n",
       "      <td>16</td>\n",
       "    </tr>\n",
       "    <tr>\n",
       "      <th>trace 1</th>\n",
       "      <td>t66</td>\n",
       "      <td>trace 1</td>\n",
       "      <td>0.0</td>\n",
       "      <td>True</td>\n",
       "      <td>17</td>\n",
       "    </tr>\n",
       "    <tr>\n",
       "      <th>trace 1</th>\n",
       "      <td>t41</td>\n",
       "      <td>trace 1</td>\n",
       "      <td>0.0</td>\n",
       "      <td>True</td>\n",
       "      <td>18</td>\n",
       "    </tr>\n",
       "    <tr>\n",
       "      <th>trace 1</th>\n",
       "      <td>t51</td>\n",
       "      <td>trace 1</td>\n",
       "      <td>0.0</td>\n",
       "      <td>True</td>\n",
       "      <td>19</td>\n",
       "    </tr>\n",
       "    <tr>\n",
       "      <th>trace 1</th>\n",
       "      <td>t62</td>\n",
       "      <td>trace 1</td>\n",
       "      <td>0.0</td>\n",
       "      <td>True</td>\n",
       "      <td>20</td>\n",
       "    </tr>\n",
       "    <tr>\n",
       "      <th>trace 1</th>\n",
       "      <td>t71</td>\n",
       "      <td>trace 1</td>\n",
       "      <td>0.0</td>\n",
       "      <td>True</td>\n",
       "      <td>21</td>\n",
       "    </tr>\n",
       "    <tr>\n",
       "      <th>trace 1</th>\n",
       "      <td>t76</td>\n",
       "      <td>trace 1</td>\n",
       "      <td>0.0</td>\n",
       "      <td>True</td>\n",
       "      <td>22</td>\n",
       "    </tr>\n",
       "    <tr>\n",
       "      <th>trace 1</th>\n",
       "      <td>###end###</td>\n",
       "      <td>trace 1</td>\n",
       "      <td>0.0</td>\n",
       "      <td>True</td>\n",
       "      <td>23</td>\n",
       "    </tr>\n",
       "    <tr>\n",
       "      <th>trace 2</th>\n",
       "      <td>###start###</td>\n",
       "      <td>trace 2</td>\n",
       "      <td>0.0</td>\n",
       "      <td>True</td>\n",
       "      <td>0</td>\n",
       "    </tr>\n",
       "  </tbody>\n",
       "</table>\n",
       "</div>"
      ],
      "text/plain": [
       "             activity trace_id case:pdc:costs normal event_id\n",
       "trace_id                                                     \n",
       "trace 1   ###start###  trace 1            0.0   True        0\n",
       "trace 1           t21  trace 1            0.0   True        1\n",
       "trace 1           t32  trace 1            0.0   True        2\n",
       "trace 1           t26  trace 1            0.0   True        3\n",
       "trace 1           t41  trace 1            0.0   True        4\n",
       "trace 1           t35  trace 1            0.0   True        5\n",
       "trace 1           t44  trace 1            0.0   True        6\n",
       "trace 1           t34  trace 1            0.0   True        7\n",
       "trace 1           t24  trace 1            0.0   True        8\n",
       "trace 1           t33  trace 1            0.0   True        9\n",
       "trace 1           t26  trace 1            0.0   True       10\n",
       "trace 1           t36  trace 1            0.0   True       11\n",
       "trace 1           t44  trace 1            0.0   True       12\n",
       "trace 1           t23  trace 1            0.0   True       13\n",
       "trace 1           t54  trace 1            0.0   True       14\n",
       "trace 1           t21  trace 1            0.0   True       15\n",
       "trace 1           t32  trace 1            0.0   True       16\n",
       "trace 1           t66  trace 1            0.0   True       17\n",
       "trace 1           t41  trace 1            0.0   True       18\n",
       "trace 1           t51  trace 1            0.0   True       19\n",
       "trace 1           t62  trace 1            0.0   True       20\n",
       "trace 1           t71  trace 1            0.0   True       21\n",
       "trace 1           t76  trace 1            0.0   True       22\n",
       "trace 1     ###end###  trace 1            0.0   True       23\n",
       "trace 2   ###start###  trace 2            0.0   True        0"
      ]
     },
     "execution_count": null,
     "metadata": {},
     "output_type": "execute_result"
    }
   ],
   "source": [
    "test_log = import_log(f'data/csv/PDC2020_ground_truth/{log_name}.csv.gz')\n",
    "test_log.head(25)"
   ]
  },
  {
   "cell_type": "markdown",
   "id": "f1fa1395",
   "metadata": {},
   "source": [
    "### Create PPOBJ of test data with same vocab"
   ]
  },
  {
   "cell_type": "code",
   "execution_count": null,
   "id": "6c2fd708",
   "metadata": {},
   "outputs": [],
   "source": [
    "#export\n",
    "def process_test(test_log,categorify,cat_names='activity'):\n",
    "    o=PPObj(test_log,procs=categorify,cat_names=cat_names,y_names=cat_names,do_setup=False)\n",
    "    o.process()\n",
    "    return o\n"
   ]
  },
  {
   "cell_type": "code",
   "execution_count": null,
   "id": "d83c39a3",
   "metadata": {},
   "outputs": [],
   "source": [
    "o = process_test(test_log,categorify)"
   ]
  },
  {
   "cell_type": "markdown",
   "id": "d526f36f",
   "metadata": {},
   "source": [
    "### Apply Prediction Model"
   ]
  },
  {
   "cell_type": "code",
   "execution_count": null,
   "id": "e770ce43",
   "metadata": {},
   "outputs": [],
   "source": [
    "#export\n",
    "def predict_next_step(o,m,ws=5):\n",
    "    wds,idx=partial(windows_fast,ws=ws)(o.xs, o.event_ids)\n",
    "    res=(m(LongTensor(wds).cuda()))\n",
    "    return res,idx"
   ]
  },
  {
   "cell_type": "code",
   "execution_count": null,
   "id": "b231e959",
   "metadata": {},
   "outputs": [],
   "source": [
    "nsp,idx=predict_next_step(o,m)"
   ]
  },
  {
   "cell_type": "markdown",
   "id": "06bc0020",
   "metadata": {},
   "source": [
    "### Calculate Anomaly Score"
   ]
  },
  {
   "cell_type": "code",
   "execution_count": null,
   "id": "1306dcae",
   "metadata": {},
   "outputs": [],
   "source": [
    "def calc_anomaly_score(res,o,idx):\n",
    "    sm = nn.Softmax(dim=1)\n",
    "    y = o.items['activity'].iloc[idx].values\n",
    "    p = sm(res)\n",
    "    pred = p.max(1)[0]\n",
    "    truth = p[list(range(0, len(y))),y]\n",
    "    a_score = ((pred - truth) / pred).cpu().detach().numpy()\n",
    "    return a_score"
   ]
  },
  {
   "cell_type": "code",
   "execution_count": null,
   "id": "577852a7",
   "metadata": {},
   "outputs": [],
   "source": [
    "anomaly_score = calc_anomaly_score(nsp,o,idx)"
   ]
  },
  {
   "cell_type": "markdown",
   "id": "d1ff2dc0",
   "metadata": {},
   "source": [
    "### Classify Anomalies based of Threshhold, get predictions and ground truth, compute a few metrics"
   ]
  },
  {
   "cell_type": "code",
   "execution_count": null,
   "id": "f654a04a",
   "metadata": {},
   "outputs": [],
   "source": [
    "def get_anomalies(a_score,o,idx,threshhold=0.98):\n",
    "    df=pd.DataFrame(columns=[ 'a_score'])\n",
    "    df['a_score'] = a_score\n",
    "    df['trace_id'] = o.items.iloc[idx]['trace_id'].values\n",
    "    df['normal'] = o.items.iloc[idx]['normal'].values\n",
    "    df\n",
    "\n",
    "    y_true = (df.loc[df.trace_id.drop_duplicates().index].normal==False).tolist()\n",
    "    cases = df.loc[df.trace_id.drop_duplicates().index].trace_id.tolist()\n",
    "    anomalies = set(list(df.loc[df['a_score'] > threshhold]['trace_id']))\n",
    "    y_pred=[case in anomalies for case in cases]\n",
    "    return y_pred,y_true"
   ]
  },
  {
   "cell_type": "code",
   "execution_count": null,
   "id": "0b3d6e0e",
   "metadata": {},
   "outputs": [],
   "source": [
    "y_pred, y_true = get_anomalies(anomaly_score,o,idx)"
   ]
  },
  {
   "cell_type": "code",
   "execution_count": null,
   "id": "e01e4c28",
   "metadata": {},
   "outputs": [
    {
     "data": {
      "text/plain": [
       "0.8565891472868218"
      ]
     },
     "execution_count": null,
     "metadata": {},
     "output_type": "execute_result"
    }
   ],
   "source": [
    "f1_score(y_true, y_pred)"
   ]
  },
  {
   "cell_type": "code",
   "execution_count": null,
   "id": "72cc81ba",
   "metadata": {},
   "outputs": [
    {
     "data": {
      "text/plain": [
       "0.852"
      ]
     },
     "execution_count": null,
     "metadata": {},
     "output_type": "execute_result"
    }
   ],
   "source": [
    "accuracy_score(y_true, y_pred)"
   ]
  },
  {
   "cell_type": "code",
   "execution_count": null,
   "id": "219695bb",
   "metadata": {},
   "outputs": [
    {
     "data": {
      "text/plain": [
       "0.758147512864494"
      ]
     },
     "execution_count": null,
     "metadata": {},
     "output_type": "execute_result"
    }
   ],
   "source": [
    "precision_score(y_true,y_pred)"
   ]
  },
  {
   "cell_type": "code",
   "execution_count": null,
   "id": "b5e14d32",
   "metadata": {},
   "outputs": [
    {
     "data": {
      "text/plain": [
       "0.9844097995545658"
      ]
     },
     "execution_count": null,
     "metadata": {},
     "output_type": "execute_result"
    }
   ],
   "source": [
    "recall_score(y_true,y_pred)"
   ]
  },
  {
   "cell_type": "markdown",
   "id": "88538e14",
   "metadata": {},
   "source": [
    "### Get NSP Accuracy on Inrference\n"
   ]
  },
  {
   "cell_type": "code",
   "execution_count": null,
   "id": "1a721df3",
   "metadata": {},
   "outputs": [],
   "source": [
    "#export\n",
    "def nsp_accuracy(o,idx,nsp):\n",
    "    nsp_y=o.ys.iloc[idx]\n",
    "    nsp_acc= accuracy(nsp,tensor(nsp_y.values).cuda())\n",
    "    return nsp_acc"
   ]
  },
  {
   "cell_type": "code",
   "execution_count": null,
   "id": "9ea07e3d",
   "metadata": {},
   "outputs": [
    {
     "data": {
      "text/plain": [
       "TensorBase(0.5041, device='cuda:0')"
      ]
     },
     "execution_count": null,
     "metadata": {},
     "output_type": "execute_result"
    }
   ],
   "source": [
    "nsp_accuracy(o,idx,nsp)"
   ]
  },
  {
   "cell_type": "markdown",
   "id": "51d7fbd8",
   "metadata": {},
   "source": [
    "## Multivariate Anomaly Detection\n",
    "\n",
    "Rewrite the prediction model to support multivariate prediction. Define attr_dict that maps event log to considerable attributes. Dynamically adapt preprocessing, network architecture, loss function, and anomaly score computation"
   ]
  },
  {
   "cell_type": "code",
   "execution_count": null,
   "id": "036fa2a6",
   "metadata": {},
   "outputs": [],
   "source": [
    "#export\n",
    "attr_dict={}\n",
    "for i in [i for i in glob.glob('data/csv/binet_logs/*')]:\n",
    "    if 'bpic12'in i:\n",
    "        attr_dict[i] =['activity']\n",
    "    elif 'bpic13' in i:\n",
    "        attr_dict[i]=['activity','org:group',\n",
    "'org:resource', 'org:role', 'organization country', 'product', 'resource country','impact']\n",
    "    elif 'bpic17' in i:  \n",
    "        attr_dict[i]=['activity','EventOrigin','org:resource']\n",
    "    elif 'bpic15' in i:\n",
    "        attr_dict[i]=['activity', 'action_code', 'activityNameEN', 'activityNameNL','monitoringResource', 'org:resource', 'question']\n",
    "    elif '-1.' in i:\n",
    "        attr_dict[i]=['activity','user']\n",
    "    elif '-2.' in i:\n",
    "        attr_dict[i]=['activity','user','day']\n",
    "    elif '-3.' in i:\n",
    "        attr_dict[i]=['activity','user','day','country']\n",
    "    elif '-4.' in i:\n",
    "        attr_dict[i]=['activity','user','day','country','company']"
   ]
  },
  {
   "cell_type": "code",
   "execution_count": null,
   "id": "264564f3",
   "metadata": {},
   "outputs": [],
   "source": [
    "#export\n",
    "def get_attr(attr_dict,log_name):\n",
    "    if log_name in attr_dict: \n",
    "        return attr_dict[log_name]\n",
    "    else: return ['activity']"
   ]
  },
  {
   "cell_type": "markdown",
   "id": "8122c58d",
   "metadata": {},
   "source": [
    "### Load Event Log:"
   ]
  },
  {
   "cell_type": "code",
   "execution_count": null,
   "id": "14ada9e1",
   "metadata": {},
   "outputs": [],
   "source": [
    "log_name= 'medium-0.3-4'"
   ]
  },
  {
   "cell_type": "code",
   "execution_count": null,
   "id": "2a3870cc",
   "metadata": {},
   "outputs": [],
   "source": [
    "fn=f'data/csv/binet_logs/{log_name}.csv.gz'"
   ]
  },
  {
   "cell_type": "code",
   "execution_count": null,
   "id": "a2d756e5",
   "metadata": {},
   "outputs": [
    {
     "data": {
      "text/plain": [
       "['activity', 'user', 'day', 'country', 'company']"
      ]
     },
     "execution_count": null,
     "metadata": {},
     "output_type": "execute_result"
    }
   ],
   "source": [
    "cols= get_attr(attr_dict,fn)\n",
    "cols"
   ]
  },
  {
   "cell_type": "code",
   "execution_count": null,
   "id": "33e2a025",
   "metadata": {},
   "outputs": [
    {
     "data": {
      "text/html": [
       "<div>\n",
       "<style scoped>\n",
       "    .dataframe tbody tr th:only-of-type {\n",
       "        vertical-align: middle;\n",
       "    }\n",
       "\n",
       "    .dataframe tbody tr th {\n",
       "        vertical-align: top;\n",
       "    }\n",
       "\n",
       "    .dataframe thead th {\n",
       "        text-align: right;\n",
       "    }\n",
       "</style>\n",
       "<table border=\"1\" class=\"dataframe\">\n",
       "  <thead>\n",
       "    <tr style=\"text-align: right;\">\n",
       "      <th></th>\n",
       "      <th>activity</th>\n",
       "      <th>timestamp</th>\n",
       "      <th>timestamp_end</th>\n",
       "      <th>anomaly</th>\n",
       "      <th>trace_id</th>\n",
       "      <th>company</th>\n",
       "      <th>country</th>\n",
       "      <th>day</th>\n",
       "      <th>user</th>\n",
       "      <th>event_id</th>\n",
       "    </tr>\n",
       "    <tr>\n",
       "      <th>trace_id</th>\n",
       "      <th></th>\n",
       "      <th></th>\n",
       "      <th></th>\n",
       "      <th></th>\n",
       "      <th></th>\n",
       "      <th></th>\n",
       "      <th></th>\n",
       "      <th></th>\n",
       "      <th></th>\n",
       "      <th></th>\n",
       "    </tr>\n",
       "  </thead>\n",
       "  <tbody>\n",
       "    <tr>\n",
       "      <th>1</th>\n",
       "      <td>###start###</td>\n",
       "      <td>NaN</td>\n",
       "      <td>NaN</td>\n",
       "      <td>Rework</td>\n",
       "      <td>1</td>\n",
       "      <td>###start###</td>\n",
       "      <td>###start###</td>\n",
       "      <td>###start###</td>\n",
       "      <td>###start###</td>\n",
       "      <td>0</td>\n",
       "    </tr>\n",
       "    <tr>\n",
       "      <th>1</th>\n",
       "      <td>Activity A</td>\n",
       "      <td>NaN</td>\n",
       "      <td>NaN</td>\n",
       "      <td>Rework</td>\n",
       "      <td>1</td>\n",
       "      <td>Codehow</td>\n",
       "      <td>Comoros</td>\n",
       "      <td>Wednesday</td>\n",
       "      <td>Wilton</td>\n",
       "      <td>1</td>\n",
       "    </tr>\n",
       "    <tr>\n",
       "      <th>1</th>\n",
       "      <td>Activity Z</td>\n",
       "      <td>NaN</td>\n",
       "      <td>NaN</td>\n",
       "      <td>Rework</td>\n",
       "      <td>1</td>\n",
       "      <td>Plussunin</td>\n",
       "      <td>Chad</td>\n",
       "      <td>Tuesday</td>\n",
       "      <td>Iluminada</td>\n",
       "      <td>2</td>\n",
       "    </tr>\n",
       "    <tr>\n",
       "      <th>1</th>\n",
       "      <td>Activity AA</td>\n",
       "      <td>NaN</td>\n",
       "      <td>NaN</td>\n",
       "      <td>Rework</td>\n",
       "      <td>1</td>\n",
       "      <td>year-job</td>\n",
       "      <td>Libyan Arab Jamahiriya</td>\n",
       "      <td>Wednesday</td>\n",
       "      <td>Sandra</td>\n",
       "      <td>3</td>\n",
       "    </tr>\n",
       "    <tr>\n",
       "      <th>1</th>\n",
       "      <td>Activity AF</td>\n",
       "      <td>NaN</td>\n",
       "      <td>NaN</td>\n",
       "      <td>Rework</td>\n",
       "      <td>1</td>\n",
       "      <td>Donquadtech</td>\n",
       "      <td>Cocos (Keeling) Islands</td>\n",
       "      <td>Friday</td>\n",
       "      <td>Ling</td>\n",
       "      <td>4</td>\n",
       "    </tr>\n",
       "  </tbody>\n",
       "</table>\n",
       "</div>"
      ],
      "text/plain": [
       "             activity timestamp timestamp_end anomaly trace_id      company  \\\n",
       "trace_id                                                                      \n",
       "1         ###start###       NaN           NaN  Rework        1  ###start###   \n",
       "1          Activity A       NaN           NaN  Rework        1      Codehow   \n",
       "1          Activity Z       NaN           NaN  Rework        1    Plussunin   \n",
       "1         Activity AA       NaN           NaN  Rework        1     year-job   \n",
       "1         Activity AF       NaN           NaN  Rework        1  Donquadtech   \n",
       "\n",
       "                          country          day         user event_id  \n",
       "trace_id                                                              \n",
       "1                     ###start###  ###start###  ###start###        0  \n",
       "1                         Comoros    Wednesday       Wilton        1  \n",
       "1                            Chad      Tuesday    Iluminada        2  \n",
       "1          Libyan Arab Jamahiriya    Wednesday       Sandra        3  \n",
       "1         Cocos (Keeling) Islands       Friday         Ling        4  "
      ]
     },
     "execution_count": null,
     "metadata": {},
     "output_type": "execute_result"
    }
   ],
   "source": [
    "log = import_log(fn,cols)\n",
    "log.head()"
   ]
  },
  {
   "cell_type": "code",
   "execution_count": null,
   "id": "923b1a42",
   "metadata": {},
   "outputs": [
    {
     "data": {
      "text/plain": [
       "'activity'"
      ]
     },
     "execution_count": null,
     "metadata": {},
     "output_type": "execute_result"
    }
   ],
   "source": [
    "cols[0]"
   ]
  },
  {
   "cell_type": "markdown",
   "id": "06230177",
   "metadata": {},
   "source": [
    "### Create Training Data Loaders and Vocab:"
   ]
  },
  {
   "cell_type": "code",
   "execution_count": null,
   "id": "a6cae91b",
   "metadata": {},
   "outputs": [],
   "source": [
    "o,dls,categorify = training_dl(log,cols)"
   ]
  },
  {
   "cell_type": "code",
   "execution_count": null,
   "id": "944ebbed",
   "metadata": {},
   "outputs": [],
   "source": [
    "xcat,ycat = dls.one_batch()"
   ]
  },
  {
   "cell_type": "code",
   "execution_count": null,
   "id": "d364add8",
   "metadata": {},
   "outputs": [
    {
     "data": {
      "text/plain": [
       "torch.Size([32, 5, 5])"
      ]
     },
     "execution_count": null,
     "metadata": {},
     "output_type": "execute_result"
    }
   ],
   "source": [
    "xcat.shape"
   ]
  },
  {
   "cell_type": "code",
   "execution_count": null,
   "id": "4a3cabaa",
   "metadata": {},
   "outputs": [
    {
     "data": {
      "text/plain": [
       "tensor([ 4, 10, 14, 20,  4, 10,  4, 10,  1,  1,  1, 11,  3,  9, 34,  1, 25,  5,\n",
       "         3,  3,  4, 23, 29,  7,  1, 34, 18,  5, 10,  4,  9, 34],\n",
       "       device='cuda:0')"
      ]
     },
     "execution_count": null,
     "metadata": {},
     "output_type": "execute_result"
    }
   ],
   "source": [
    "ycat[0]"
   ]
  },
  {
   "cell_type": "code",
   "execution_count": null,
   "id": "eb7e24a6",
   "metadata": {},
   "outputs": [],
   "source": [
    "#export\n",
    "from fastai.tabular.model import get_emb_sz"
   ]
  },
  {
   "cell_type": "markdown",
   "id": "db34a44d",
   "metadata": {},
   "source": [
    "### Create Multivariate Prediction Model\n",
    "Todo: support continuous attributes"
   ]
  },
  {
   "cell_type": "code",
   "execution_count": null,
   "id": "d40aed52",
   "metadata": {},
   "outputs": [],
   "source": [
    "emb_szs = get_emb_sz(o)"
   ]
  },
  {
   "cell_type": "code",
   "execution_count": null,
   "id": "a5d37725",
   "metadata": {},
   "outputs": [],
   "source": [
    "#export\n",
    "class MultivariateModel(torch.nn.Module) :\n",
    "    def __init__(self, emb_szs, lstm_neurons=25,lstm_layers=2) :\n",
    "        super().__init__()\n",
    "        \n",
    "        self.embeds = nn.ModuleList([Embedding(ni, nf) for ni,nf in emb_szs])\n",
    "        self.lstms = nn.ModuleList([nn.LSTM(nf, lstm_neurons, batch_first=True, num_layers=lstm_layers) \n",
    "                                    for ni,nf in emb_szs])\n",
    "        self.linears = nn.ModuleList([nn.Linear(lstm_neurons, ni) for ni,nf in emb_szs])\n",
    "\n",
    "        \n",
    "\n",
    "    def forward(self, xcat):\n",
    "        res=[]\n",
    "        for i in range(xcat.shape[1]):\n",
    "            x =xcat[:,i]\n",
    "            x =self.embeds[i](x)\n",
    "            x,_ =self.lstms[i](x)\n",
    "            x = x[:,-1]\n",
    "            x= self.linears[i](x)\n",
    "            res.append(x)\n",
    "        return tuple(res)\n",
    "    \n"
   ]
  },
  {
   "cell_type": "code",
   "execution_count": null,
   "id": "6349a6a9",
   "metadata": {},
   "outputs": [],
   "source": [
    "m=MultivariateModel(emb_szs)\n",
    "pred = m(xcat.cpu())"
   ]
  },
  {
   "cell_type": "markdown",
   "id": "1c5bad96",
   "metadata": {},
   "source": [
    "### Define Multi-Loss and -Metrics"
   ]
  },
  {
   "cell_type": "code",
   "execution_count": null,
   "id": "1ef03594",
   "metadata": {},
   "outputs": [],
   "source": [
    "#export\n",
    "def _accuracy_idx(a,b,i): return accuracy(listify(a)[i],listify(b)[i])\n",
    "\n",
    "def get_metrics(o):\n",
    "    \n",
    "    number_cats=len(o.ycat_names)\n",
    "    \n",
    "    accuracies=[]\n",
    "    for i in range(number_cats):\n",
    "        accuracy_func=partial(_accuracy_idx,i=i)\n",
    "        accuracy_func.__name__= f\"acc_{o.ycat_names[i]}\"\n",
    "        accuracy_func=AvgMetric(accuracy_func)\n",
    "        accuracies.append(accuracy_func)\n",
    "    mae_days=None\n",
    "    return L(accuracies)+mae_days\n",
    "\n",
    "def multi_loss_sum(o,p,y):\n",
    "    '''Multi Loss function that sums up multiple loss functions. The selection of the loss function is based on the PPObj o'''\n",
    "    p,y=listify(p),listify(y)\n",
    "    len_cat,len_cont=len(o.ycat_names),len(o.ycont_names)\n",
    "    cross_entropies=[F.cross_entropy(p[i],y[i]) for i in range(len_cat)]\n",
    "    return torch.sum(torch.stack(list(L(cross_entropies))))\n",
    "\n",
    "def my_loss(p,y): return F.cross_entropy(p[0],y[0])\n",
    "def my_metric(p,y): return accuracy(p[0],y[0])"
   ]
  },
  {
   "cell_type": "code",
   "execution_count": null,
   "id": "cbde838d",
   "metadata": {},
   "outputs": [],
   "source": [
    "loss=partial(multi_loss_sum,o)"
   ]
  },
  {
   "cell_type": "code",
   "execution_count": null,
   "id": "90fb0c30",
   "metadata": {},
   "outputs": [
    {
     "data": {
      "text/plain": [
       "tensor(22.7085, grad_fn=<SumBackward0>)"
      ]
     },
     "execution_count": null,
     "metadata": {},
     "output_type": "execute_result"
    }
   ],
   "source": [
    "loss(pred,[i.cpu() for i in ycat])"
   ]
  },
  {
   "cell_type": "markdown",
   "id": "6ee0bd35",
   "metadata": {},
   "source": [
    "### Training of the prediction network\n",
    "Todo: Rename the Metric Columns"
   ]
  },
  {
   "cell_type": "code",
   "execution_count": null,
   "id": "f8c8a098",
   "metadata": {},
   "outputs": [
    {
     "data": {
      "text/html": [],
      "text/plain": [
       "<IPython.core.display.HTML object>"
      ]
     },
     "metadata": {},
     "output_type": "display_data"
    },
    {
     "data": {
      "text/html": [],
      "text/plain": [
       "<IPython.core.display.HTML object>"
      ]
     },
     "metadata": {},
     "output_type": "display_data"
    },
    {
     "data": {
      "text/html": [],
      "text/plain": [
       "<IPython.core.display.HTML object>"
      ]
     },
     "metadata": {},
     "output_type": "display_data"
    },
    {
     "data": {
      "text/html": [],
      "text/plain": [
       "<IPython.core.display.HTML object>"
      ]
     },
     "metadata": {},
     "output_type": "display_data"
    },
    {
     "data": {
      "text/html": [],
      "text/plain": [
       "<IPython.core.display.HTML object>"
      ]
     },
     "metadata": {},
     "output_type": "display_data"
    },
    {
     "data": {
      "text/html": [
       "<table border=\"1\" class=\"dataframe\">\n",
       "  <thead>\n",
       "    <tr style=\"text-align: left;\">\n",
       "      <th>epoch</th>\n",
       "      <th>train_loss</th>\n",
       "      <th>valid_loss</th>\n",
       "      <th>_accuracy_idx</th>\n",
       "      <th>_accuracy_idx</th>\n",
       "      <th>_accuracy_idx</th>\n",
       "      <th>_accuracy_idx</th>\n",
       "      <th>_accuracy_idx</th>\n",
       "      <th>time</th>\n",
       "    </tr>\n",
       "  </thead>\n",
       "  <tbody>\n",
       "    <tr>\n",
       "      <td>0</td>\n",
       "      <td>16.902555</td>\n",
       "      <td>16.574909</td>\n",
       "      <td>0.146359</td>\n",
       "      <td>0.144196</td>\n",
       "      <td>0.269286</td>\n",
       "      <td>0.144196</td>\n",
       "      <td>0.144196</td>\n",
       "      <td>00:20</td>\n",
       "    </tr>\n",
       "    <tr>\n",
       "      <td>1</td>\n",
       "      <td>15.394979</td>\n",
       "      <td>15.209365</td>\n",
       "      <td>0.377073</td>\n",
       "      <td>0.147441</td>\n",
       "      <td>0.326244</td>\n",
       "      <td>0.155371</td>\n",
       "      <td>0.144196</td>\n",
       "      <td>00:19</td>\n",
       "    </tr>\n",
       "    <tr>\n",
       "      <td>2</td>\n",
       "      <td>12.383214</td>\n",
       "      <td>12.340733</td>\n",
       "      <td>0.689618</td>\n",
       "      <td>0.263518</td>\n",
       "      <td>0.332012</td>\n",
       "      <td>0.278659</td>\n",
       "      <td>0.237563</td>\n",
       "      <td>00:19</td>\n",
       "    </tr>\n",
       "    <tr>\n",
       "      <td>3</td>\n",
       "      <td>10.809619</td>\n",
       "      <td>10.593280</td>\n",
       "      <td>0.733598</td>\n",
       "      <td>0.346792</td>\n",
       "      <td>0.341384</td>\n",
       "      <td>0.371305</td>\n",
       "      <td>0.300288</td>\n",
       "      <td>00:19</td>\n",
       "    </tr>\n",
       "    <tr>\n",
       "      <td>4</td>\n",
       "      <td>9.387871</td>\n",
       "      <td>9.243426</td>\n",
       "      <td>0.766763</td>\n",
       "      <td>0.427902</td>\n",
       "      <td>0.373107</td>\n",
       "      <td>0.466474</td>\n",
       "      <td>0.377433</td>\n",
       "      <td>00:19</td>\n",
       "    </tr>\n",
       "    <tr>\n",
       "      <td>5</td>\n",
       "      <td>8.475094</td>\n",
       "      <td>8.525517</td>\n",
       "      <td>0.772531</td>\n",
       "      <td>0.470079</td>\n",
       "      <td>0.391132</td>\n",
       "      <td>0.505407</td>\n",
       "      <td>0.411319</td>\n",
       "      <td>00:19</td>\n",
       "    </tr>\n",
       "    <tr>\n",
       "      <td>6</td>\n",
       "      <td>7.723400</td>\n",
       "      <td>8.030221</td>\n",
       "      <td>0.775775</td>\n",
       "      <td>0.489185</td>\n",
       "      <td>0.400865</td>\n",
       "      <td>0.524153</td>\n",
       "      <td>0.440159</td>\n",
       "      <td>00:19</td>\n",
       "    </tr>\n",
       "    <tr>\n",
       "      <td>7</td>\n",
       "      <td>7.521756</td>\n",
       "      <td>7.709370</td>\n",
       "      <td>0.784427</td>\n",
       "      <td>0.501442</td>\n",
       "      <td>0.420692</td>\n",
       "      <td>0.538212</td>\n",
       "      <td>0.462149</td>\n",
       "      <td>00:20</td>\n",
       "    </tr>\n",
       "    <tr>\n",
       "      <td>8</td>\n",
       "      <td>7.422010</td>\n",
       "      <td>7.493038</td>\n",
       "      <td>0.784787</td>\n",
       "      <td>0.509373</td>\n",
       "      <td>0.424297</td>\n",
       "      <td>0.535689</td>\n",
       "      <td>0.478731</td>\n",
       "      <td>00:20</td>\n",
       "    </tr>\n",
       "    <tr>\n",
       "      <td>9</td>\n",
       "      <td>7.235913</td>\n",
       "      <td>7.320248</td>\n",
       "      <td>0.786590</td>\n",
       "      <td>0.512617</td>\n",
       "      <td>0.420692</td>\n",
       "      <td>0.550108</td>\n",
       "      <td>0.486301</td>\n",
       "      <td>00:19</td>\n",
       "    </tr>\n",
       "    <tr>\n",
       "      <td>10</td>\n",
       "      <td>6.866109</td>\n",
       "      <td>7.219258</td>\n",
       "      <td>0.791276</td>\n",
       "      <td>0.516222</td>\n",
       "      <td>0.432588</td>\n",
       "      <td>0.549027</td>\n",
       "      <td>0.498558</td>\n",
       "      <td>00:19</td>\n",
       "    </tr>\n",
       "    <tr>\n",
       "      <td>11</td>\n",
       "      <td>7.043404</td>\n",
       "      <td>7.122686</td>\n",
       "      <td>0.787671</td>\n",
       "      <td>0.526676</td>\n",
       "      <td>0.434751</td>\n",
       "      <td>0.560923</td>\n",
       "      <td>0.497116</td>\n",
       "      <td>00:19</td>\n",
       "    </tr>\n",
       "    <tr>\n",
       "      <td>12</td>\n",
       "      <td>6.655284</td>\n",
       "      <td>7.054290</td>\n",
       "      <td>0.793439</td>\n",
       "      <td>0.530281</td>\n",
       "      <td>0.441601</td>\n",
       "      <td>0.558039</td>\n",
       "      <td>0.503605</td>\n",
       "      <td>00:19</td>\n",
       "    </tr>\n",
       "    <tr>\n",
       "      <td>13</td>\n",
       "      <td>6.613542</td>\n",
       "      <td>6.988143</td>\n",
       "      <td>0.795242</td>\n",
       "      <td>0.529921</td>\n",
       "      <td>0.436914</td>\n",
       "      <td>0.560923</td>\n",
       "      <td>0.500721</td>\n",
       "      <td>00:19</td>\n",
       "    </tr>\n",
       "    <tr>\n",
       "      <td>14</td>\n",
       "      <td>6.546875</td>\n",
       "      <td>6.956167</td>\n",
       "      <td>0.793439</td>\n",
       "      <td>0.536049</td>\n",
       "      <td>0.440519</td>\n",
       "      <td>0.561644</td>\n",
       "      <td>0.508291</td>\n",
       "      <td>00:19</td>\n",
       "    </tr>\n",
       "    <tr>\n",
       "      <td>15</td>\n",
       "      <td>6.500401</td>\n",
       "      <td>6.933671</td>\n",
       "      <td>0.793079</td>\n",
       "      <td>0.532805</td>\n",
       "      <td>0.437996</td>\n",
       "      <td>0.559120</td>\n",
       "      <td>0.513699</td>\n",
       "      <td>00:19</td>\n",
       "    </tr>\n",
       "    <tr>\n",
       "      <td>16</td>\n",
       "      <td>6.484204</td>\n",
       "      <td>6.917362</td>\n",
       "      <td>0.796323</td>\n",
       "      <td>0.536049</td>\n",
       "      <td>0.437996</td>\n",
       "      <td>0.562365</td>\n",
       "      <td>0.505047</td>\n",
       "      <td>00:19</td>\n",
       "    </tr>\n",
       "    <tr>\n",
       "      <td>17</td>\n",
       "      <td>6.335204</td>\n",
       "      <td>6.885539</td>\n",
       "      <td>0.798125</td>\n",
       "      <td>0.532805</td>\n",
       "      <td>0.451694</td>\n",
       "      <td>0.560562</td>\n",
       "      <td>0.509373</td>\n",
       "      <td>00:19</td>\n",
       "    </tr>\n",
       "    <tr>\n",
       "      <td>18</td>\n",
       "      <td>6.517860</td>\n",
       "      <td>6.873926</td>\n",
       "      <td>0.796683</td>\n",
       "      <td>0.537491</td>\n",
       "      <td>0.445205</td>\n",
       "      <td>0.562725</td>\n",
       "      <td>0.508652</td>\n",
       "      <td>00:19</td>\n",
       "    </tr>\n",
       "    <tr>\n",
       "      <td>19</td>\n",
       "      <td>6.299755</td>\n",
       "      <td>6.862151</td>\n",
       "      <td>0.797404</td>\n",
       "      <td>0.535689</td>\n",
       "      <td>0.449171</td>\n",
       "      <td>0.560562</td>\n",
       "      <td>0.512257</td>\n",
       "      <td>00:19</td>\n",
       "    </tr>\n",
       "    <tr>\n",
       "      <td>20</td>\n",
       "      <td>6.394882</td>\n",
       "      <td>6.852369</td>\n",
       "      <td>0.795602</td>\n",
       "      <td>0.537491</td>\n",
       "      <td>0.445205</td>\n",
       "      <td>0.562004</td>\n",
       "      <td>0.507931</td>\n",
       "      <td>00:19</td>\n",
       "    </tr>\n",
       "    <tr>\n",
       "      <td>21</td>\n",
       "      <td>6.435194</td>\n",
       "      <td>6.847838</td>\n",
       "      <td>0.797044</td>\n",
       "      <td>0.538933</td>\n",
       "      <td>0.444845</td>\n",
       "      <td>0.561644</td>\n",
       "      <td>0.511536</td>\n",
       "      <td>00:19</td>\n",
       "    </tr>\n",
       "    <tr>\n",
       "      <td>22</td>\n",
       "      <td>6.352195</td>\n",
       "      <td>6.844546</td>\n",
       "      <td>0.797404</td>\n",
       "      <td>0.538572</td>\n",
       "      <td>0.446287</td>\n",
       "      <td>0.562004</td>\n",
       "      <td>0.511896</td>\n",
       "      <td>00:19</td>\n",
       "    </tr>\n",
       "    <tr>\n",
       "      <td>23</td>\n",
       "      <td>6.508240</td>\n",
       "      <td>6.843676</td>\n",
       "      <td>0.797765</td>\n",
       "      <td>0.539654</td>\n",
       "      <td>0.445205</td>\n",
       "      <td>0.561644</td>\n",
       "      <td>0.511175</td>\n",
       "      <td>00:19</td>\n",
       "    </tr>\n",
       "    <tr>\n",
       "      <td>24</td>\n",
       "      <td>6.383356</td>\n",
       "      <td>6.843312</td>\n",
       "      <td>0.797765</td>\n",
       "      <td>0.538933</td>\n",
       "      <td>0.444124</td>\n",
       "      <td>0.561644</td>\n",
       "      <td>0.511175</td>\n",
       "      <td>00:19</td>\n",
       "    </tr>\n",
       "  </tbody>\n",
       "</table>"
      ],
      "text/plain": [
       "<IPython.core.display.HTML object>"
      ]
     },
     "metadata": {},
     "output_type": "display_data"
    },
    {
     "name": "stdout",
     "output_type": "stream",
     "text": [
      "Better model found at epoch 0 with valid_loss value: 16.574909210205078.\n",
      "Better model found at epoch 1 with valid_loss value: 15.209364891052246.\n",
      "Better model found at epoch 2 with valid_loss value: 12.34073257446289.\n",
      "Better model found at epoch 3 with valid_loss value: 10.593279838562012.\n",
      "Better model found at epoch 4 with valid_loss value: 9.243426322937012.\n",
      "Better model found at epoch 5 with valid_loss value: 8.525516510009766.\n",
      "Better model found at epoch 6 with valid_loss value: 8.030220985412598.\n",
      "Better model found at epoch 7 with valid_loss value: 7.709370136260986.\n",
      "Better model found at epoch 8 with valid_loss value: 7.493038177490234.\n",
      "Better model found at epoch 9 with valid_loss value: 7.320247650146484.\n",
      "Better model found at epoch 10 with valid_loss value: 7.2192583084106445.\n",
      "Better model found at epoch 11 with valid_loss value: 7.12268590927124.\n",
      "Better model found at epoch 12 with valid_loss value: 7.054289817810059.\n",
      "Better model found at epoch 13 with valid_loss value: 6.988143444061279.\n",
      "Better model found at epoch 14 with valid_loss value: 6.956167221069336.\n",
      "Better model found at epoch 15 with valid_loss value: 6.933670997619629.\n",
      "Better model found at epoch 16 with valid_loss value: 6.917361736297607.\n",
      "Better model found at epoch 17 with valid_loss value: 6.885538578033447.\n",
      "Better model found at epoch 18 with valid_loss value: 6.873925685882568.\n",
      "Better model found at epoch 19 with valid_loss value: 6.8621506690979.\n",
      "Better model found at epoch 20 with valid_loss value: 6.8523688316345215.\n",
      "Better model found at epoch 21 with valid_loss value: 6.847837924957275.\n",
      "Better model found at epoch 22 with valid_loss value: 6.844545841217041.\n",
      "Better model found at epoch 23 with valid_loss value: 6.8436760902404785.\n",
      "Better model found at epoch 24 with valid_loss value: 6.8433122634887695.\n"
     ]
    },
    {
     "data": {
      "text/html": [],
      "text/plain": [
       "<IPython.core.display.HTML object>"
      ]
     },
     "metadata": {},
     "output_type": "display_data"
    },
    {
     "name": "stdout",
     "output_type": "stream",
     "text": [
      "Better model found at epoch 0 with valid_loss value: 0.7985363602638245.\n"
     ]
    }
   ],
   "source": [
    "epoch=25\n",
    "train_val=train_validate(dls,m,loss=loss,metrics=get_metrics(o),epoch=epoch,show_plot=False)\n"
   ]
  },
  {
   "cell_type": "markdown",
   "id": "8a86be72",
   "metadata": {},
   "source": [
    "### Load Test Log for Inference"
   ]
  },
  {
   "cell_type": "code",
   "execution_count": null,
   "id": "dc88bbaa",
   "metadata": {},
   "outputs": [],
   "source": [
    "log = import_log(fn,cols)\n",
    "log.head()\n",
    "o = process_test(log,categorify,cols)"
   ]
  },
  {
   "cell_type": "code",
   "execution_count": null,
   "id": "c77f1e98",
   "metadata": {},
   "outputs": [],
   "source": [
    "#export\n",
    "def predict_next_step(o,m,ws=5):\n",
    "    wds,idx=partial(windows_fast,ws=ws)(o.xs, o.event_ids)\n",
    "    res= []\n",
    "    with torch.no_grad():\n",
    "        for b in DataLoader(wds,bs=8*1024,shuffle=False):\n",
    "            h= m(b.long().cuda())\n",
    "            h= tuple([i.cpu() for i in h])\n",
    "            res.append(h)\n",
    "\n",
    "    res =tuple([torch.cat([k[i] for k in res] ) for i in range(len(o.cat_names))])\n",
    "    return res,idx"
   ]
  },
  {
   "cell_type": "code",
   "execution_count": null,
   "id": "fbf88624",
   "metadata": {},
   "outputs": [
    {
     "name": "stdout",
     "output_type": "stream",
     "text": [
      "289 ms ± 1.64 ms per loop (mean ± std. dev. of 7 runs, 1 loop each)\n"
     ]
    }
   ],
   "source": [
    "%%timeit\n",
    "res,idx=predict_next_step(o,m)\n"
   ]
  },
  {
   "cell_type": "markdown",
   "id": "35c980a4",
   "metadata": {},
   "source": [
    "### Compute Anomaly Score"
   ]
  },
  {
   "cell_type": "code",
   "execution_count": null,
   "id": "83cf63b5",
   "metadata": {},
   "outputs": [],
   "source": [
    "#export\n",
    "def multivariate_anomaly_score(res,o,idx,cols):\n",
    "    score_df=pd.DataFrame()\n",
    "\n",
    "    for cidx,_ in enumerate(cols):\n",
    "        sm = nn.Softmax(dim=1)\n",
    "        p = sm(res[cidx].cpu())\n",
    "        pred = p.max(1)[0]\n",
    "        y = o.items[cols[cidx]].iloc[idx].values\n",
    "\n",
    "        truth=p[list(range(len(y))),y]\n",
    "        score = ((pred - truth) / pred).tolist()\n",
    "        score_df[cols[cidx]] = score\n",
    "    score_df['trace_id']=o.items['trace_id'].iloc[idx].values\n",
    "    return score_df"
   ]
  },
  {
   "cell_type": "code",
   "execution_count": null,
   "id": "0ed1deed",
   "metadata": {},
   "outputs": [
    {
     "data": {
      "text/html": [
       "<div>\n",
       "<style scoped>\n",
       "    .dataframe tbody tr th:only-of-type {\n",
       "        vertical-align: middle;\n",
       "    }\n",
       "\n",
       "    .dataframe tbody tr th {\n",
       "        vertical-align: top;\n",
       "    }\n",
       "\n",
       "    .dataframe thead th {\n",
       "        text-align: right;\n",
       "    }\n",
       "</style>\n",
       "<table border=\"1\" class=\"dataframe\">\n",
       "  <thead>\n",
       "    <tr style=\"text-align: right;\">\n",
       "      <th></th>\n",
       "      <th>activity</th>\n",
       "      <th>user</th>\n",
       "      <th>day</th>\n",
       "      <th>country</th>\n",
       "      <th>company</th>\n",
       "      <th>trace_id</th>\n",
       "    </tr>\n",
       "  </thead>\n",
       "  <tbody>\n",
       "    <tr>\n",
       "      <th>0</th>\n",
       "      <td>0.000000</td>\n",
       "      <td>0.261237</td>\n",
       "      <td>0.747403</td>\n",
       "      <td>0.695625</td>\n",
       "      <td>0.000000</td>\n",
       "      <td>1</td>\n",
       "    </tr>\n",
       "    <tr>\n",
       "      <th>1</th>\n",
       "      <td>0.000000</td>\n",
       "      <td>0.000000</td>\n",
       "      <td>0.249960</td>\n",
       "      <td>0.000000</td>\n",
       "      <td>0.246765</td>\n",
       "      <td>1</td>\n",
       "    </tr>\n",
       "    <tr>\n",
       "      <th>2</th>\n",
       "      <td>0.000000</td>\n",
       "      <td>0.491534</td>\n",
       "      <td>0.241676</td>\n",
       "      <td>0.848866</td>\n",
       "      <td>0.817840</td>\n",
       "      <td>1</td>\n",
       "    </tr>\n",
       "    <tr>\n",
       "      <th>3</th>\n",
       "      <td>0.253731</td>\n",
       "      <td>0.000000</td>\n",
       "      <td>0.000000</td>\n",
       "      <td>0.000000</td>\n",
       "      <td>0.000000</td>\n",
       "      <td>1</td>\n",
       "    </tr>\n",
       "    <tr>\n",
       "      <th>4</th>\n",
       "      <td>0.000000</td>\n",
       "      <td>0.508356</td>\n",
       "      <td>0.000000</td>\n",
       "      <td>0.798442</td>\n",
       "      <td>0.797414</td>\n",
       "      <td>1</td>\n",
       "    </tr>\n",
       "    <tr>\n",
       "      <th>...</th>\n",
       "      <td>...</td>\n",
       "      <td>...</td>\n",
       "      <td>...</td>\n",
       "      <td>...</td>\n",
       "      <td>...</td>\n",
       "      <td>...</td>\n",
       "    </tr>\n",
       "    <tr>\n",
       "      <th>34876</th>\n",
       "      <td>0.000000</td>\n",
       "      <td>0.151420</td>\n",
       "      <td>0.102495</td>\n",
       "      <td>0.000000</td>\n",
       "      <td>0.074118</td>\n",
       "      <td>5000</td>\n",
       "    </tr>\n",
       "    <tr>\n",
       "      <th>34877</th>\n",
       "      <td>0.000000</td>\n",
       "      <td>0.366604</td>\n",
       "      <td>0.000000</td>\n",
       "      <td>0.642183</td>\n",
       "      <td>0.411020</td>\n",
       "      <td>5000</td>\n",
       "    </tr>\n",
       "    <tr>\n",
       "      <th>34878</th>\n",
       "      <td>0.000000</td>\n",
       "      <td>0.000000</td>\n",
       "      <td>0.941341</td>\n",
       "      <td>0.526442</td>\n",
       "      <td>0.881121</td>\n",
       "      <td>5000</td>\n",
       "    </tr>\n",
       "    <tr>\n",
       "      <th>34879</th>\n",
       "      <td>0.000000</td>\n",
       "      <td>0.000000</td>\n",
       "      <td>0.000000</td>\n",
       "      <td>0.000000</td>\n",
       "      <td>0.000000</td>\n",
       "      <td>5000</td>\n",
       "    </tr>\n",
       "    <tr>\n",
       "      <th>34880</th>\n",
       "      <td>0.000000</td>\n",
       "      <td>0.000000</td>\n",
       "      <td>0.000000</td>\n",
       "      <td>0.000000</td>\n",
       "      <td>0.000000</td>\n",
       "      <td>5000</td>\n",
       "    </tr>\n",
       "  </tbody>\n",
       "</table>\n",
       "<p>34881 rows × 6 columns</p>\n",
       "</div>"
      ],
      "text/plain": [
       "       activity      user       day   country   company trace_id\n",
       "0      0.000000  0.261237  0.747403  0.695625  0.000000        1\n",
       "1      0.000000  0.000000  0.249960  0.000000  0.246765        1\n",
       "2      0.000000  0.491534  0.241676  0.848866  0.817840        1\n",
       "3      0.253731  0.000000  0.000000  0.000000  0.000000        1\n",
       "4      0.000000  0.508356  0.000000  0.798442  0.797414        1\n",
       "...         ...       ...       ...       ...       ...      ...\n",
       "34876  0.000000  0.151420  0.102495  0.000000  0.074118     5000\n",
       "34877  0.000000  0.366604  0.000000  0.642183  0.411020     5000\n",
       "34878  0.000000  0.000000  0.941341  0.526442  0.881121     5000\n",
       "34879  0.000000  0.000000  0.000000  0.000000  0.000000     5000\n",
       "34880  0.000000  0.000000  0.000000  0.000000  0.000000     5000\n",
       "\n",
       "[34881 rows x 6 columns]"
      ]
     },
     "execution_count": null,
     "metadata": {},
     "output_type": "execute_result"
    }
   ],
   "source": [
    "score_df=multivariate_anomaly_score(res,o,idx,cols)\n",
    "score_df"
   ]
  },
  {
   "cell_type": "markdown",
   "id": "f84c6602",
   "metadata": {},
   "source": [
    "### Anomaly Classification"
   ]
  },
  {
   "cell_type": "markdown",
   "id": "71c4566d",
   "metadata": {},
   "source": [
    "We can set a fixed threshold or define a custom threshold function. Currently only fixed threshold is used."
   ]
  },
  {
   "cell_type": "code",
   "execution_count": null,
   "id": "74407f48",
   "metadata": {},
   "outputs": [],
   "source": [
    "#export\n",
    "def get_thresholds(col,act_threshold=0.964,attr_threshold=0.9971):\n",
    "    \"\"\"\n",
    "    Defines a custom threshold function\n",
    "    \"\"\"\n",
    "    if col =='activity':\n",
    "        return act_threshold\n",
    "    else: \n",
    "        return attr_threshold"
   ]
  },
  {
   "cell_type": "code",
   "execution_count": null,
   "id": "378ac76c",
   "metadata": {},
   "outputs": [],
   "source": [
    "#export\n",
    "def multivariate_anomalies(score_df,cols,idx,o,anomaly_col='normal',fixed_threshold=None,get_thresholds=get_thresholds):\n",
    "    if fixed_threshold is None:\n",
    "        comp_thresholds=get_thresholds\n",
    "    else:\n",
    "        comp_thresholds = lambda _: fixed_threshold\n",
    "    a=[score_df.loc[score_df[c] >= comp_thresholds(c)]['trace_id'] for c in cols]\n",
    "    anomalies=list(set().union(*a))\n",
    "    h=o.items.iloc[idx][anomaly_col]\n",
    "    if anomaly_col=='anomaly':\n",
    "        score_df['is_anomaly']=(h!='normal').tolist()\n",
    "    else:\n",
    "        score_df['is_anomaly']=(h==False).tolist()\n",
    "    score_df['anomaly']=h.tolist()\n",
    "    y_true = (score_df.loc[score_df.trace_id.drop_duplicates().index].is_anomaly).tolist()\n",
    "    cases = score_df.loc[score_df.trace_id.drop_duplicates().index].trace_id.tolist()\n",
    "    y_pred=[case in anomalies for case in cases]\n",
    "    return y_true,y_pred"
   ]
  },
  {
   "cell_type": "code",
   "execution_count": null,
   "id": "7851f0bc",
   "metadata": {},
   "outputs": [],
   "source": [
    "y_true,y_pred=multivariate_anomalies(score_df,cols,idx,o,fixed_threshold=None,anomaly_col='anomaly')"
   ]
  },
  {
   "cell_type": "code",
   "execution_count": null,
   "id": "203416ee",
   "metadata": {},
   "outputs": [],
   "source": [
    "f1_score(y_true, y_pred)"
   ]
  },
  {
   "cell_type": "code",
   "execution_count": null,
   "id": "37f7aebb",
   "metadata": {},
   "outputs": [],
   "source": [
    "k=o.items.groupby(o.items.index)['anomaly'].last().iloc[np.where(~np.equal(y_pred, y_true))[0]\n",
    "]\n",
    "k.value_counts()"
   ]
  },
  {
   "cell_type": "code",
   "execution_count": null,
   "id": "0e8fe71d",
   "metadata": {},
   "outputs": [],
   "source": [
    "o.items.groupby(o.items.index)['anomaly'].last().value_counts()"
   ]
  },
  {
   "cell_type": "markdown",
   "id": "f140eba5",
   "metadata": {},
   "source": [
    "## Plot Anomaly Scores for a Trace"
   ]
  },
  {
   "cell_type": "code",
   "execution_count": null,
   "id": "e5d1089a",
   "metadata": {},
   "outputs": [],
   "source": [
    "score_df\n"
   ]
  },
  {
   "cell_type": "code",
   "execution_count": null,
   "id": "6bc3a2a9",
   "metadata": {},
   "outputs": [],
   "source": [
    "score_df.groupby(['trace_id']).size().drop_duplicates().sort_values()"
   ]
  },
  {
   "cell_type": "code",
   "execution_count": null,
   "id": "c4fab847",
   "metadata": {},
   "outputs": [],
   "source": [
    "score_df['event_id']=score_df.groupby('trace_id').cumcount()\n",
    "\n",
    "plot_data=score_df.melt(value_vars=['activity','user','day','country','company'],value_name='Anomaly Score',var_name='Attribute',id_vars=['trace_id','anomaly','event_id'])\n",
    "plot_data['event_id']=plot_data.groupby('trace_id').cumcount()\n",
    "plot_data"
   ]
  },
  {
   "cell_type": "code",
   "execution_count": null,
   "id": "001d1347",
   "metadata": {},
   "outputs": [],
   "source": [
    "import seaborn as sns"
   ]
  },
  {
   "cell_type": "code",
   "execution_count": null,
   "id": "6e8158d3",
   "metadata": {},
   "outputs": [],
   "source": [
    "data=plot_data[plot_data['trace_id']==6].copy()\n",
    "data['xticks']= [f'e{y+1}' for x in range(5) for y in range(len(data)//5)]\n",
    "print(len(data))\n",
    "print(data['anomaly'].iloc[0])\n",
    "print(data['trace_id'].iloc[0])\n",
    "times = data.event_id.unique()\n",
    "g = sns.FacetGrid(data, col=\"trace_id\", hue=\"Attribute\",\n",
    "                  palette=\"Set3\", height=4, aspect=2)\n",
    "g.map(sns.barplot, 'event_id', 'Anomaly Score', order=times)\n",
    "g.add_legend()\n",
    "ax1 = g.axes[0][0]\n",
    "g.set_titles(col_template=\"\", row_template=\"\")\n",
    "g.set_axis_labels('')\n",
    "\n",
    "ax1.axhline(0.98, ls='--')\n",
    "for ax in g.axes.flat:\n",
    "  \n",
    "    ax.set_xticklabels([f'e{y+1}' for x in range(5) for y in range(len(data)//5)], rotation=40,fontsize=9) # set new labels\n",
    "plt.show()"
   ]
  },
  {
   "cell_type": "code",
   "execution_count": null,
   "id": "30752109",
   "metadata": {},
   "outputs": [],
   "source": [
    "import matplotlib.pyplot as plt\n",
    "plt.style.use('ggplot')\n"
   ]
  },
  {
   "cell_type": "code",
   "execution_count": null,
   "id": "3fd88b5a",
   "metadata": {},
   "outputs": [],
   "source": [
    "def plot_anomaly_scores(trace_id):\n",
    "    data=plot_data[plot_data['trace_id']==trace_id]\n",
    "    print(len(data))\n",
    "    print(data['anomaly'].iloc[0])\n",
    "    print(data['trace_id'].iloc[0])\n",
    "    times = data.event_id.unique()\n",
    "    g = sns.FacetGrid(data, col=\"trace_id\", hue=\"Attribute\",\n",
    "                      palette=\"Set3\", height=4, aspect=2)\n",
    "    g.map(sns.barplot, 'event_id', 'Anomaly Score', order=times)\n",
    "    g.add_legend()\n",
    "    ax1 = g.axes[0][0]\n",
    "    g.set_titles(col_template=\"\", row_template=\"\")\n",
    "    g.set_axis_labels('')\n",
    "    ax1.axhline(0.98, ls='--')\n",
    "    for ax in g.axes.flat:\n",
    "\n",
    "        ax.set_xticklabels([f'e{y+1}' for x in range(5) for y in range(len(data)//5)], rotation=50,fontsize=11) # set new labels\n",
    "    plt.show()"
   ]
  },
  {
   "cell_type": "code",
   "execution_count": null,
   "id": "68b81aec",
   "metadata": {},
   "outputs": [],
   "source": [
    "plot_anomaly_scores(1)"
   ]
  },
  {
   "cell_type": "code",
   "execution_count": null,
   "id": "d27ec6ea",
   "metadata": {},
   "outputs": [],
   "source": [
    "plot_anomaly_scores(6)"
   ]
  },
  {
   "cell_type": "code",
   "execution_count": null,
   "id": "c28d1ce0",
   "metadata": {},
   "outputs": [],
   "source": []
  }
 ],
 "metadata": {
  "kernelspec": {
   "display_name": "dapnn",
   "language": "python",
   "name": "dapnn"
  }
 },
 "nbformat": 4,
 "nbformat_minor": 5
}
