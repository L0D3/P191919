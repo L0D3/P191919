{
 "cells": [
  {
   "cell_type": "markdown",
   "id": "deb51ef3",
   "metadata": {},
   "source": [
    "# Latex Export\n",
    ">  Covers some additional latex exports."
   ]
  },
  {
   "cell_type": "code",
   "execution_count": null,
   "id": "8117d2cd",
   "metadata": {},
   "outputs": [],
   "source": [
    "%load_ext autoreload\n",
    "%autoreload 2\n",
    "%matplotlib inline"
   ]
  }
 ],
 "metadata": {
  "kernelspec": {
   "display_name": "Python 3",
   "language": "python",
   "name": "python3"
  }
 },
 "nbformat": 4,
 "nbformat_minor": 5
}
