{
 "cells": [
  {
   "cell_type": "code",
   "execution_count": null,
   "id": "4e483b36",
   "metadata": {},
   "outputs": [],
   "source": [
    "#defaults training"
   ]
  },
  {
   "cell_type": "markdown",
   "id": "778860cc",
   "metadata": {},
   "source": [
    "# Model Training\n",
    ">  Includes the training phase of the neural networks for all datasets."
   ]
  },
  {
   "cell_type": "code",
   "execution_count": null,
   "id": "4c38364f",
   "metadata": {},
   "outputs": [],
   "source": [
    "%load_ext autoreload\n",
    "%autoreload 2\n",
    "%matplotlib inline"
   ]
  },
  {
   "cell_type": "code",
   "execution_count": null,
   "id": "cf5155e7",
   "metadata": {},
   "outputs": [],
   "source": []
  }
 ],
 "metadata": {
  "kernelspec": {
   "display_name": "dapnn",
   "language": "python",
   "name": "dapnn"
  }
 },
 "nbformat": 4,
 "nbformat_minor": 5
}
