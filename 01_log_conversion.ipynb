{
 "cells": [
  {
   "cell_type": "code",
   "execution_count": null,
   "id": "59f831b1",
   "metadata": {},
   "outputs": [],
   "source": [
    "#default_exp conversion"
   ]
  },
  {
   "cell_type": "markdown",
   "id": "cd1dfa57",
   "metadata": {},
   "source": [
    "# Log Conversion\n",
    "\n",
    "> Converts the event logs into csv format to make it easier to load them"
   ]
  },
  {
   "cell_type": "code",
   "execution_count": null,
   "id": "5d2ece00",
   "metadata": {},
   "outputs": [
    {
     "name": "stdout",
     "output_type": "stream",
     "text": [
      "The autoreload extension is already loaded. To reload it, use:\n",
      "  %reload_ext autoreload\n"
     ]
    }
   ],
   "source": [
    "%load_ext autoreload\n",
    "%autoreload 2\n",
    "%matplotlib inline"
   ]
  },
  {
   "cell_type": "code",
   "execution_count": null,
   "id": "726e9cef",
   "metadata": {},
   "outputs": [],
   "source": []
  }
 ],
 "metadata": {
  "kernelspec": {
   "display_name": "mppn",
   "language": "python",
   "name": "mppn"
  }
 },
 "nbformat": 4,
 "nbformat_minor": 5
}
