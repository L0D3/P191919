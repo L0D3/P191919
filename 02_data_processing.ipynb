{
 "cells": [
  {
   "cell_type": "code",
   "execution_count": null,
   "id": "cc71d8fc",
   "metadata": {},
   "outputs": [],
   "source": [
    "#default_exp processing"
   ]
  },
  {
   "cell_type": "markdown",
   "id": "5fb36193",
   "metadata": {},
   "source": [
    "# Data Processing\n",
    "> Handles the processing, including encoding of attributes, creation of sliding windows, adding of start and end events, generation of data loaders."
   ]
  },
  {
   "cell_type": "code",
   "execution_count": null,
   "id": "7557560f",
   "metadata": {},
   "outputs": [],
   "source": [
    "%load_ext autoreload\n",
    "%autoreload 2\n",
    "%matplotlib inline"
   ]
  }
 ],
 "metadata": {
  "kernelspec": {
   "display_name": "Python 3",
   "language": "python",
   "name": "python3"
  }
 },
 "nbformat": 4,
 "nbformat_minor": 5
}
