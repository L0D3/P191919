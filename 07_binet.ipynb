{
 "cells": [
  {
   "cell_type": "code",
   "execution_count": null,
   "id": "8c3f69b6",
   "metadata": {},
   "outputs": [],
   "source": [
    "#defaults binet_data"
   ]
  },
  {
   "cell_type": "markdown",
   "id": "e3eac972",
   "metadata": {},
   "source": [
    "# Binet Data Analysis\n",
    ">  Includes the analysis for the Binet event logs, including the synthetic data sets and the BPIC"
   ]
  },
  {
   "cell_type": "code",
   "execution_count": null,
   "id": "4337bc6e",
   "metadata": {},
   "outputs": [],
   "source": [
    "%load_ext autoreload\n",
    "%autoreload 2\n",
    "%matplotlib inline"
   ]
  }
 ],
 "metadata": {
  "kernelspec": {
   "display_name": "Python 3",
   "language": "python",
   "name": "python3"
  }
 },
 "nbformat": 4,
 "nbformat_minor": 5
}
