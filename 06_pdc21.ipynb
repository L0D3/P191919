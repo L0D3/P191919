{
 "cells": [
  {
   "cell_type": "code",
   "execution_count": null,
   "id": "565c4beb",
   "metadata": {},
   "outputs": [],
   "source": [
    "#defaults pdc22"
   ]
  },
  {
   "cell_type": "markdown",
   "id": "b4abc917",
   "metadata": {},
   "source": [
    "# PDC 2021 Analysis\n",
    ">  Includes the analysis for the PDC 2021 event logs."
   ]
  },
  {
   "cell_type": "code",
   "execution_count": null,
   "id": "e54cf2f4",
   "metadata": {},
   "outputs": [],
   "source": [
    "%load_ext autoreload\n",
    "%autoreload 2\n",
    "%matplotlib inline"
   ]
  }
 ],
 "metadata": {
  "kernelspec": {
   "display_name": "Python 3",
   "language": "python",
   "name": "python3"
  }
 },
 "nbformat": 4,
 "nbformat_minor": 5
}
